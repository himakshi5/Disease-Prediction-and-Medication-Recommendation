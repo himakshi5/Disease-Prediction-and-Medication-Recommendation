{
 "cells": [
  {
   "cell_type": "code",
   "execution_count": 1,
   "id": "d6de19dd",
   "metadata": {},
   "outputs": [],
   "source": [
    "import numpy as np\n",
    "import pandas as pd"
   ]
  },
  {
   "cell_type": "code",
   "execution_count": 2,
   "id": "9da70013",
   "metadata": {},
   "outputs": [
    {
     "data": {
      "text/html": [
       "<div>\n",
       "<style scoped>\n",
       "    .dataframe tbody tr th:only-of-type {\n",
       "        vertical-align: middle;\n",
       "    }\n",
       "\n",
       "    .dataframe tbody tr th {\n",
       "        vertical-align: top;\n",
       "    }\n",
       "\n",
       "    .dataframe thead th {\n",
       "        text-align: right;\n",
       "    }\n",
       "</style>\n",
       "<table border=\"1\" class=\"dataframe\">\n",
       "  <thead>\n",
       "    <tr style=\"text-align: right;\">\n",
       "      <th></th>\n",
       "      <th>Name</th>\n",
       "      <th>DateOfBirth</th>\n",
       "      <th>Gender</th>\n",
       "      <th>Symptoms</th>\n",
       "      <th>Causes</th>\n",
       "      <th>Disease</th>\n",
       "      <th>Medicine</th>\n",
       "    </tr>\n",
       "  </thead>\n",
       "  <tbody>\n",
       "    <tr>\n",
       "      <th>0</th>\n",
       "      <td>John Doe</td>\n",
       "      <td>15-05-1980</td>\n",
       "      <td>Male</td>\n",
       "      <td>Fever, Cough</td>\n",
       "      <td>Viral Infection</td>\n",
       "      <td>Common Cold</td>\n",
       "      <td>Ibuprofen, Rest</td>\n",
       "    </tr>\n",
       "    <tr>\n",
       "      <th>1</th>\n",
       "      <td>Jane Smith</td>\n",
       "      <td>10-08-1992</td>\n",
       "      <td>Female</td>\n",
       "      <td>Headache, Fatigue</td>\n",
       "      <td>Stress</td>\n",
       "      <td>Migraine</td>\n",
       "      <td>Sumatriptan</td>\n",
       "    </tr>\n",
       "    <tr>\n",
       "      <th>2</th>\n",
       "      <td>Michael Lee</td>\n",
       "      <td>20-02-1975</td>\n",
       "      <td>Male</td>\n",
       "      <td>Shortness of breath</td>\n",
       "      <td>Pollution</td>\n",
       "      <td>Asthma</td>\n",
       "      <td>Albuterol Inhaler</td>\n",
       "    </tr>\n",
       "    <tr>\n",
       "      <th>3</th>\n",
       "      <td>Emily Chen</td>\n",
       "      <td>03-11-1988</td>\n",
       "      <td>Female</td>\n",
       "      <td>Nausea, Vomiting</td>\n",
       "      <td>Food Poisoning</td>\n",
       "      <td>Gastroenteritis</td>\n",
       "      <td>Oral Rehydration</td>\n",
       "    </tr>\n",
       "    <tr>\n",
       "      <th>4</th>\n",
       "      <td>Alex Wong</td>\n",
       "      <td>12-06-2001</td>\n",
       "      <td>Male</td>\n",
       "      <td>Sore Throat</td>\n",
       "      <td>Bacterial Infection</td>\n",
       "      <td>Strep Throat</td>\n",
       "      <td>Penicillin</td>\n",
       "    </tr>\n",
       "    <tr>\n",
       "      <th>...</th>\n",
       "      <td>...</td>\n",
       "      <td>...</td>\n",
       "      <td>...</td>\n",
       "      <td>...</td>\n",
       "      <td>...</td>\n",
       "      <td>...</td>\n",
       "      <td>...</td>\n",
       "    </tr>\n",
       "    <tr>\n",
       "      <th>282</th>\n",
       "      <td>Ava Lim</td>\n",
       "      <td>11-07-1993</td>\n",
       "      <td>Female</td>\n",
       "      <td>Cough, Shortness of breath</td>\n",
       "      <td>COVID-19 Exposure</td>\n",
       "      <td>COVID-19</td>\n",
       "      <td>Isolation, Fluids</td>\n",
       "    </tr>\n",
       "    <tr>\n",
       "      <th>283</th>\n",
       "      <td>Liam Goh</td>\n",
       "      <td>16-09-1987</td>\n",
       "      <td>Male</td>\n",
       "      <td>Itching, Redness</td>\n",
       "      <td>Allergies</td>\n",
       "      <td>Allergic Reaction An</td>\n",
       "      <td>tihistamine</td>\n",
       "    </tr>\n",
       "    <tr>\n",
       "      <th>284</th>\n",
       "      <td>Sophie Tan</td>\n",
       "      <td>18-02-1975</td>\n",
       "      <td>Female</td>\n",
       "      <td>Muscle Pain, Fatigue</td>\n",
       "      <td>Overexertion</td>\n",
       "      <td>Muscle Strain</td>\n",
       "      <td>Rest, Pain Relievers</td>\n",
       "    </tr>\n",
       "    <tr>\n",
       "      <th>285</th>\n",
       "      <td>Noah Lim</td>\n",
       "      <td>21-05-2005</td>\n",
       "      <td>Male</td>\n",
       "      <td>Nausea, Vomiting</td>\n",
       "      <td>Food Poisoning</td>\n",
       "      <td>Muscle Strain</td>\n",
       "      <td>Rehydration</td>\n",
       "    </tr>\n",
       "    <tr>\n",
       "      <th>286</th>\n",
       "      <td>Ella Wong</td>\n",
       "      <td>05-10-1999</td>\n",
       "      <td>Female</td>\n",
       "      <td>Headache, Blurred Vision</td>\n",
       "      <td>Eye Strain</td>\n",
       "      <td>Muscle Strain</td>\n",
       "      <td>Eye Exercises</td>\n",
       "    </tr>\n",
       "  </tbody>\n",
       "</table>\n",
       "<p>287 rows × 7 columns</p>\n",
       "</div>"
      ],
      "text/plain": [
       "            Name DateOfBirth  Gender                    Symptoms  \\\n",
       "0       John Doe  15-05-1980    Male                Fever, Cough   \n",
       "1     Jane Smith  10-08-1992  Female           Headache, Fatigue   \n",
       "2    Michael Lee  20-02-1975    Male         Shortness of breath   \n",
       "3     Emily Chen  03-11-1988  Female            Nausea, Vomiting   \n",
       "4      Alex Wong  12-06-2001    Male                 Sore Throat   \n",
       "..           ...         ...     ...                         ...   \n",
       "282      Ava Lim  11-07-1993  Female  Cough, Shortness of breath   \n",
       "283     Liam Goh  16-09-1987    Male            Itching, Redness   \n",
       "284   Sophie Tan  18-02-1975  Female        Muscle Pain, Fatigue   \n",
       "285     Noah Lim  21-05-2005    Male            Nausea, Vomiting   \n",
       "286    Ella Wong  05-10-1999  Female    Headache, Blurred Vision   \n",
       "\n",
       "                   Causes               Disease               Medicine  \n",
       "0         Viral Infection           Common Cold        Ibuprofen, Rest  \n",
       "1                  Stress              Migraine            Sumatriptan  \n",
       "2               Pollution                Asthma      Albuterol Inhaler  \n",
       "3          Food Poisoning       Gastroenteritis       Oral Rehydration  \n",
       "4     Bacterial Infection          Strep Throat             Penicillin  \n",
       "..                    ...                   ...                    ...  \n",
       "282  COVID-19 Exposure           COVID-19            Isolation, Fluids  \n",
       "283  Allergies             Allergic Reaction An            tihistamine  \n",
       "284  Overexertion               Muscle Strain     Rest, Pain Relievers  \n",
       "285      Food Poisoning         Muscle Strain              Rehydration  \n",
       "286  Eye Strain                 Muscle Strain            Eye Exercises  \n",
       "\n",
       "[287 rows x 7 columns]"
      ]
     },
     "execution_count": 2,
     "metadata": {},
     "output_type": "execute_result"
    }
   ],
   "source": [
    "df = pd.read_csv(r\"Your file path\")\n",
    "df"
   ]
  },
  {
   "cell_type": "code",
   "execution_count": 3,
   "id": "ce4d09f4",
   "metadata": {},
   "outputs": [
    {
     "data": {
      "text/plain": [
       "Index(['Name', 'DateOfBirth', 'Gender', 'Symptoms', 'Causes', 'Disease',\n",
       "       'Medicine'],\n",
       "      dtype='object')"
      ]
     },
     "execution_count": 3,
     "metadata": {},
     "output_type": "execute_result"
    }
   ],
   "source": [
    "df.columns"
   ]
  },
  {
   "cell_type": "code",
   "execution_count": 4,
   "id": "cb033a6a",
   "metadata": {},
   "outputs": [
    {
     "name": "stdout",
     "output_type": "stream",
     "text": [
      "<class 'pandas.core.frame.DataFrame'>\n",
      "RangeIndex: 287 entries, 0 to 286\n",
      "Data columns (total 7 columns):\n",
      " #   Column       Non-Null Count  Dtype \n",
      "---  ------       --------------  ----- \n",
      " 0   Name         241 non-null    object\n",
      " 1   DateOfBirth  241 non-null    object\n",
      " 2   Gender       242 non-null    object\n",
      " 3   Symptoms     247 non-null    object\n",
      " 4   Causes       245 non-null    object\n",
      " 5   Disease      249 non-null    object\n",
      " 6   Medicine     242 non-null    object\n",
      "dtypes: object(7)\n",
      "memory usage: 15.8+ KB\n"
     ]
    }
   ],
   "source": [
    "df.info()"
   ]
  },
  {
   "cell_type": "code",
   "execution_count": 5,
   "id": "7a1706a8",
   "metadata": {},
   "outputs": [
    {
     "data": {
      "text/plain": [
       "Name           46\n",
       "DateOfBirth    46\n",
       "Gender         45\n",
       "Symptoms       40\n",
       "Causes         42\n",
       "Disease        38\n",
       "Medicine       45\n",
       "dtype: int64"
      ]
     },
     "execution_count": 5,
     "metadata": {},
     "output_type": "execute_result"
    }
   ],
   "source": [
    "df.isnull().sum()"
   ]
  },
  {
   "cell_type": "code",
   "execution_count": 6,
   "id": "da698260",
   "metadata": {},
   "outputs": [],
   "source": [
    "missing_values = df.isnull().sum()"
   ]
  },
  {
   "cell_type": "code",
   "execution_count": 7,
   "id": "82e39494",
   "metadata": {},
   "outputs": [
    {
     "name": "stderr",
     "output_type": "stream",
     "text": [
      "C:\\Users\\ragha\\AppData\\Local\\Temp\\ipykernel_25156\\3951433367.py:1: UserWarning: Parsing '15-05-1980' in DD/MM/YYYY format. Provide format or specify infer_datetime_format=True for consistent parsing.\n",
      "  df['DateOfBirth'] = pd.to_datetime(df['DateOfBirth'], errors='coerce')\n",
      "C:\\Users\\ragha\\AppData\\Local\\Temp\\ipykernel_25156\\3951433367.py:1: UserWarning: Parsing '20-02-1975' in DD/MM/YYYY format. Provide format or specify infer_datetime_format=True for consistent parsing.\n",
      "  df['DateOfBirth'] = pd.to_datetime(df['DateOfBirth'], errors='coerce')\n",
      "C:\\Users\\ragha\\AppData\\Local\\Temp\\ipykernel_25156\\3951433367.py:1: UserWarning: Parsing '25-03-1972' in DD/MM/YYYY format. Provide format or specify infer_datetime_format=True for consistent parsing.\n",
      "  df['DateOfBirth'] = pd.to_datetime(df['DateOfBirth'], errors='coerce')\n",
      "C:\\Users\\ragha\\AppData\\Local\\Temp\\ipykernel_25156\\3951433367.py:1: UserWarning: Parsing '18-09-1995' in DD/MM/YYYY format. Provide format or specify infer_datetime_format=True for consistent parsing.\n",
      "  df['DateOfBirth'] = pd.to_datetime(df['DateOfBirth'], errors='coerce')\n",
      "C:\\Users\\ragha\\AppData\\Local\\Temp\\ipykernel_25156\\3951433367.py:1: UserWarning: Parsing '30-04-1998' in DD/MM/YYYY format. Provide format or specify infer_datetime_format=True for consistent parsing.\n",
      "  df['DateOfBirth'] = pd.to_datetime(df['DateOfBirth'], errors='coerce')\n",
      "C:\\Users\\ragha\\AppData\\Local\\Temp\\ipykernel_25156\\3951433367.py:1: UserWarning: Parsing '22-10-1978' in DD/MM/YYYY format. Provide format or specify infer_datetime_format=True for consistent parsing.\n",
      "  df['DateOfBirth'] = pd.to_datetime(df['DateOfBirth'], errors='coerce')\n",
      "C:\\Users\\ragha\\AppData\\Local\\Temp\\ipykernel_25156\\3951433367.py:1: UserWarning: Parsing '14-01-2005' in DD/MM/YYYY format. Provide format or specify infer_datetime_format=True for consistent parsing.\n",
      "  df['DateOfBirth'] = pd.to_datetime(df['DateOfBirth'], errors='coerce')\n",
      "C:\\Users\\ragha\\AppData\\Local\\Temp\\ipykernel_25156\\3951433367.py:1: UserWarning: Parsing '19-07-1990' in DD/MM/YYYY format. Provide format or specify infer_datetime_format=True for consistent parsing.\n",
      "  df['DateOfBirth'] = pd.to_datetime(df['DateOfBirth'], errors='coerce')\n",
      "C:\\Users\\ragha\\AppData\\Local\\Temp\\ipykernel_25156\\3951433367.py:1: UserWarning: Parsing '25-04-1986' in DD/MM/YYYY format. Provide format or specify infer_datetime_format=True for consistent parsing.\n",
      "  df['DateOfBirth'] = pd.to_datetime(df['DateOfBirth'], errors='coerce')\n",
      "C:\\Users\\ragha\\AppData\\Local\\Temp\\ipykernel_25156\\3951433367.py:1: UserWarning: Parsing '17-11-1993' in DD/MM/YYYY format. Provide format or specify infer_datetime_format=True for consistent parsing.\n",
      "  df['DateOfBirth'] = pd.to_datetime(df['DateOfBirth'], errors='coerce')\n",
      "C:\\Users\\ragha\\AppData\\Local\\Temp\\ipykernel_25156\\3951433367.py:1: UserWarning: Parsing '28-05-1989' in DD/MM/YYYY format. Provide format or specify infer_datetime_format=True for consistent parsing.\n",
      "  df['DateOfBirth'] = pd.to_datetime(df['DateOfBirth'], errors='coerce')\n",
      "C:\\Users\\ragha\\AppData\\Local\\Temp\\ipykernel_25156\\3951433367.py:1: UserWarning: Parsing '16-07-1974' in DD/MM/YYYY format. Provide format or specify infer_datetime_format=True for consistent parsing.\n",
      "  df['DateOfBirth'] = pd.to_datetime(df['DateOfBirth'], errors='coerce')\n",
      "C:\\Users\\ragha\\AppData\\Local\\Temp\\ipykernel_25156\\3951433367.py:1: UserWarning: Parsing '30-09-1984' in DD/MM/YYYY format. Provide format or specify infer_datetime_format=True for consistent parsing.\n",
      "  df['DateOfBirth'] = pd.to_datetime(df['DateOfBirth'], errors='coerce')\n",
      "C:\\Users\\ragha\\AppData\\Local\\Temp\\ipykernel_25156\\3951433367.py:1: UserWarning: Parsing '19-10-1987' in DD/MM/YYYY format. Provide format or specify infer_datetime_format=True for consistent parsing.\n",
      "  df['DateOfBirth'] = pd.to_datetime(df['DateOfBirth'], errors='coerce')\n",
      "C:\\Users\\ragha\\AppData\\Local\\Temp\\ipykernel_25156\\3951433367.py:1: UserWarning: Parsing '14-12-2001' in DD/MM/YYYY format. Provide format or specify infer_datetime_format=True for consistent parsing.\n",
      "  df['DateOfBirth'] = pd.to_datetime(df['DateOfBirth'], errors='coerce')\n",
      "C:\\Users\\ragha\\AppData\\Local\\Temp\\ipykernel_25156\\3951433367.py:1: UserWarning: Parsing '26-08-1977' in DD/MM/YYYY format. Provide format or specify infer_datetime_format=True for consistent parsing.\n",
      "  df['DateOfBirth'] = pd.to_datetime(df['DateOfBirth'], errors='coerce')\n",
      "C:\\Users\\ragha\\AppData\\Local\\Temp\\ipykernel_25156\\3951433367.py:1: UserWarning: Parsing '30-11-1980' in DD/MM/YYYY format. Provide format or specify infer_datetime_format=True for consistent parsing.\n",
      "  df['DateOfBirth'] = pd.to_datetime(df['DateOfBirth'], errors='coerce')\n",
      "C:\\Users\\ragha\\AppData\\Local\\Temp\\ipykernel_25156\\3951433367.py:1: UserWarning: Parsing '16-09-1988' in DD/MM/YYYY format. Provide format or specify infer_datetime_format=True for consistent parsing.\n",
      "  df['DateOfBirth'] = pd.to_datetime(df['DateOfBirth'], errors='coerce')\n",
      "C:\\Users\\ragha\\AppData\\Local\\Temp\\ipykernel_25156\\3951433367.py:1: UserWarning: Parsing '18-02-1975' in DD/MM/YYYY format. Provide format or specify infer_datetime_format=True for consistent parsing.\n",
      "  df['DateOfBirth'] = pd.to_datetime(df['DateOfBirth'], errors='coerce')\n",
      "C:\\Users\\ragha\\AppData\\Local\\Temp\\ipykernel_25156\\3951433367.py:1: UserWarning: Parsing '21-05-2004' in DD/MM/YYYY format. Provide format or specify infer_datetime_format=True for consistent parsing.\n",
      "  df['DateOfBirth'] = pd.to_datetime(df['DateOfBirth'], errors='coerce')\n",
      "C:\\Users\\ragha\\AppData\\Local\\Temp\\ipykernel_25156\\3951433367.py:1: UserWarning: Parsing '14-08-1986' in DD/MM/YYYY format. Provide format or specify infer_datetime_format=True for consistent parsing.\n",
      "  df['DateOfBirth'] = pd.to_datetime(df['DateOfBirth'], errors='coerce')\n",
      "C:\\Users\\ragha\\AppData\\Local\\Temp\\ipykernel_25156\\3951433367.py:1: UserWarning: Parsing '25-01-1973' in DD/MM/YYYY format. Provide format or specify infer_datetime_format=True for consistent parsing.\n",
      "  df['DateOfBirth'] = pd.to_datetime(df['DateOfBirth'], errors='coerce')\n",
      "C:\\Users\\ragha\\AppData\\Local\\Temp\\ipykernel_25156\\3951433367.py:1: UserWarning: Parsing '28-06-1983' in DD/MM/YYYY format. Provide format or specify infer_datetime_format=True for consistent parsing.\n",
      "  df['DateOfBirth'] = pd.to_datetime(df['DateOfBirth'], errors='coerce')\n",
      "C:\\Users\\ragha\\AppData\\Local\\Temp\\ipykernel_25156\\3951433367.py:1: UserWarning: Parsing '17-03-2002' in DD/MM/YYYY format. Provide format or specify infer_datetime_format=True for consistent parsing.\n",
      "  df['DateOfBirth'] = pd.to_datetime(df['DateOfBirth'], errors='coerce')\n",
      "C:\\Users\\ragha\\AppData\\Local\\Temp\\ipykernel_25156\\3951433367.py:1: UserWarning: Parsing '26-04-1989' in DD/MM/YYYY format. Provide format or specify infer_datetime_format=True for consistent parsing.\n",
      "  df['DateOfBirth'] = pd.to_datetime(df['DateOfBirth'], errors='coerce')\n",
      "C:\\Users\\ragha\\AppData\\Local\\Temp\\ipykernel_25156\\3951433367.py:1: UserWarning: Parsing '13-07-1998' in DD/MM/YYYY format. Provide format or specify infer_datetime_format=True for consistent parsing.\n",
      "  df['DateOfBirth'] = pd.to_datetime(df['DateOfBirth'], errors='coerce')\n",
      "C:\\Users\\ragha\\AppData\\Local\\Temp\\ipykernel_25156\\3951433367.py:1: UserWarning: Parsing '29-11-1976' in DD/MM/YYYY format. Provide format or specify infer_datetime_format=True for consistent parsing.\n",
      "  df['DateOfBirth'] = pd.to_datetime(df['DateOfBirth'], errors='coerce')\n",
      "C:\\Users\\ragha\\AppData\\Local\\Temp\\ipykernel_25156\\3951433367.py:1: UserWarning: Parsing '18-02-1999' in DD/MM/YYYY format. Provide format or specify infer_datetime_format=True for consistent parsing.\n",
      "  df['DateOfBirth'] = pd.to_datetime(df['DateOfBirth'], errors='coerce')\n",
      "C:\\Users\\ragha\\AppData\\Local\\Temp\\ipykernel_25156\\3951433367.py:1: UserWarning: Parsing '14-03-1984' in DD/MM/YYYY format. Provide format or specify infer_datetime_format=True for consistent parsing.\n",
      "  df['DateOfBirth'] = pd.to_datetime(df['DateOfBirth'], errors='coerce')\n",
      "C:\\Users\\ragha\\AppData\\Local\\Temp\\ipykernel_25156\\3951433367.py:1: UserWarning: Parsing '22-09-1997' in DD/MM/YYYY format. Provide format or specify infer_datetime_format=True for consistent parsing.\n",
      "  df['DateOfBirth'] = pd.to_datetime(df['DateOfBirth'], errors='coerce')\n",
      "C:\\Users\\ragha\\AppData\\Local\\Temp\\ipykernel_25156\\3951433367.py:1: UserWarning: Parsing '28-04-1989' in DD/MM/YYYY format. Provide format or specify infer_datetime_format=True for consistent parsing.\n",
      "  df['DateOfBirth'] = pd.to_datetime(df['DateOfBirth'], errors='coerce')\n",
      "C:\\Users\\ragha\\AppData\\Local\\Temp\\ipykernel_25156\\3951433367.py:1: UserWarning: Parsing '15-03-1981' in DD/MM/YYYY format. Provide format or specify infer_datetime_format=True for consistent parsing.\n",
      "  df['DateOfBirth'] = pd.to_datetime(df['DateOfBirth'], errors='coerce')\n",
      "C:\\Users\\ragha\\AppData\\Local\\Temp\\ipykernel_25156\\3951433367.py:1: UserWarning: Parsing '29-07-2003' in DD/MM/YYYY format. Provide format or specify infer_datetime_format=True for consistent parsing.\n",
      "  df['DateOfBirth'] = pd.to_datetime(df['DateOfBirth'], errors='coerce')\n",
      "C:\\Users\\ragha\\AppData\\Local\\Temp\\ipykernel_25156\\3951433367.py:1: UserWarning: Parsing '28-11-1987' in DD/MM/YYYY format. Provide format or specify infer_datetime_format=True for consistent parsing.\n",
      "  df['DateOfBirth'] = pd.to_datetime(df['DateOfBirth'], errors='coerce')\n",
      "C:\\Users\\ragha\\AppData\\Local\\Temp\\ipykernel_25156\\3951433367.py:1: UserWarning: Parsing '15-09-1978' in DD/MM/YYYY format. Provide format or specify infer_datetime_format=True for consistent parsing.\n",
      "  df['DateOfBirth'] = pd.to_datetime(df['DateOfBirth'], errors='coerce')\n",
      "C:\\Users\\ragha\\AppData\\Local\\Temp\\ipykernel_25156\\3951433367.py:1: UserWarning: Parsing '19-05-1984' in DD/MM/YYYY format. Provide format or specify infer_datetime_format=True for consistent parsing.\n",
      "  df['DateOfBirth'] = pd.to_datetime(df['DateOfBirth'], errors='coerce')\n",
      "C:\\Users\\ragha\\AppData\\Local\\Temp\\ipykernel_25156\\3951433367.py:1: UserWarning: Parsing '22-08-1997' in DD/MM/YYYY format. Provide format or specify infer_datetime_format=True for consistent parsing.\n",
      "  df['DateOfBirth'] = pd.to_datetime(df['DateOfBirth'], errors='coerce')\n",
      "C:\\Users\\ragha\\AppData\\Local\\Temp\\ipykernel_25156\\3951433367.py:1: UserWarning: Parsing '26-07-1976' in DD/MM/YYYY format. Provide format or specify infer_datetime_format=True for consistent parsing.\n",
      "  df['DateOfBirth'] = pd.to_datetime(df['DateOfBirth'], errors='coerce')\n",
      "C:\\Users\\ragha\\AppData\\Local\\Temp\\ipykernel_25156\\3951433367.py:1: UserWarning: Parsing '18-10-1995' in DD/MM/YYYY format. Provide format or specify infer_datetime_format=True for consistent parsing.\n",
      "  df['DateOfBirth'] = pd.to_datetime(df['DateOfBirth'], errors='coerce')\n",
      "C:\\Users\\ragha\\AppData\\Local\\Temp\\ipykernel_25156\\3951433367.py:1: UserWarning: Parsing '15-03-1980' in DD/MM/YYYY format. Provide format or specify infer_datetime_format=True for consistent parsing.\n",
      "  df['DateOfBirth'] = pd.to_datetime(df['DateOfBirth'], errors='coerce')\n",
      "C:\\Users\\ragha\\AppData\\Local\\Temp\\ipykernel_25156\\3951433367.py:1: UserWarning: Parsing '16-09-1987' in DD/MM/YYYY format. Provide format or specify infer_datetime_format=True for consistent parsing.\n",
      "  df['DateOfBirth'] = pd.to_datetime(df['DateOfBirth'], errors='coerce')\n",
      "C:\\Users\\ragha\\AppData\\Local\\Temp\\ipykernel_25156\\3951433367.py:1: UserWarning: Parsing '21-05-2005' in DD/MM/YYYY format. Provide format or specify infer_datetime_format=True for consistent parsing.\n",
      "  df['DateOfBirth'] = pd.to_datetime(df['DateOfBirth'], errors='coerce')\n",
      "C:\\Users\\ragha\\AppData\\Local\\Temp\\ipykernel_25156\\3951433367.py:1: UserWarning: Parsing '25-01-1971' in DD/MM/YYYY format. Provide format or specify infer_datetime_format=True for consistent parsing.\n",
      "  df['DateOfBirth'] = pd.to_datetime(df['DateOfBirth'], errors='coerce')\n",
      "C:\\Users\\ragha\\AppData\\Local\\Temp\\ipykernel_25156\\3951433367.py:1: UserWarning: Parsing '28-06-1985' in DD/MM/YYYY format. Provide format or specify infer_datetime_format=True for consistent parsing.\n",
      "  df['DateOfBirth'] = pd.to_datetime(df['DateOfBirth'], errors='coerce')\n",
      "C:\\Users\\ragha\\AppData\\Local\\Temp\\ipykernel_25156\\3951433367.py:1: UserWarning: Parsing '17-03-2003' in DD/MM/YYYY format. Provide format or specify infer_datetime_format=True for consistent parsing.\n",
      "  df['DateOfBirth'] = pd.to_datetime(df['DateOfBirth'], errors='coerce')\n",
      "C:\\Users\\ragha\\AppData\\Local\\Temp\\ipykernel_25156\\3951433367.py:1: UserWarning: Parsing '26-04-1990' in DD/MM/YYYY format. Provide format or specify infer_datetime_format=True for consistent parsing.\n",
      "  df['DateOfBirth'] = pd.to_datetime(df['DateOfBirth'], errors='coerce')\n",
      "C:\\Users\\ragha\\AppData\\Local\\Temp\\ipykernel_25156\\3951433367.py:1: UserWarning: Parsing '13-07-1999' in DD/MM/YYYY format. Provide format or specify infer_datetime_format=True for consistent parsing.\n",
      "  df['DateOfBirth'] = pd.to_datetime(df['DateOfBirth'], errors='coerce')\n",
      "C:\\Users\\ragha\\AppData\\Local\\Temp\\ipykernel_25156\\3951433367.py:1: UserWarning: Parsing '29-11-1977' in DD/MM/YYYY format. Provide format or specify infer_datetime_format=True for consistent parsing.\n",
      "  df['DateOfBirth'] = pd.to_datetime(df['DateOfBirth'], errors='coerce')\n",
      "C:\\Users\\ragha\\AppData\\Local\\Temp\\ipykernel_25156\\3951433367.py:1: UserWarning: Parsing '18-02-1998' in DD/MM/YYYY format. Provide format or specify infer_datetime_format=True for consistent parsing.\n",
      "  df['DateOfBirth'] = pd.to_datetime(df['DateOfBirth'], errors='coerce')\n",
      "C:\\Users\\ragha\\AppData\\Local\\Temp\\ipykernel_25156\\3951433367.py:1: UserWarning: Parsing '16-09-1989' in DD/MM/YYYY format. Provide format or specify infer_datetime_format=True for consistent parsing.\n",
      "  df['DateOfBirth'] = pd.to_datetime(df['DateOfBirth'], errors='coerce')\n",
      "C:\\Users\\ragha\\AppData\\Local\\Temp\\ipykernel_25156\\3951433367.py:1: UserWarning: Parsing '18-02-1978' in DD/MM/YYYY format. Provide format or specify infer_datetime_format=True for consistent parsing.\n",
      "  df['DateOfBirth'] = pd.to_datetime(df['DateOfBirth'], errors='coerce')\n",
      "C:\\Users\\ragha\\AppData\\Local\\Temp\\ipykernel_25156\\3951433367.py:1: UserWarning: Parsing '14-08-1984' in DD/MM/YYYY format. Provide format or specify infer_datetime_format=True for consistent parsing.\n",
      "  df['DateOfBirth'] = pd.to_datetime(df['DateOfBirth'], errors='coerce')\n",
      "C:\\Users\\ragha\\AppData\\Local\\Temp\\ipykernel_25156\\3951433367.py:1: UserWarning: Parsing '25-01-1972' in DD/MM/YYYY format. Provide format or specify infer_datetime_format=True for consistent parsing.\n",
      "  df['DateOfBirth'] = pd.to_datetime(df['DateOfBirth'], errors='coerce')\n",
      "C:\\Users\\ragha\\AppData\\Local\\Temp\\ipykernel_25156\\3951433367.py:1: UserWarning: Parsing '28-06-1984' in DD/MM/YYYY format. Provide format or specify infer_datetime_format=True for consistent parsing.\n",
      "  df['DateOfBirth'] = pd.to_datetime(df['DateOfBirth'], errors='coerce')\n",
      "C:\\Users\\ragha\\AppData\\Local\\Temp\\ipykernel_25156\\3951433367.py:1: UserWarning: Parsing '17-03-2001' in DD/MM/YYYY format. Provide format or specify infer_datetime_format=True for consistent parsing.\n",
      "  df['DateOfBirth'] = pd.to_datetime(df['DateOfBirth'], errors='coerce')\n",
      "C:\\Users\\ragha\\AppData\\Local\\Temp\\ipykernel_25156\\3951433367.py:1: UserWarning: Parsing '26-04-1995' in DD/MM/YYYY format. Provide format or specify infer_datetime_format=True for consistent parsing.\n",
      "  df['DateOfBirth'] = pd.to_datetime(df['DateOfBirth'], errors='coerce')\n",
      "C:\\Users\\ragha\\AppData\\Local\\Temp\\ipykernel_25156\\3951433367.py:1: UserWarning: Parsing '13-07-1990' in DD/MM/YYYY format. Provide format or specify infer_datetime_format=True for consistent parsing.\n",
      "  df['DateOfBirth'] = pd.to_datetime(df['DateOfBirth'], errors='coerce')\n",
      "C:\\Users\\ragha\\AppData\\Local\\Temp\\ipykernel_25156\\3951433367.py:1: UserWarning: Parsing '29-11-1979' in DD/MM/YYYY format. Provide format or specify infer_datetime_format=True for consistent parsing.\n",
      "  df['DateOfBirth'] = pd.to_datetime(df['DateOfBirth'], errors='coerce')\n",
      "C:\\Users\\ragha\\AppData\\Local\\Temp\\ipykernel_25156\\3951433367.py:1: UserWarning: Parsing '18-02-2000' in DD/MM/YYYY format. Provide format or specify infer_datetime_format=True for consistent parsing.\n",
      "  df['DateOfBirth'] = pd.to_datetime(df['DateOfBirth'], errors='coerce')\n"
     ]
    }
   ],
   "source": [
    "df['DateOfBirth'] = pd.to_datetime(df['DateOfBirth'], errors='coerce')\n",
    "median_date = df['DateOfBirth'].dropna().median()\n",
    "df['DateOfBirth'].fillna(median_date, inplace=True)\n",
    "categorical_columns = ['Gender', 'Symptoms', 'Causes', 'Disease', 'Medicine']\n",
    "for column in categorical_columns:\n",
    "    df[column].fillna(df[column].mode()[0], inplace=True)"
   ]
  },
  {
   "cell_type": "code",
   "execution_count": 8,
   "id": "bb98702f",
   "metadata": {},
   "outputs": [
    {
     "data": {
      "text/plain": [
       "Name           46\n",
       "DateOfBirth     0\n",
       "Gender          0\n",
       "Symptoms        0\n",
       "Causes          0\n",
       "Disease         0\n",
       "Medicine        0\n",
       "dtype: int64"
      ]
     },
     "execution_count": 8,
     "metadata": {},
     "output_type": "execute_result"
    }
   ],
   "source": [
    "df.isnull().sum()"
   ]
  },
  {
   "cell_type": "code",
   "execution_count": 9,
   "id": "aed2dd0c",
   "metadata": {},
   "outputs": [],
   "source": [
    "df['Name'].fillna('Unknown', inplace=True)"
   ]
  },
  {
   "cell_type": "code",
   "execution_count": 10,
   "id": "96164a17",
   "metadata": {},
   "outputs": [
    {
     "data": {
      "text/plain": [
       "Name           0\n",
       "DateOfBirth    0\n",
       "Gender         0\n",
       "Symptoms       0\n",
       "Causes         0\n",
       "Disease        0\n",
       "Medicine       0\n",
       "dtype: int64"
      ]
     },
     "execution_count": 10,
     "metadata": {},
     "output_type": "execute_result"
    }
   ],
   "source": [
    "df.isnull().sum()"
   ]
  },
  {
   "cell_type": "code",
   "execution_count": 11,
   "id": "9ac75d76",
   "metadata": {},
   "outputs": [],
   "source": [
    "import matplotlib.pyplot as plt\n",
    "import seaborn as sns\n",
    "from sklearn.model_selection import train_test_split"
   ]
  },
  {
   "cell_type": "code",
   "execution_count": 12,
   "id": "d0d67adb",
   "metadata": {},
   "outputs": [
    {
     "data": {
      "text/plain": [
       "array([['John Doe', Timestamp('1980-05-15 00:00:00'), 'Male',\n",
       "        'Fever, Cough', 'Viral Infection', 'Common Cold',\n",
       "        'Ibuprofen, Rest']], dtype=object)"
      ]
     },
     "execution_count": 12,
     "metadata": {},
     "output_type": "execute_result"
    }
   ],
   "source": [
    "df[0:1].values"
   ]
  },
  {
   "cell_type": "code",
   "execution_count": 13,
   "id": "9c489ec0",
   "metadata": {},
   "outputs": [
    {
     "data": {
      "text/plain": [
       "(0      Ibuprofen, Rest\n",
       " 1          Sumatriptan\n",
       " 2    Albuterol Inhaler\n",
       " 3     Oral Rehydration\n",
       " 4           Penicillin\n",
       " 5               NSAIDs\n",
       " 6           Amlodipine\n",
       " 7        Antihistamine\n",
       " 8             Antacids\n",
       " 9           Sertraline\n",
       " Name: Medicine, dtype: object,\n",
       " 0                Fever, Cough\n",
       " 1           Headache, Fatigue\n",
       " 2         Shortness of breath\n",
       " 3            Nausea, Vomiting\n",
       " 4                 Sore Throat\n",
       " 5         Joint Pain, Fatigue\n",
       " 6       Chest Pain, Dizziness\n",
       " 7            Itching, Redness\n",
       " 8    Abdominal Pain, Bloating\n",
       " 9            Fatigue, Sadness\n",
       " Name: Symptoms, dtype: object)"
      ]
     },
     "execution_count": 13,
     "metadata": {},
     "output_type": "execute_result"
    }
   ],
   "source": [
    "X = df['Medicine']\n",
    "Y = df['Symptoms']\n",
    "X.head(10), Y.head(10)"
   ]
  },
  {
   "cell_type": "code",
   "execution_count": 14,
   "id": "2aae89d3",
   "metadata": {},
   "outputs": [
    {
     "data": {
      "text/plain": [
       "218         Rest, Lifestyle\n",
       "23             CPAP Machine\n",
       "48         Rest, Stretching\n",
       "5                    NSAIDs\n",
       "211         Rest, Lifestyle\n",
       "39     Rest, Pain Relievers\n",
       "3          Oral Rehydration\n",
       "95             Fluids, Rest\n",
       "196        Oral Rehydration\n",
       "87        Antibiotics, Rest\n",
       "Name: Medicine, dtype: object"
      ]
     },
     "execution_count": 14,
     "metadata": {},
     "output_type": "execute_result"
    }
   ],
   "source": [
    "X_train,X_test,Y_train,Y_test=train_test_split(X,Y,test_size=.25,shuffle=True,random_state=44)\n",
    "X_train.head(10)"
   ]
  },
  {
   "cell_type": "code",
   "execution_count": 15,
   "id": "f1f275f0",
   "metadata": {},
   "outputs": [
    {
     "name": "stdout",
     "output_type": "stream",
     "text": [
      "Training Data Shape: (215,)\n",
      "Testing Data Shape:  (72,)\n"
     ]
    }
   ],
   "source": [
    "print('Training Data Shape:', Y_train.shape)\n",
    "print('Testing Data Shape: ', Y_test.shape)"
   ]
  },
  {
   "cell_type": "code",
   "execution_count": 16,
   "id": "8318fc63",
   "metadata": {},
   "outputs": [
    {
     "data": {
      "text/plain": [
       "Rest, Lifestyle            47\n",
       "NSAIDs                     11\n",
       "Rest, Stretching            9\n",
       "Oral Rehydration            9\n",
       "Rest, Eye Exercises         8\n",
       "Pain Relievers, PT          7\n",
       "Rest, Pain Relievers        7\n",
       "Fluids, Rest                7\n",
       "Antibiotics, Rest           6\n",
       "Dimenhydrinate              6\n",
       "Fluids, Bland Diet          6\n",
       "Therapy, Medication         5\n",
       "Antacids                    5\n",
       "Topical Steroids            5\n",
       "Isolation, Fluids           5\n",
       "Penicillin                  5\n",
       "CPAP Machine                4\n",
       "Pain Relievers              4\n",
       "Relaxation, NSAIDs          4\n",
       "Antihistamine               4\n",
       "Iron Supplements            4\n",
       "Levothyroxine               3\n",
       "Cognitive Therapy           3\n",
       " Antihistamine              2\n",
       "Nitroglycerin,Aspirin       2\n",
       "Sumatriptan                 2\n",
       "on   Antihistamine          2\n",
       " Therapy, Medication        2\n",
       "Hydration, Rest             2\n",
       "Amlodipine                  2\n",
       "Antivirals, Rest            2\n",
       "  Rest, Lifestyle           1\n",
       " Rest, Pain Relievers       1\n",
       "  Levothyroxine             1\n",
       " Pain Relievers             1\n",
       "  Isolation, Fluids         1\n",
       " Levothyroxine              1\n",
       "tihistamine                 1\n",
       "  Nitroglycerin,Aspirin     1\n",
       "Inhalers                    1\n",
       "Nitroglycerin               1\n",
       "Ibuprofen, Rest             1\n",
       "Antacids, Rest              1\n",
       "Acetaminophen               1\n",
       "Rehydration                 1\n",
       "  NSAIDs                    1\n",
       "Beta-blockers               1\n",
       " Rest, Lifestyle            1\n",
       "Eye Exercises               1\n",
       "  Fluids, Bland Diet        1\n",
       "virals, Rest                1\n",
       "Aspirin                     1\n",
       "axation, NSAIDs             1\n",
       " Antibiotics, Rest          1\n",
       "  Oral Rehydration          1\n",
       "n Relievers                 1\n",
       "Name: Medicine, dtype: int64"
      ]
     },
     "execution_count": 16,
     "metadata": {},
     "output_type": "execute_result"
    }
   ],
   "source": [
    "X_train.value_counts()"
   ]
  },
  {
   "cell_type": "markdown",
   "id": "5b900838",
   "metadata": {},
   "source": [
    "# LinearSVC"
   ]
  },
  {
   "cell_type": "code",
   "execution_count": 17,
   "id": "b5f83c9a",
   "metadata": {},
   "outputs": [
    {
     "data": {
      "text/plain": [
       "(215, 44)"
      ]
     },
     "execution_count": 17,
     "metadata": {},
     "output_type": "execute_result"
    }
   ],
   "source": [
    "from sklearn.feature_extraction.text import TfidfVectorizer\n",
    "vectorizer = TfidfVectorizer()\n",
    "\n",
    "Y_train_tfidf = vectorizer.fit_transform(Y_train)\n",
    "Y_train_tfidf.shape"
   ]
  },
  {
   "cell_type": "code",
   "execution_count": 18,
   "id": "83d92b1a",
   "metadata": {},
   "outputs": [
    {
     "data": {
      "text/plain": [
       "0        (0, 43)\\t0.7633059160515471\\n  (0, 18)\\t0.64...\n",
       "1        (0, 8)\\t0.5901391638127799\\n  (0, 27)\\t0.567...\n",
       "2        (0, 28)\\t0.32747998470009276\\n  (0, 10)\\t0.5...\n",
       "3        (0, 23)\\t0.7634320868466464\\n  (0, 28)\\t0.47...\n",
       "4        (0, 43)\\t0.7633059160515471\\n  (0, 18)\\t0.64...\n",
       "                             ...                        \n",
       "210      (0, 43)\\t0.7633059160515471\\n  (0, 18)\\t0.64...\n",
       "211      (0, 32)\\t0.7431304281799951\\n  (0, 22)\\t0.66...\n",
       "212      (0, 43)\\t0.7633059160515471\\n  (0, 18)\\t0.64...\n",
       "213      (0, 8)\\t0.720999388782707\\n  (0, 27)\\t0.6929...\n",
       "214      (0, 13)\\t0.8316833684814849\\n  (0, 25)\\t0.55...\n",
       "Name: 0, Length: 215, dtype: object"
      ]
     },
     "execution_count": 18,
     "metadata": {},
     "output_type": "execute_result"
    }
   ],
   "source": [
    "pd.DataFrame(Y_train_tfidf)[0]"
   ]
  },
  {
   "cell_type": "code",
   "execution_count": 19,
   "id": "b33dc6c4",
   "metadata": {},
   "outputs": [
    {
     "data": {
      "text/plain": [
       "LinearSVC()"
      ]
     },
     "execution_count": 19,
     "metadata": {},
     "output_type": "execute_result"
    }
   ],
   "source": [
    "# Train the model\n",
    "from sklearn.svm import LinearSVC\n",
    "clf = LinearSVC()\n",
    "clf.fit(Y_train_tfidf,X_train)"
   ]
  },
  {
   "cell_type": "code",
   "execution_count": 20,
   "id": "d22aee68",
   "metadata": {},
   "outputs": [],
   "source": [
    "from sklearn.pipeline import Pipeline\n",
    "text_clf = Pipeline([('tfidf', TfidfVectorizer()),\n",
    "                     ('clf', LinearSVC()),])\n",
    "\n",
    "\n",
    "text_clf.fit(Y_train, X_train)  \n",
    "\n",
    "\n",
    "predictions = text_clf.predict(Y_test)"
   ]
  },
  {
   "cell_type": "code",
   "execution_count": 21,
   "id": "943b194a",
   "metadata": {},
   "outputs": [
    {
     "name": "stdout",
     "output_type": "stream",
     "text": [
      "[[0 0 0 ... 0 0 0]\n",
      " [0 0 0 ... 0 0 0]\n",
      " [0 0 0 ... 0 0 0]\n",
      " ...\n",
      " [0 0 0 ... 2 0 0]\n",
      " [0 0 0 ... 0 0 0]\n",
      " [0 0 0 ... 0 0 0]]\n"
     ]
    }
   ],
   "source": [
    "from sklearn import metrics\n",
    "print(metrics.confusion_matrix(X_test,predictions))"
   ]
  },
  {
   "cell_type": "code",
   "execution_count": 22,
   "id": "019531a7",
   "metadata": {},
   "outputs": [
    {
     "name": "stdout",
     "output_type": "stream",
     "text": [
      "                      precision    recall  f1-score   support\n",
      "\n",
      "      Dimenhydrinate       0.00      0.00      0.00         2\n",
      "     Hydration, Rest       0.00      0.00      0.00         1\n",
      "      Pain Relievers       0.00      0.00      0.00         0\n",
      "          Sertraline       0.00      0.00      0.00         1\n",
      "   Albuterol Inhaler       0.00      0.00      0.00         2\n",
      "            Antacids       0.67      1.00      0.80         2\n",
      "   Antibiotics, Rest       1.00      1.00      1.00         6\n",
      "       Antihistamine       1.00      1.00      1.00         3\n",
      "    Antivirals, Rest       0.67      1.00      0.80         2\n",
      "        CPAP Machine       0.33      1.00      0.50         1\n",
      "   Cognitive Therapy       1.00      1.00      1.00         2\n",
      "      Dimenhydrinate       0.60      1.00      0.75         3\n",
      "  Fluids, Bland Diet       1.00      1.00      1.00         2\n",
      "        Fluids, Rest       1.00      1.00      1.00         3\n",
      "  Ginger, Vitamin B6       0.00      0.00      0.00         1\n",
      "         Honey, Rest       0.00      0.00      0.00         1\n",
      "     Hydration, Rest       0.33      1.00      0.50         1\n",
      "     Ibuprofen, Rest       0.00      0.00      0.00         1\n",
      "    Iron Supplements       0.00      0.00      0.00         1\n",
      "   Isolation, Fluids       0.80      1.00      0.89         4\n",
      "              NSAIDs       1.00      1.00      1.00         4\n",
      "       Nitroglycerin       0.00      0.00      0.00         1\n",
      "    Oral Rehydration       0.50      1.00      0.67         1\n",
      "      Pain Relievers       0.00      0.00      0.00         2\n",
      "  Pain Relievers, PT       1.00      1.00      1.00         2\n",
      " Rest, Eye Exercises       1.00      1.00      1.00         1\n",
      "     Rest, Lifestyle       0.82      1.00      0.90        14\n",
      "Rest, Pain Relievers       1.00      1.00      1.00         2\n",
      "    Rest, Stretching       0.50      1.00      0.67         1\n",
      "          Sertraline       0.00      0.00      0.00         1\n",
      " Therapy, Medication       1.00      1.00      1.00         2\n",
      "         ation, Rest       0.00      0.00      0.00         1\n",
      "                cids       0.00      0.00      0.00         1\n",
      "\n",
      "            accuracy                           0.78        72\n",
      "           macro avg       0.46      0.58      0.50        72\n",
      "        weighted avg       0.66      0.78      0.71        72\n",
      "\n"
     ]
    },
    {
     "name": "stderr",
     "output_type": "stream",
     "text": [
      "C:\\Users\\ragha\\anaconda3\\lib\\site-packages\\sklearn\\metrics\\_classification.py:1318: UndefinedMetricWarning: Precision and F-score are ill-defined and being set to 0.0 in labels with no predicted samples. Use `zero_division` parameter to control this behavior.\n",
      "  _warn_prf(average, modifier, msg_start, len(result))\n",
      "C:\\Users\\ragha\\anaconda3\\lib\\site-packages\\sklearn\\metrics\\_classification.py:1318: UndefinedMetricWarning: Recall and F-score are ill-defined and being set to 0.0 in labels with no true samples. Use `zero_division` parameter to control this behavior.\n",
      "  _warn_prf(average, modifier, msg_start, len(result))\n",
      "C:\\Users\\ragha\\anaconda3\\lib\\site-packages\\sklearn\\metrics\\_classification.py:1318: UndefinedMetricWarning: Precision and F-score are ill-defined and being set to 0.0 in labels with no predicted samples. Use `zero_division` parameter to control this behavior.\n",
      "  _warn_prf(average, modifier, msg_start, len(result))\n",
      "C:\\Users\\ragha\\anaconda3\\lib\\site-packages\\sklearn\\metrics\\_classification.py:1318: UndefinedMetricWarning: Recall and F-score are ill-defined and being set to 0.0 in labels with no true samples. Use `zero_division` parameter to control this behavior.\n",
      "  _warn_prf(average, modifier, msg_start, len(result))\n",
      "C:\\Users\\ragha\\anaconda3\\lib\\site-packages\\sklearn\\metrics\\_classification.py:1318: UndefinedMetricWarning: Precision and F-score are ill-defined and being set to 0.0 in labels with no predicted samples. Use `zero_division` parameter to control this behavior.\n",
      "  _warn_prf(average, modifier, msg_start, len(result))\n",
      "C:\\Users\\ragha\\anaconda3\\lib\\site-packages\\sklearn\\metrics\\_classification.py:1318: UndefinedMetricWarning: Recall and F-score are ill-defined and being set to 0.0 in labels with no true samples. Use `zero_division` parameter to control this behavior.\n",
      "  _warn_prf(average, modifier, msg_start, len(result))\n"
     ]
    }
   ],
   "source": [
    "print(metrics.classification_report(X_test,predictions)) "
   ]
  },
  {
   "cell_type": "code",
   "execution_count": 23,
   "id": "68fc7228",
   "metadata": {},
   "outputs": [
    {
     "name": "stdout",
     "output_type": "stream",
     "text": [
      "0.7777777777777778\n"
     ]
    }
   ],
   "source": [
    "print(metrics.accuracy_score(X_test,predictions))"
   ]
  },
  {
   "cell_type": "code",
   "execution_count": 24,
   "id": "737344df",
   "metadata": {},
   "outputs": [
    {
     "name": "stdout",
     "output_type": "stream",
     "text": [
      "The recommended medicine is: Rest, Pain Relievers\n"
     ]
    }
   ],
   "source": [
    "input_symptoms = [\"Muscle Pain, Fatigue\"]\n",
    "processed_input = vectorizer.transform([\" \".join(input_symptoms)])  # Adjust this based on the preprocessing steps\n",
    "recommended_medicine = clf.predict(processed_input)\n",
    "print(f\"The recommended medicine is: {recommended_medicine[0]}\")"
   ]
  },
  {
   "cell_type": "markdown",
   "id": "9a51c7ae",
   "metadata": {},
   "source": [
    "# Naive Bayes"
   ]
  },
  {
   "cell_type": "code",
   "execution_count": 25,
   "id": "0dc031ef",
   "metadata": {},
   "outputs": [],
   "source": [
    "from sklearn.naive_bayes import MultinomialNB\n",
    "from sklearn.pipeline import Pipeline\n",
    "from sklearn import metrics"
   ]
  },
  {
   "cell_type": "code",
   "execution_count": 26,
   "id": "89598918",
   "metadata": {},
   "outputs": [],
   "source": [
    "text_clf_nb = Pipeline([('tfidf', TfidfVectorizer()),('clf', MultinomialNB()),])"
   ]
  },
  {
   "cell_type": "code",
   "execution_count": 27,
   "id": "eff0acd9",
   "metadata": {},
   "outputs": [
    {
     "data": {
      "text/plain": [
       "Pipeline(steps=[('tfidf', TfidfVectorizer()), ('clf', MultinomialNB())])"
      ]
     },
     "execution_count": 27,
     "metadata": {},
     "output_type": "execute_result"
    }
   ],
   "source": [
    "text_clf_nb.fit(Y_train, X_train)"
   ]
  },
  {
   "cell_type": "code",
   "execution_count": 28,
   "id": "1dda0db5",
   "metadata": {},
   "outputs": [],
   "source": [
    "predictions_nb = text_clf_nb.predict(Y_test)"
   ]
  },
  {
   "cell_type": "code",
   "execution_count": 29,
   "id": "98a5ac07",
   "metadata": {},
   "outputs": [
    {
     "name": "stdout",
     "output_type": "stream",
     "text": [
      "Confusion Matrix:\n",
      "[[0 0 0 ... 0 0 0]\n",
      " [0 0 0 ... 0 0 0]\n",
      " [0 0 0 ... 0 0 0]\n",
      " ...\n",
      " [0 0 0 ... 2 0 0]\n",
      " [0 0 0 ... 0 0 0]\n",
      " [0 0 0 ... 0 0 0]]\n",
      "\n",
      "Classification Report:\n",
      "                      precision    recall  f1-score   support\n",
      "\n",
      "      Dimenhydrinate       0.00      0.00      0.00         2\n",
      "     Hydration, Rest       0.00      0.00      0.00         1\n",
      "          Sertraline       0.00      0.00      0.00         1\n",
      "   Albuterol Inhaler       0.00      0.00      0.00         2\n",
      "            Antacids       0.67      1.00      0.80         2\n",
      "   Antibiotics, Rest       1.00      1.00      1.00         6\n",
      "       Antihistamine       1.00      1.00      1.00         3\n",
      "    Antivirals, Rest       0.00      0.00      0.00         2\n",
      "        CPAP Machine       0.00      0.00      0.00         1\n",
      "   Cognitive Therapy       1.00      1.00      1.00         2\n",
      "      Dimenhydrinate       0.60      1.00      0.75         3\n",
      "  Fluids, Bland Diet       1.00      1.00      1.00         2\n",
      "        Fluids, Rest       0.50      1.00      0.67         3\n",
      "  Ginger, Vitamin B6       0.00      0.00      0.00         1\n",
      "         Honey, Rest       0.00      0.00      0.00         1\n",
      "     Hydration, Rest       0.00      0.00      0.00         1\n",
      "     Ibuprofen, Rest       0.00      0.00      0.00         1\n",
      "    Iron Supplements       0.00      0.00      0.00         1\n",
      "   Isolation, Fluids       1.00      0.25      0.40         4\n",
      "              NSAIDs       1.00      1.00      1.00         4\n",
      "       Nitroglycerin       0.00      0.00      0.00         1\n",
      "    Oral Rehydration       0.25      1.00      0.40         1\n",
      "      Pain Relievers       0.00      0.00      0.00         2\n",
      "  Pain Relievers, PT       1.00      1.00      1.00         2\n",
      " Rest, Eye Exercises       1.00      1.00      1.00         1\n",
      "     Rest, Lifestyle       0.67      1.00      0.80        14\n",
      "Rest, Pain Relievers       1.00      1.00      1.00         2\n",
      "    Rest, Stretching       0.12      1.00      0.22         1\n",
      "          Sertraline       0.00      0.00      0.00         1\n",
      " Therapy, Medication       1.00      1.00      1.00         2\n",
      "         ation, Rest       0.00      0.00      0.00         1\n",
      "                cids       0.00      0.00      0.00         1\n",
      "\n",
      "            accuracy                           0.68        72\n",
      "           macro avg       0.40      0.48      0.41        72\n",
      "        weighted avg       0.59      0.68      0.60        72\n",
      "\n",
      "Accuracy Score: 0.6805555555555556\n"
     ]
    },
    {
     "name": "stderr",
     "output_type": "stream",
     "text": [
      "C:\\Users\\ragha\\anaconda3\\lib\\site-packages\\sklearn\\metrics\\_classification.py:1318: UndefinedMetricWarning: Precision and F-score are ill-defined and being set to 0.0 in labels with no predicted samples. Use `zero_division` parameter to control this behavior.\n",
      "  _warn_prf(average, modifier, msg_start, len(result))\n",
      "C:\\Users\\ragha\\anaconda3\\lib\\site-packages\\sklearn\\metrics\\_classification.py:1318: UndefinedMetricWarning: Precision and F-score are ill-defined and being set to 0.0 in labels with no predicted samples. Use `zero_division` parameter to control this behavior.\n",
      "  _warn_prf(average, modifier, msg_start, len(result))\n",
      "C:\\Users\\ragha\\anaconda3\\lib\\site-packages\\sklearn\\metrics\\_classification.py:1318: UndefinedMetricWarning: Precision and F-score are ill-defined and being set to 0.0 in labels with no predicted samples. Use `zero_division` parameter to control this behavior.\n",
      "  _warn_prf(average, modifier, msg_start, len(result))\n"
     ]
    }
   ],
   "source": [
    "print(\"Confusion Matrix:\")\n",
    "print(metrics.confusion_matrix(X_test, predictions_nb))\n",
    "print(\"\\nClassification Report:\")\n",
    "print(metrics.classification_report(X_test, predictions_nb)) \n",
    "print(\"Accuracy Score:\", metrics.accuracy_score(X_test, predictions_nb))"
   ]
  },
  {
   "cell_type": "code",
   "execution_count": 30,
   "id": "f6e0500f",
   "metadata": {},
   "outputs": [
    {
     "name": "stdout",
     "output_type": "stream",
     "text": [
      "The recommended medicine is: Fluids, Rest\n"
     ]
    }
   ],
   "source": [
    "input_symptoms = [\"Fever, Cough\t\"]\n",
    "processed_input_nb = vectorizer.transform([\" \".join(input_symptoms)])\n",
    "recommended_medicine_nb = text_clf_nb.predict(input_symptoms)\n",
    "print(f\"The recommended medicine is: {recommended_medicine_nb[0]}\")\n"
   ]
  },
  {
   "cell_type": "markdown",
   "id": "4798b344",
   "metadata": {},
   "source": [
    "# Randomforest"
   ]
  },
  {
   "cell_type": "code",
   "execution_count": 31,
   "id": "741e3f79",
   "metadata": {},
   "outputs": [],
   "source": [
    "from sklearn.ensemble import RandomForestClassifier\n",
    "from sklearn.pipeline import Pipeline\n",
    "from sklearn import metrics"
   ]
  },
  {
   "cell_type": "code",
   "execution_count": 32,
   "id": "56545663",
   "metadata": {},
   "outputs": [],
   "source": [
    "text_clf_rf = Pipeline([('tfidf', TfidfVectorizer()),('clf', RandomForestClassifier(n_estimators=100, random_state=42)),])"
   ]
  },
  {
   "cell_type": "code",
   "execution_count": 33,
   "id": "801a24e7",
   "metadata": {},
   "outputs": [
    {
     "data": {
      "text/plain": [
       "Pipeline(steps=[('tfidf', TfidfVectorizer()),\n",
       "                ('clf', RandomForestClassifier(random_state=42))])"
      ]
     },
     "execution_count": 33,
     "metadata": {},
     "output_type": "execute_result"
    }
   ],
   "source": [
    "text_clf_rf.fit(Y_train, X_train)"
   ]
  },
  {
   "cell_type": "code",
   "execution_count": 34,
   "id": "3fa4fa6c",
   "metadata": {},
   "outputs": [],
   "source": [
    "predictions_rf = text_clf_rf.predict(Y_test)"
   ]
  },
  {
   "cell_type": "code",
   "execution_count": 35,
   "id": "5004c90f",
   "metadata": {},
   "outputs": [
    {
     "name": "stdout",
     "output_type": "stream",
     "text": [
      "Confusion Matrix:\n",
      "[[0 0 0 ... 0 0 0]\n",
      " [0 0 0 ... 0 0 0]\n",
      " [0 0 0 ... 0 0 0]\n",
      " ...\n",
      " [0 0 0 ... 2 0 0]\n",
      " [0 0 0 ... 0 0 0]\n",
      " [0 0 0 ... 0 0 0]]\n",
      "\n",
      "Classification Report:\n",
      "                      precision    recall  f1-score   support\n",
      "\n",
      "      Dimenhydrinate       0.00      0.00      0.00         2\n",
      "     Hydration, Rest       0.00      0.00      0.00         1\n",
      "          Sertraline       0.00      0.00      0.00         1\n",
      "   Albuterol Inhaler       0.00      0.00      0.00         2\n",
      "            Antacids       0.67      1.00      0.80         2\n",
      "   Antibiotics, Rest       1.00      1.00      1.00         6\n",
      "       Antihistamine       1.00      1.00      1.00         3\n",
      "    Antivirals, Rest       0.50      1.00      0.67         2\n",
      "        CPAP Machine       0.33      1.00      0.50         1\n",
      "   Cognitive Therapy       1.00      1.00      1.00         2\n",
      "      Dimenhydrinate       0.60      1.00      0.75         3\n",
      "  Fluids, Bland Diet       1.00      1.00      1.00         2\n",
      "        Fluids, Rest       1.00      1.00      1.00         3\n",
      "  Ginger, Vitamin B6       0.00      0.00      0.00         1\n",
      "         Honey, Rest       0.00      0.00      0.00         1\n",
      "     Hydration, Rest       0.33      1.00      0.50         1\n",
      "     Ibuprofen, Rest       0.00      0.00      0.00         1\n",
      "    Iron Supplements       0.00      0.00      0.00         1\n",
      "   Isolation, Fluids       1.00      1.00      1.00         4\n",
      "              NSAIDs       1.00      1.00      1.00         4\n",
      "       Nitroglycerin       0.00      0.00      0.00         1\n",
      "    Oral Rehydration       0.50      1.00      0.67         1\n",
      "      Pain Relievers       1.00      1.00      1.00         2\n",
      "  Pain Relievers, PT       1.00      1.00      1.00         2\n",
      " Rest, Eye Exercises       1.00      1.00      1.00         1\n",
      "     Rest, Lifestyle       0.82      1.00      0.90        14\n",
      "Rest, Pain Relievers       1.00      1.00      1.00         2\n",
      "    Rest, Stretching       0.50      1.00      0.67         1\n",
      "          Sertraline       0.00      0.00      0.00         1\n",
      " Therapy, Medication       1.00      1.00      1.00         2\n",
      "         ation, Rest       0.00      0.00      0.00         1\n",
      "                cids       0.00      0.00      0.00         1\n",
      "\n",
      "            accuracy                           0.81        72\n",
      "           macro avg       0.51      0.62      0.55        72\n",
      "        weighted avg       0.70      0.81      0.74        72\n",
      "\n",
      "Accuracy Score: 0.8055555555555556\n"
     ]
    },
    {
     "name": "stderr",
     "output_type": "stream",
     "text": [
      "C:\\Users\\ragha\\anaconda3\\lib\\site-packages\\sklearn\\metrics\\_classification.py:1318: UndefinedMetricWarning: Precision and F-score are ill-defined and being set to 0.0 in labels with no predicted samples. Use `zero_division` parameter to control this behavior.\n",
      "  _warn_prf(average, modifier, msg_start, len(result))\n",
      "C:\\Users\\ragha\\anaconda3\\lib\\site-packages\\sklearn\\metrics\\_classification.py:1318: UndefinedMetricWarning: Precision and F-score are ill-defined and being set to 0.0 in labels with no predicted samples. Use `zero_division` parameter to control this behavior.\n",
      "  _warn_prf(average, modifier, msg_start, len(result))\n",
      "C:\\Users\\ragha\\anaconda3\\lib\\site-packages\\sklearn\\metrics\\_classification.py:1318: UndefinedMetricWarning: Precision and F-score are ill-defined and being set to 0.0 in labels with no predicted samples. Use `zero_division` parameter to control this behavior.\n",
      "  _warn_prf(average, modifier, msg_start, len(result))\n"
     ]
    }
   ],
   "source": [
    "print(\"Confusion Matrix:\")\n",
    "print(metrics.confusion_matrix(X_test, predictions_rf))\n",
    "print(\"\\nClassification Report:\")\n",
    "print(metrics.classification_report(X_test, predictions_rf)) \n",
    "print(\"Accuracy Score:\", metrics.accuracy_score(X_test, predictions_rf))"
   ]
  },
  {
   "cell_type": "code",
   "execution_count": 36,
   "id": "a46c4c6e",
   "metadata": {},
   "outputs": [
    {
     "name": "stdout",
     "output_type": "stream",
     "text": [
      "The recommended medicine using Random Forest is: Antacids\n"
     ]
    }
   ],
   "source": [
    "input_symptoms = [\"Abdominal Pain, Bloating O\"]\n",
    "recommended_medicine_rf = text_clf_rf.predict(input_symptoms)\n",
    "print(f\"The recommended medicine using Random Forest is: {recommended_medicine_rf[0]}\")"
   ]
  },
  {
   "cell_type": "code",
   "execution_count": 44,
   "id": "041e5a74",
   "metadata": {},
   "outputs": [],
   "source": [
    "from sklearn.tree import DecisionTreeClassifier\n",
    "from sklearn.pipeline import Pipeline"
   ]
  },
  {
   "cell_type": "code",
   "execution_count": 45,
   "id": "bac3c84d",
   "metadata": {},
   "outputs": [],
   "source": [
    "X = df['Symptoms']\n",
    "Y = df['Medicine']\n",
    "X_train, X_test, Y_train, Y_test = train_test_split(X, Y, test_size=0.25, shuffle=True, random_state=44)"
   ]
  },
  {
   "cell_type": "code",
   "execution_count": 46,
   "id": "1dfac38f",
   "metadata": {},
   "outputs": [],
   "source": [
    "text_clf = Pipeline([('tfidf', TfidfVectorizer()),('clf', DecisionTreeClassifier(random_state=44)),])"
   ]
  },
  {
   "cell_type": "code",
   "execution_count": 47,
   "id": "eb85e751",
   "metadata": {},
   "outputs": [
    {
     "data": {
      "text/plain": [
       "Pipeline(steps=[('tfidf', TfidfVectorizer()),\n",
       "                ('clf', DecisionTreeClassifier(random_state=44))])"
      ]
     },
     "execution_count": 47,
     "metadata": {},
     "output_type": "execute_result"
    }
   ],
   "source": [
    "text_clf.fit(X_train, Y_train)"
   ]
  },
  {
   "cell_type": "code",
   "execution_count": 48,
   "id": "e3aac08c",
   "metadata": {},
   "outputs": [],
   "source": [
    "predictions = text_clf.predict(X_test)"
   ]
  },
  {
   "cell_type": "code",
   "execution_count": 49,
   "id": "2a7ab8e2",
   "metadata": {},
   "outputs": [
    {
     "name": "stdout",
     "output_type": "stream",
     "text": [
      "[[ 0  0  0  0  0  0  1  0  0  0  0  0  0  0  0  0  0  0  0  0  0  0  0  0\n",
      "   0  0]\n",
      " [ 0  1  0  0  0  0  0  0  0  0  0  0  0  0  0  0  0  0  0  0  0  0  0  0\n",
      "   0  0]\n",
      " [ 0  0  2  0  0  0  0  0  0  0  0  0  0  0  0  0  0  0  0  0  0  0  0  0\n",
      "   0  0]\n",
      " [ 0  0  0  4  0  0  0  0  0  0  0  0  0  0  0  0  0  0  0  0  0  0  0  0\n",
      "   0  0]\n",
      " [ 0  0  0  0  3  0  0  0  0  0  0  0  0  0  0  0  0  0  0  0  0  0  0  0\n",
      "   0  0]\n",
      " [ 0  0  0  0  0  2  0  0  0  0  0  0  0  0  0  0  0  0  0  0  0  0  0  0\n",
      "   0  0]\n",
      " [ 0  0  0  0  0  0  1  0  0  0  0  0  0  0  0  0  0  0  0  0  0  0  0  0\n",
      "   0  0]\n",
      " [ 0  0  0  0  0  0  0  1  0  0  0  0  0  0  0  0  0  0  0  0  0  0  0  0\n",
      "   0  0]\n",
      " [ 0  0  0  0  0  0  0  0  2  0  0  0  0  0  0  0  0  0  0  0  0  0  0  0\n",
      "   0  0]\n",
      " [ 0  0  0  0  0  0  0  0  0  2  0  0  0  0  0  0  0  0  0  0  0  0  0  0\n",
      "   0  0]\n",
      " [ 0  0  0  0  0  0  0  0  0  0  4  0  0  0  0  0  0  0  0  0  0  0  0  0\n",
      "   0  0]\n",
      " [ 0  0  0  0  0  0  0  0  0  0  0  1  0  0  0  0  0  0  0  0  0  0  0  0\n",
      "   0  0]\n",
      " [ 0  0  0  0  0  1  0  0  0  0  0  0  0  0  0  0  0  0  0  0  0  0  0  0\n",
      "   0  0]\n",
      " [ 0  0  0  0  0  0  0  0  0  0  0  0  0  0  0  0  0  0  0  0  0  1  0  0\n",
      "   0  0]\n",
      " [ 0  0  0  0  0  0  0  0  0  0  0  0  0  0  4  0  0  0  0  0  0  0  0  0\n",
      "   0  0]\n",
      " [ 0  0  0  0  0  0  0  0  0  0  0  0  0  0  0  3  0  0  0  0  0  0  0  0\n",
      "   0  0]\n",
      " [ 0  0  0  0  0  0  0  0  0  0  0  0  0  0  0  0  6  0  0  0  0  0  0  0\n",
      "   0  0]\n",
      " [ 0  0  0  0  0  0  0  0  0  0  0  0  0  0  0  0  0  2  0  0  0  0  0  0\n",
      "   0  0]\n",
      " [ 0  0  0  0  0  0  0  0  0  0  0  0  0  0  0  0  0  0  1  0  0  0  0  0\n",
      "   0  0]\n",
      " [ 0  0  0  0  0  0  0  0  0  0  0  0  0  0  0  0  0  0  0  1  0  0  0  0\n",
      "   0  0]\n",
      " [ 0  0  0  0  0  0  0  0  0  0  0  0  0  0  0  0  0  0  0  0  1  0  0  0\n",
      "   0  0]\n",
      " [ 0  0  0  0  0  0  0  0  0  0  0  0  0  0  0  0  0  0  0  0  0 14  0  0\n",
      "   1  0]\n",
      " [ 0  0  0  0  0  0  0  0  0  0  0  0  0  0  0  0  0  0  0  0  0  0  1  0\n",
      "   0  0]\n",
      " [ 0  0  0  0  0  0  0  0  0  0  0  0  0  0  0  0  0  0  0  0  0  0  0  3\n",
      "   0  0]\n",
      " [ 0  0  0  0  0  0  0  0  0  0  0  0  0  0  0  0  0  0  0  0  0  0  0  0\n",
      "   1  0]\n",
      " [ 0  0  0  0  0  0  0  0  0  0  0  0  0  0  0  0  0  0  0  0  0  0  0  0\n",
      "   0  1]]\n",
      "                      precision    recall  f1-score   support\n",
      "\n",
      "   Albuterol Inhaler       0.00      0.00      0.00         1\n",
      "          Amlodipine       1.00      1.00      1.00         1\n",
      "            Antacids       1.00      1.00      1.00         2\n",
      "   Antibiotics, Rest       1.00      1.00      1.00         4\n",
      "       Antihistamine       1.00      1.00      1.00         3\n",
      "    Antivirals, Rest       0.67      1.00      0.80         2\n",
      "        CPAP Machine       0.50      1.00      0.67         1\n",
      "   Cognitive Therapy       1.00      1.00      1.00         1\n",
      "      Dimenhydrinate       1.00      1.00      1.00         2\n",
      "  Fluids, Bland Diet       1.00      1.00      1.00         2\n",
      "        Fluids, Rest       1.00      1.00      1.00         4\n",
      "     Hydration, Rest       1.00      1.00      1.00         1\n",
      "     Ibuprofen, Rest       0.00      0.00      0.00         1\n",
      "    Iron Supplements       0.00      0.00      0.00         1\n",
      "   Isolation, Fluids       1.00      1.00      1.00         4\n",
      "              NSAIDs       1.00      1.00      1.00         3\n",
      "    Oral Rehydration       1.00      1.00      1.00         6\n",
      "  Pain Relievers, PT       1.00      1.00      1.00         2\n",
      "          Penicillin       1.00      1.00      1.00         1\n",
      "  Relaxation, NSAIDs       1.00      1.00      1.00         1\n",
      " Rest, Eye Exercises       1.00      1.00      1.00         1\n",
      "     Rest, Lifestyle       0.93      0.93      0.93        15\n",
      "Rest, Pain Relievers       1.00      1.00      1.00         1\n",
      "    Rest, Stretching       1.00      1.00      1.00         3\n",
      "         Sumatriptan       0.50      1.00      0.67         1\n",
      " Therapy, Medication       1.00      1.00      1.00         1\n",
      "\n",
      "            accuracy                           0.94        65\n",
      "           macro avg       0.83      0.88      0.85        65\n",
      "        weighted avg       0.91      0.94      0.92        65\n",
      "\n",
      "Accuracy: 0.9384615384615385\n"
     ]
    },
    {
     "name": "stderr",
     "output_type": "stream",
     "text": [
      "C:\\Users\\ragha\\anaconda3\\lib\\site-packages\\sklearn\\metrics\\_classification.py:1318: UndefinedMetricWarning: Precision and F-score are ill-defined and being set to 0.0 in labels with no predicted samples. Use `zero_division` parameter to control this behavior.\n",
      "  _warn_prf(average, modifier, msg_start, len(result))\n",
      "C:\\Users\\ragha\\anaconda3\\lib\\site-packages\\sklearn\\metrics\\_classification.py:1318: UndefinedMetricWarning: Precision and F-score are ill-defined and being set to 0.0 in labels with no predicted samples. Use `zero_division` parameter to control this behavior.\n",
      "  _warn_prf(average, modifier, msg_start, len(result))\n",
      "C:\\Users\\ragha\\anaconda3\\lib\\site-packages\\sklearn\\metrics\\_classification.py:1318: UndefinedMetricWarning: Precision and F-score are ill-defined and being set to 0.0 in labels with no predicted samples. Use `zero_division` parameter to control this behavior.\n",
      "  _warn_prf(average, modifier, msg_start, len(result))\n"
     ]
    }
   ],
   "source": [
    "from sklearn import metrics\n",
    "print(metrics.confusion_matrix(Y_test, predictions))\n",
    "print(metrics.classification_report(Y_test, predictions))\n",
    "print(\"Accuracy:\", metrics.accuracy_score(Y_test, predictions))"
   ]
  },
  {
   "cell_type": "code",
   "execution_count": 51,
   "id": "9c806f52",
   "metadata": {},
   "outputs": [
    {
     "name": "stdout",
     "output_type": "stream",
     "text": [
      "The recommended medicine is: Antihistamine\n"
     ]
    }
   ],
   "source": [
    "input_symptoms = [\"Itching, Redness\"]\n",
    "recommended_medicine = text_clf.predict(input_symptoms)\n",
    "print(f\"The recommended medicine is: {recommended_medicine[0]}\")"
   ]
  },
  {
   "cell_type": "code",
   "execution_count": null,
   "id": "ff36ba47",
   "metadata": {},
   "outputs": [],
   "source": []
  }
 ],
 "metadata": {
  "kernelspec": {
   "display_name": "Python 3 (ipykernel)",
   "language": "python",
   "name": "python3"
  },
  "language_info": {
   "codemirror_mode": {
    "name": "ipython",
    "version": 3
   },
   "file_extension": ".py",
   "mimetype": "text/x-python",
   "name": "python",
   "nbconvert_exporter": "python",
   "pygments_lexer": "ipython3",
   "version": "3.11.7"
  }
 },
 "nbformat": 4,
 "nbformat_minor": 5
}
