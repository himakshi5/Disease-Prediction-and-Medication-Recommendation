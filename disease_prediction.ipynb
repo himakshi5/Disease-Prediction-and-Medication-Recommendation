{
 "cells": [
  {
   "cell_type": "code",
   "execution_count": 1,
   "id": "cdea4731",
   "metadata": {},
   "outputs": [],
   "source": [
    "import numpy as np\n",
    "import pandas as pd"
   ]
  },
  {
   "cell_type": "code",
   "execution_count": 41,
   "id": "f0558d3a",
   "metadata": {},
   "outputs": [
    {
     "data": {
      "text/html": [
       "<div>\n",
       "<style scoped>\n",
       "    .dataframe tbody tr th:only-of-type {\n",
       "        vertical-align: middle;\n",
       "    }\n",
       "\n",
       "    .dataframe tbody tr th {\n",
       "        vertical-align: top;\n",
       "    }\n",
       "\n",
       "    .dataframe thead th {\n",
       "        text-align: right;\n",
       "    }\n",
       "</style>\n",
       "<table border=\"1\" class=\"dataframe\">\n",
       "  <thead>\n",
       "    <tr style=\"text-align: right;\">\n",
       "      <th></th>\n",
       "      <th>Disease</th>\n",
       "      <th>Symptom_1</th>\n",
       "      <th>Symptom_2</th>\n",
       "      <th>Symptom_3</th>\n",
       "      <th>Symptom_4</th>\n",
       "      <th>Symptom_5</th>\n",
       "      <th>Symptom_6</th>\n",
       "      <th>Symptom_7</th>\n",
       "      <th>Symptom_8</th>\n",
       "      <th>Symptom_9</th>\n",
       "      <th>Symptom_10</th>\n",
       "      <th>Symptom_11</th>\n",
       "      <th>Symptom_12</th>\n",
       "      <th>Symptom_13</th>\n",
       "      <th>Symptom_14</th>\n",
       "      <th>Symptom_15</th>\n",
       "      <th>Symptom_16</th>\n",
       "      <th>Symptom_17</th>\n",
       "    </tr>\n",
       "  </thead>\n",
       "  <tbody>\n",
       "    <tr>\n",
       "      <th>0</th>\n",
       "      <td>Fungal infection</td>\n",
       "      <td>itching</td>\n",
       "      <td>skin_rash</td>\n",
       "      <td>nodal_skin_eruptions</td>\n",
       "      <td>dischromic _patches</td>\n",
       "      <td>NaN</td>\n",
       "      <td>NaN</td>\n",
       "      <td>NaN</td>\n",
       "      <td>NaN</td>\n",
       "      <td>NaN</td>\n",
       "      <td>NaN</td>\n",
       "      <td>NaN</td>\n",
       "      <td>NaN</td>\n",
       "      <td>NaN</td>\n",
       "      <td>NaN</td>\n",
       "      <td>NaN</td>\n",
       "      <td>NaN</td>\n",
       "      <td>NaN</td>\n",
       "    </tr>\n",
       "    <tr>\n",
       "      <th>1</th>\n",
       "      <td>Fungal infection</td>\n",
       "      <td>skin_rash</td>\n",
       "      <td>nodal_skin_eruptions</td>\n",
       "      <td>dischromic _patches</td>\n",
       "      <td>NaN</td>\n",
       "      <td>NaN</td>\n",
       "      <td>NaN</td>\n",
       "      <td>NaN</td>\n",
       "      <td>NaN</td>\n",
       "      <td>NaN</td>\n",
       "      <td>NaN</td>\n",
       "      <td>NaN</td>\n",
       "      <td>NaN</td>\n",
       "      <td>NaN</td>\n",
       "      <td>NaN</td>\n",
       "      <td>NaN</td>\n",
       "      <td>NaN</td>\n",
       "      <td>NaN</td>\n",
       "    </tr>\n",
       "    <tr>\n",
       "      <th>2</th>\n",
       "      <td>Fungal infection</td>\n",
       "      <td>itching</td>\n",
       "      <td>nodal_skin_eruptions</td>\n",
       "      <td>dischromic _patches</td>\n",
       "      <td>NaN</td>\n",
       "      <td>NaN</td>\n",
       "      <td>NaN</td>\n",
       "      <td>NaN</td>\n",
       "      <td>NaN</td>\n",
       "      <td>NaN</td>\n",
       "      <td>NaN</td>\n",
       "      <td>NaN</td>\n",
       "      <td>NaN</td>\n",
       "      <td>NaN</td>\n",
       "      <td>NaN</td>\n",
       "      <td>NaN</td>\n",
       "      <td>NaN</td>\n",
       "      <td>NaN</td>\n",
       "    </tr>\n",
       "    <tr>\n",
       "      <th>3</th>\n",
       "      <td>Fungal infection</td>\n",
       "      <td>itching</td>\n",
       "      <td>skin_rash</td>\n",
       "      <td>dischromic _patches</td>\n",
       "      <td>NaN</td>\n",
       "      <td>NaN</td>\n",
       "      <td>NaN</td>\n",
       "      <td>NaN</td>\n",
       "      <td>NaN</td>\n",
       "      <td>NaN</td>\n",
       "      <td>NaN</td>\n",
       "      <td>NaN</td>\n",
       "      <td>NaN</td>\n",
       "      <td>NaN</td>\n",
       "      <td>NaN</td>\n",
       "      <td>NaN</td>\n",
       "      <td>NaN</td>\n",
       "      <td>NaN</td>\n",
       "    </tr>\n",
       "    <tr>\n",
       "      <th>4</th>\n",
       "      <td>Fungal infection</td>\n",
       "      <td>itching</td>\n",
       "      <td>skin_rash</td>\n",
       "      <td>nodal_skin_eruptions</td>\n",
       "      <td>NaN</td>\n",
       "      <td>NaN</td>\n",
       "      <td>NaN</td>\n",
       "      <td>NaN</td>\n",
       "      <td>NaN</td>\n",
       "      <td>NaN</td>\n",
       "      <td>NaN</td>\n",
       "      <td>NaN</td>\n",
       "      <td>NaN</td>\n",
       "      <td>NaN</td>\n",
       "      <td>NaN</td>\n",
       "      <td>NaN</td>\n",
       "      <td>NaN</td>\n",
       "      <td>NaN</td>\n",
       "    </tr>\n",
       "    <tr>\n",
       "      <th>...</th>\n",
       "      <td>...</td>\n",
       "      <td>...</td>\n",
       "      <td>...</td>\n",
       "      <td>...</td>\n",
       "      <td>...</td>\n",
       "      <td>...</td>\n",
       "      <td>...</td>\n",
       "      <td>...</td>\n",
       "      <td>...</td>\n",
       "      <td>...</td>\n",
       "      <td>...</td>\n",
       "      <td>...</td>\n",
       "      <td>...</td>\n",
       "      <td>...</td>\n",
       "      <td>...</td>\n",
       "      <td>...</td>\n",
       "      <td>...</td>\n",
       "      <td>...</td>\n",
       "    </tr>\n",
       "    <tr>\n",
       "      <th>4915</th>\n",
       "      <td>(vertigo) Paroymsal  Positional Vertigo</td>\n",
       "      <td>vomiting</td>\n",
       "      <td>headache</td>\n",
       "      <td>nausea</td>\n",
       "      <td>spinning_movements</td>\n",
       "      <td>loss_of_balance</td>\n",
       "      <td>unsteadiness</td>\n",
       "      <td>NaN</td>\n",
       "      <td>NaN</td>\n",
       "      <td>NaN</td>\n",
       "      <td>NaN</td>\n",
       "      <td>NaN</td>\n",
       "      <td>NaN</td>\n",
       "      <td>NaN</td>\n",
       "      <td>NaN</td>\n",
       "      <td>NaN</td>\n",
       "      <td>NaN</td>\n",
       "      <td>NaN</td>\n",
       "    </tr>\n",
       "    <tr>\n",
       "      <th>4916</th>\n",
       "      <td>Acne</td>\n",
       "      <td>skin_rash</td>\n",
       "      <td>pus_filled_pimples</td>\n",
       "      <td>blackheads</td>\n",
       "      <td>scurring</td>\n",
       "      <td>NaN</td>\n",
       "      <td>NaN</td>\n",
       "      <td>NaN</td>\n",
       "      <td>NaN</td>\n",
       "      <td>NaN</td>\n",
       "      <td>NaN</td>\n",
       "      <td>NaN</td>\n",
       "      <td>NaN</td>\n",
       "      <td>NaN</td>\n",
       "      <td>NaN</td>\n",
       "      <td>NaN</td>\n",
       "      <td>NaN</td>\n",
       "      <td>NaN</td>\n",
       "    </tr>\n",
       "    <tr>\n",
       "      <th>4917</th>\n",
       "      <td>Urinary tract infection</td>\n",
       "      <td>burning_micturition</td>\n",
       "      <td>bladder_discomfort</td>\n",
       "      <td>foul_smell_of urine</td>\n",
       "      <td>continuous_feel_of_urine</td>\n",
       "      <td>NaN</td>\n",
       "      <td>NaN</td>\n",
       "      <td>NaN</td>\n",
       "      <td>NaN</td>\n",
       "      <td>NaN</td>\n",
       "      <td>NaN</td>\n",
       "      <td>NaN</td>\n",
       "      <td>NaN</td>\n",
       "      <td>NaN</td>\n",
       "      <td>NaN</td>\n",
       "      <td>NaN</td>\n",
       "      <td>NaN</td>\n",
       "      <td>NaN</td>\n",
       "    </tr>\n",
       "    <tr>\n",
       "      <th>4918</th>\n",
       "      <td>Psoriasis</td>\n",
       "      <td>skin_rash</td>\n",
       "      <td>joint_pain</td>\n",
       "      <td>skin_peeling</td>\n",
       "      <td>silver_like_dusting</td>\n",
       "      <td>small_dents_in_nails</td>\n",
       "      <td>inflammatory_nails</td>\n",
       "      <td>NaN</td>\n",
       "      <td>NaN</td>\n",
       "      <td>NaN</td>\n",
       "      <td>NaN</td>\n",
       "      <td>NaN</td>\n",
       "      <td>NaN</td>\n",
       "      <td>NaN</td>\n",
       "      <td>NaN</td>\n",
       "      <td>NaN</td>\n",
       "      <td>NaN</td>\n",
       "      <td>NaN</td>\n",
       "    </tr>\n",
       "    <tr>\n",
       "      <th>4919</th>\n",
       "      <td>Impetigo</td>\n",
       "      <td>skin_rash</td>\n",
       "      <td>high_fever</td>\n",
       "      <td>blister</td>\n",
       "      <td>red_sore_around_nose</td>\n",
       "      <td>yellow_crust_ooze</td>\n",
       "      <td>NaN</td>\n",
       "      <td>NaN</td>\n",
       "      <td>NaN</td>\n",
       "      <td>NaN</td>\n",
       "      <td>NaN</td>\n",
       "      <td>NaN</td>\n",
       "      <td>NaN</td>\n",
       "      <td>NaN</td>\n",
       "      <td>NaN</td>\n",
       "      <td>NaN</td>\n",
       "      <td>NaN</td>\n",
       "      <td>NaN</td>\n",
       "    </tr>\n",
       "  </tbody>\n",
       "</table>\n",
       "<p>4920 rows × 18 columns</p>\n",
       "</div>"
      ],
      "text/plain": [
       "                                      Disease             Symptom_1  \\\n",
       "0                            Fungal infection               itching   \n",
       "1                            Fungal infection             skin_rash   \n",
       "2                            Fungal infection               itching   \n",
       "3                            Fungal infection               itching   \n",
       "4                            Fungal infection               itching   \n",
       "...                                       ...                   ...   \n",
       "4915  (vertigo) Paroymsal  Positional Vertigo              vomiting   \n",
       "4916                                     Acne             skin_rash   \n",
       "4917                  Urinary tract infection   burning_micturition   \n",
       "4918                                Psoriasis             skin_rash   \n",
       "4919                                 Impetigo             skin_rash   \n",
       "\n",
       "                  Symptom_2              Symptom_3                  Symptom_4  \\\n",
       "0                 skin_rash   nodal_skin_eruptions        dischromic _patches   \n",
       "1      nodal_skin_eruptions    dischromic _patches                        NaN   \n",
       "2      nodal_skin_eruptions    dischromic _patches                        NaN   \n",
       "3                 skin_rash    dischromic _patches                        NaN   \n",
       "4                 skin_rash   nodal_skin_eruptions                        NaN   \n",
       "...                     ...                    ...                        ...   \n",
       "4915               headache                 nausea         spinning_movements   \n",
       "4916     pus_filled_pimples             blackheads                   scurring   \n",
       "4917     bladder_discomfort    foul_smell_of urine   continuous_feel_of_urine   \n",
       "4918             joint_pain           skin_peeling        silver_like_dusting   \n",
       "4919             high_fever                blister       red_sore_around_nose   \n",
       "\n",
       "                  Symptom_5            Symptom_6 Symptom_7 Symptom_8  \\\n",
       "0                       NaN                  NaN       NaN       NaN   \n",
       "1                       NaN                  NaN       NaN       NaN   \n",
       "2                       NaN                  NaN       NaN       NaN   \n",
       "3                       NaN                  NaN       NaN       NaN   \n",
       "4                       NaN                  NaN       NaN       NaN   \n",
       "...                     ...                  ...       ...       ...   \n",
       "4915        loss_of_balance         unsteadiness       NaN       NaN   \n",
       "4916                    NaN                  NaN       NaN       NaN   \n",
       "4917                    NaN                  NaN       NaN       NaN   \n",
       "4918   small_dents_in_nails   inflammatory_nails       NaN       NaN   \n",
       "4919      yellow_crust_ooze                  NaN       NaN       NaN   \n",
       "\n",
       "     Symptom_9 Symptom_10 Symptom_11 Symptom_12 Symptom_13 Symptom_14  \\\n",
       "0          NaN        NaN        NaN        NaN        NaN        NaN   \n",
       "1          NaN        NaN        NaN        NaN        NaN        NaN   \n",
       "2          NaN        NaN        NaN        NaN        NaN        NaN   \n",
       "3          NaN        NaN        NaN        NaN        NaN        NaN   \n",
       "4          NaN        NaN        NaN        NaN        NaN        NaN   \n",
       "...        ...        ...        ...        ...        ...        ...   \n",
       "4915       NaN        NaN        NaN        NaN        NaN        NaN   \n",
       "4916       NaN        NaN        NaN        NaN        NaN        NaN   \n",
       "4917       NaN        NaN        NaN        NaN        NaN        NaN   \n",
       "4918       NaN        NaN        NaN        NaN        NaN        NaN   \n",
       "4919       NaN        NaN        NaN        NaN        NaN        NaN   \n",
       "\n",
       "     Symptom_15 Symptom_16 Symptom_17  \n",
       "0           NaN        NaN        NaN  \n",
       "1           NaN        NaN        NaN  \n",
       "2           NaN        NaN        NaN  \n",
       "3           NaN        NaN        NaN  \n",
       "4           NaN        NaN        NaN  \n",
       "...         ...        ...        ...  \n",
       "4915        NaN        NaN        NaN  \n",
       "4916        NaN        NaN        NaN  \n",
       "4917        NaN        NaN        NaN  \n",
       "4918        NaN        NaN        NaN  \n",
       "4919        NaN        NaN        NaN  \n",
       "\n",
       "[4920 rows x 18 columns]"
      ]
     },
     "execution_count": 41,
     "metadata": {},
     "output_type": "execute_result"
    }
   ],
   "source": [
    "df = pd.read_csv(\"Your file path\")"
   ]
  },
  {
   "cell_type": "code",
   "execution_count": 3,
   "id": "c33d9ce7",
   "metadata": {},
   "outputs": [
    {
     "data": {
      "text/plain": [
       "Disease          0\n",
       "Symptom_1        0\n",
       "Symptom_2        0\n",
       "Symptom_3        0\n",
       "Symptom_4      348\n",
       "Symptom_5     1206\n",
       "Symptom_6     1986\n",
       "Symptom_7     2652\n",
       "Symptom_8     2976\n",
       "Symptom_9     3228\n",
       "Symptom_10    3408\n",
       "Symptom_11    3726\n",
       "Symptom_12    4176\n",
       "Symptom_13    4416\n",
       "Symptom_14    4614\n",
       "Symptom_15    4680\n",
       "Symptom_16    4728\n",
       "Symptom_17    4848\n",
       "dtype: int64"
      ]
     },
     "execution_count": 3,
     "metadata": {},
     "output_type": "execute_result"
    }
   ],
   "source": [
    "# Many NaN Values, print them for better understanding\n",
    "df.isnull().sum()"
   ]
  },
  {
   "cell_type": "code",
   "execution_count": 4,
   "id": "c08da068",
   "metadata": {},
   "outputs": [
    {
     "data": {
      "text/html": [
       "<div>\n",
       "<style scoped>\n",
       "    .dataframe tbody tr th:only-of-type {\n",
       "        vertical-align: middle;\n",
       "    }\n",
       "\n",
       "    .dataframe tbody tr th {\n",
       "        vertical-align: top;\n",
       "    }\n",
       "\n",
       "    .dataframe thead th {\n",
       "        text-align: right;\n",
       "    }\n",
       "</style>\n",
       "<table border=\"1\" class=\"dataframe\">\n",
       "  <thead>\n",
       "    <tr style=\"text-align: right;\">\n",
       "      <th></th>\n",
       "      <th>Disease</th>\n",
       "      <th>Symptom_1</th>\n",
       "      <th>Symptom_2</th>\n",
       "      <th>Symptom_3</th>\n",
       "      <th>Symptom_4</th>\n",
       "      <th>Symptom_5</th>\n",
       "      <th>Symptom_6</th>\n",
       "      <th>Symptom_7</th>\n",
       "      <th>Symptom_8</th>\n",
       "      <th>Symptom_9</th>\n",
       "      <th>Symptom_10</th>\n",
       "      <th>Symptom_11</th>\n",
       "      <th>Symptom_12</th>\n",
       "      <th>Symptom_13</th>\n",
       "      <th>Symptom_14</th>\n",
       "      <th>Symptom_15</th>\n",
       "      <th>Symptom_16</th>\n",
       "      <th>Symptom_17</th>\n",
       "      <th>Symptom</th>\n",
       "      <th>s</th>\n",
       "    </tr>\n",
       "  </thead>\n",
       "  <tbody>\n",
       "    <tr>\n",
       "      <th>0</th>\n",
       "      <td>Fungal infection</td>\n",
       "      <td>itching</td>\n",
       "      <td>skin_rash</td>\n",
       "      <td>nodal_skin_eruptions</td>\n",
       "      <td>dischromic _patches</td>\n",
       "      <td></td>\n",
       "      <td></td>\n",
       "      <td></td>\n",
       "      <td></td>\n",
       "      <td></td>\n",
       "      <td></td>\n",
       "      <td></td>\n",
       "      <td></td>\n",
       "      <td></td>\n",
       "      <td></td>\n",
       "      <td></td>\n",
       "      <td></td>\n",
       "      <td></td>\n",
       "      <td>itching skin_rash nodal_skin_eruptions dischro...</td>\n",
       "      <td></td>\n",
       "    </tr>\n",
       "    <tr>\n",
       "      <th>1</th>\n",
       "      <td>Fungal infection</td>\n",
       "      <td>skin_rash</td>\n",
       "      <td>nodal_skin_eruptions</td>\n",
       "      <td>dischromic _patches</td>\n",
       "      <td></td>\n",
       "      <td></td>\n",
       "      <td></td>\n",
       "      <td></td>\n",
       "      <td></td>\n",
       "      <td></td>\n",
       "      <td></td>\n",
       "      <td></td>\n",
       "      <td></td>\n",
       "      <td></td>\n",
       "      <td></td>\n",
       "      <td></td>\n",
       "      <td></td>\n",
       "      <td></td>\n",
       "      <td>skin_rash nodal_skin_eruptions dischromic _pa...</td>\n",
       "      <td></td>\n",
       "    </tr>\n",
       "    <tr>\n",
       "      <th>2</th>\n",
       "      <td>Fungal infection</td>\n",
       "      <td>itching</td>\n",
       "      <td>nodal_skin_eruptions</td>\n",
       "      <td>dischromic _patches</td>\n",
       "      <td></td>\n",
       "      <td></td>\n",
       "      <td></td>\n",
       "      <td></td>\n",
       "      <td></td>\n",
       "      <td></td>\n",
       "      <td></td>\n",
       "      <td></td>\n",
       "      <td></td>\n",
       "      <td></td>\n",
       "      <td></td>\n",
       "      <td></td>\n",
       "      <td></td>\n",
       "      <td></td>\n",
       "      <td>itching nodal_skin_eruptions dischromic _patches</td>\n",
       "      <td></td>\n",
       "    </tr>\n",
       "    <tr>\n",
       "      <th>3</th>\n",
       "      <td>Fungal infection</td>\n",
       "      <td>itching</td>\n",
       "      <td>skin_rash</td>\n",
       "      <td>dischromic _patches</td>\n",
       "      <td></td>\n",
       "      <td></td>\n",
       "      <td></td>\n",
       "      <td></td>\n",
       "      <td></td>\n",
       "      <td></td>\n",
       "      <td></td>\n",
       "      <td></td>\n",
       "      <td></td>\n",
       "      <td></td>\n",
       "      <td></td>\n",
       "      <td></td>\n",
       "      <td></td>\n",
       "      <td></td>\n",
       "      <td>itching skin_rash dischromic _patches</td>\n",
       "      <td></td>\n",
       "    </tr>\n",
       "    <tr>\n",
       "      <th>4</th>\n",
       "      <td>Fungal infection</td>\n",
       "      <td>itching</td>\n",
       "      <td>skin_rash</td>\n",
       "      <td>nodal_skin_eruptions</td>\n",
       "      <td></td>\n",
       "      <td></td>\n",
       "      <td></td>\n",
       "      <td></td>\n",
       "      <td></td>\n",
       "      <td></td>\n",
       "      <td></td>\n",
       "      <td></td>\n",
       "      <td></td>\n",
       "      <td></td>\n",
       "      <td></td>\n",
       "      <td></td>\n",
       "      <td></td>\n",
       "      <td></td>\n",
       "      <td>itching skin_rash nodal_skin_eruptions</td>\n",
       "      <td></td>\n",
       "    </tr>\n",
       "  </tbody>\n",
       "</table>\n",
       "</div>"
      ],
      "text/plain": [
       "            Disease   Symptom_1              Symptom_2              Symptom_3  \\\n",
       "0  Fungal infection     itching              skin_rash   nodal_skin_eruptions   \n",
       "1  Fungal infection   skin_rash   nodal_skin_eruptions    dischromic _patches   \n",
       "2  Fungal infection     itching   nodal_skin_eruptions    dischromic _patches   \n",
       "3  Fungal infection     itching              skin_rash    dischromic _patches   \n",
       "4  Fungal infection     itching              skin_rash   nodal_skin_eruptions   \n",
       "\n",
       "              Symptom_4 Symptom_5 Symptom_6 Symptom_7 Symptom_8 Symptom_9  \\\n",
       "0   dischromic _patches                                                     \n",
       "1                                                                           \n",
       "2                                                                           \n",
       "3                                                                           \n",
       "4                                                                           \n",
       "\n",
       "  Symptom_10 Symptom_11 Symptom_12 Symptom_13 Symptom_14 Symptom_15  \\\n",
       "0                                                                     \n",
       "1                                                                     \n",
       "2                                                                     \n",
       "3                                                                     \n",
       "4                                                                     \n",
       "\n",
       "  Symptom_16 Symptom_17                                            Symptom s  \n",
       "0                        itching skin_rash nodal_skin_eruptions dischro...    \n",
       "1                         skin_rash nodal_skin_eruptions dischromic _pa...    \n",
       "2                         itching nodal_skin_eruptions dischromic _patches    \n",
       "3                                    itching skin_rash dischromic _patches    \n",
       "4                                   itching skin_rash nodal_skin_eruptions    "
      ]
     },
     "execution_count": 4,
     "metadata": {},
     "output_type": "execute_result"
    }
   ],
   "source": [
    "# We Cannnot Simply Remove the Columns, thus replacing the NaN values with nothing\n",
    "# Putting all Symptoms in 1 Column makes it easier to perform feature extraction, tokenisation etc\n",
    "df = df.fillna(\"\")\n",
    "df['Symptom']=\"\"\n",
    "for i in range(1,18):\n",
    "    df['s']=df[\"Symptom_{}\".format(i)]\n",
    "    df['Symptom']=df['Symptom']+df['s']\n",
    "df.head()"
   ]
  },
  {
   "cell_type": "code",
   "execution_count": 5,
   "id": "2caba505",
   "metadata": {},
   "outputs": [
    {
     "data": {
      "text/html": [
       "<div>\n",
       "<style scoped>\n",
       "    .dataframe tbody tr th:only-of-type {\n",
       "        vertical-align: middle;\n",
       "    }\n",
       "\n",
       "    .dataframe tbody tr th {\n",
       "        vertical-align: top;\n",
       "    }\n",
       "\n",
       "    .dataframe thead th {\n",
       "        text-align: right;\n",
       "    }\n",
       "</style>\n",
       "<table border=\"1\" class=\"dataframe\">\n",
       "  <thead>\n",
       "    <tr style=\"text-align: right;\">\n",
       "      <th></th>\n",
       "      <th>Disease</th>\n",
       "      <th>Symptom</th>\n",
       "    </tr>\n",
       "  </thead>\n",
       "  <tbody>\n",
       "    <tr>\n",
       "      <th>0</th>\n",
       "      <td>Fungal infection</td>\n",
       "      <td>itching skin_rash nodal_skin_eruptions dischro...</td>\n",
       "    </tr>\n",
       "    <tr>\n",
       "      <th>1</th>\n",
       "      <td>Fungal infection</td>\n",
       "      <td>skin_rash nodal_skin_eruptions dischromic _pa...</td>\n",
       "    </tr>\n",
       "    <tr>\n",
       "      <th>2</th>\n",
       "      <td>Fungal infection</td>\n",
       "      <td>itching nodal_skin_eruptions dischromic _patches</td>\n",
       "    </tr>\n",
       "    <tr>\n",
       "      <th>3</th>\n",
       "      <td>Fungal infection</td>\n",
       "      <td>itching skin_rash dischromic _patches</td>\n",
       "    </tr>\n",
       "    <tr>\n",
       "      <th>4</th>\n",
       "      <td>Fungal infection</td>\n",
       "      <td>itching skin_rash nodal_skin_eruptions</td>\n",
       "    </tr>\n",
       "  </tbody>\n",
       "</table>\n",
       "</div>"
      ],
      "text/plain": [
       "            Disease                                            Symptom\n",
       "0  Fungal infection  itching skin_rash nodal_skin_eruptions dischro...\n",
       "1  Fungal infection   skin_rash nodal_skin_eruptions dischromic _pa...\n",
       "2  Fungal infection   itching nodal_skin_eruptions dischromic _patches\n",
       "3  Fungal infection              itching skin_rash dischromic _patches\n",
       "4  Fungal infection             itching skin_rash nodal_skin_eruptions"
      ]
     },
     "execution_count": 5,
     "metadata": {},
     "output_type": "execute_result"
    }
   ],
   "source": [
    "for i in range(1,18):\n",
    "    df=df.drop(\"Symptom_{}\".format(i),axis=1)\n",
    "df=df.drop(\"s\",axis=1)\n",
    "df.head()"
   ]
  },
  {
   "cell_type": "code",
   "execution_count": 6,
   "id": "b2c45ccb",
   "metadata": {},
   "outputs": [
    {
     "data": {
      "text/plain": [
       "array([['Fungal infection',\n",
       "        'itching skin_rash nodal_skin_eruptions dischromic _patches']],\n",
       "      dtype=object)"
      ]
     },
     "execution_count": 6,
     "metadata": {},
     "output_type": "execute_result"
    }
   ],
   "source": [
    "df[0:1].values"
   ]
  },
  {
   "cell_type": "code",
   "execution_count": 7,
   "id": "efa0fbd1",
   "metadata": {},
   "outputs": [
    {
     "data": {
      "text/plain": [
       "Disease\n",
       "Fungal infection                           120\n",
       "Hepatitis C                                120\n",
       "Hepatitis E                                120\n",
       "Alcoholic hepatitis                        120\n",
       "Tuberculosis                               120\n",
       "Common Cold                                120\n",
       "Pneumonia                                  120\n",
       "Dimorphic hemmorhoids(piles)               120\n",
       "Heart attack                               120\n",
       "Varicose veins                             120\n",
       "Hypothyroidism                             120\n",
       "Hyperthyroidism                            120\n",
       "Hypoglycemia                               120\n",
       "Osteoarthristis                            120\n",
       "Arthritis                                  120\n",
       "(vertigo) Paroymsal  Positional Vertigo    120\n",
       "Acne                                       120\n",
       "Urinary tract infection                    120\n",
       "Psoriasis                                  120\n",
       "Hepatitis D                                120\n",
       "Hepatitis B                                120\n",
       "Allergy                                    120\n",
       "hepatitis A                                120\n",
       "GERD                                       120\n",
       "Chronic cholestasis                        120\n",
       "Drug Reaction                              120\n",
       "Peptic ulcer diseae                        120\n",
       "AIDS                                       120\n",
       "Diabetes                                   120\n",
       "Gastroenteritis                            120\n",
       "Bronchial Asthma                           120\n",
       "Hypertension                               120\n",
       "Migraine                                   120\n",
       "Cervical spondylosis                       120\n",
       "Paralysis (brain hemorrhage)               120\n",
       "Jaundice                                   120\n",
       "Malaria                                    120\n",
       "Chicken pox                                120\n",
       "Dengue                                     120\n",
       "Typhoid                                    120\n",
       "Impetigo                                   120\n",
       "Name: count, dtype: int64"
      ]
     },
     "execution_count": 7,
     "metadata": {},
     "output_type": "execute_result"
    }
   ],
   "source": [
    "df['Disease'].value_counts()"
   ]
  },
  {
   "cell_type": "markdown",
   "id": "a3e2e0d4",
   "metadata": {},
   "source": [
    "we have a balanced data i.e. equal distribution across all classes"
   ]
  },
  {
   "cell_type": "code",
   "execution_count": 8,
   "id": "f365a831",
   "metadata": {},
   "outputs": [
    {
     "data": {
      "text/plain": [
       "(0    Fungal infection\n",
       " 1    Fungal infection\n",
       " 2    Fungal infection\n",
       " 3    Fungal infection\n",
       " 4    Fungal infection\n",
       " 5    Fungal infection\n",
       " 6    Fungal infection\n",
       " 7    Fungal infection\n",
       " 8    Fungal infection\n",
       " 9    Fungal infection\n",
       " Name: Disease, dtype: object,\n",
       " 0    itching skin_rash nodal_skin_eruptions dischro...\n",
       " 1     skin_rash nodal_skin_eruptions dischromic _pa...\n",
       " 2     itching nodal_skin_eruptions dischromic _patches\n",
       " 3                itching skin_rash dischromic _patches\n",
       " 4               itching skin_rash nodal_skin_eruptions\n",
       " 5     skin_rash nodal_skin_eruptions dischromic _pa...\n",
       " 6     itching nodal_skin_eruptions dischromic _patches\n",
       " 7                itching skin_rash dischromic _patches\n",
       " 8               itching skin_rash nodal_skin_eruptions\n",
       " 9    itching skin_rash nodal_skin_eruptions dischro...\n",
       " Name: Symptom, dtype: object)"
      ]
     },
     "execution_count": 8,
     "metadata": {},
     "output_type": "execute_result"
    }
   ],
   "source": [
    "X=df['Disease']\n",
    "Y=df['Symptom']\n",
    "X.head(10),Y.head(10)"
   ]
  },
  {
   "cell_type": "code",
   "execution_count": 9,
   "id": "8967eb52",
   "metadata": {},
   "outputs": [
    {
     "data": {
      "text/plain": [
       "1057        Hepatitis E\n",
       "4480           Migraine\n",
       "2394    Osteoarthristis\n",
       "4467          Psoriasis\n",
       "3525           Impetigo\n",
       "3038      Drug Reaction\n",
       "4906          Pneumonia\n",
       "4131     Hypothyroidism\n",
       "1405             Dengue\n",
       "3033           Impetigo\n",
       "Name: Disease, dtype: object"
      ]
     },
     "execution_count": 9,
     "metadata": {},
     "output_type": "execute_result"
    }
   ],
   "source": [
    "# Splitting the Data into Train and Test datasets\n",
    "from sklearn.model_selection import train_test_split\n",
    "X_train,X_test,Y_train,Y_test=train_test_split(X,Y,test_size=.25,shuffle=True,random_state=44)\n",
    "X_train.head(10)"
   ]
  },
  {
   "cell_type": "code",
   "execution_count": 10,
   "id": "5e19a7be",
   "metadata": {},
   "outputs": [
    {
     "name": "stdout",
     "output_type": "stream",
     "text": [
      "Training Data Shape: (3690,)\n",
      "Testing Data Shape:  (1230,)\n"
     ]
    }
   ],
   "source": [
    "print('Training Data Shape:', Y_train.shape)\n",
    "print('Testing Data Shape: ', Y_test.shape)"
   ]
  },
  {
   "cell_type": "code",
   "execution_count": 11,
   "id": "b8c83ae9",
   "metadata": {},
   "outputs": [
    {
     "data": {
      "text/plain": [
       "Disease\n",
       "Jaundice                                   98\n",
       "Migraine                                   98\n",
       "hepatitis A                                95\n",
       "Heart attack                               95\n",
       "Dimorphic hemmorhoids(piles)               95\n",
       "Allergy                                    95\n",
       "Hepatitis C                                93\n",
       "Hepatitis D                                93\n",
       "Typhoid                                    92\n",
       "Gastroenteritis                            92\n",
       "Pneumonia                                  92\n",
       "Hypoglycemia                               92\n",
       "Common Cold                                91\n",
       "Tuberculosis                               91\n",
       "Fungal infection                           91\n",
       "Hepatitis E                                91\n",
       "Arthritis                                  91\n",
       "Psoriasis                                  91\n",
       "Peptic ulcer diseae                        91\n",
       "Malaria                                    90\n",
       "Bronchial Asthma                           90\n",
       "Dengue                                     89\n",
       "Paralysis (brain hemorrhage)               89\n",
       "Varicose veins                             89\n",
       "Impetigo                                   89\n",
       "Hyperthyroidism                            89\n",
       "Urinary tract infection                    89\n",
       "Chronic cholestasis                        89\n",
       "Hypertension                               89\n",
       "Hepatitis B                                88\n",
       "GERD                                       88\n",
       "Hypothyroidism                             88\n",
       "Alcoholic hepatitis                        87\n",
       "AIDS                                       87\n",
       "(vertigo) Paroymsal  Positional Vertigo    87\n",
       "Diabetes                                   86\n",
       "Acne                                       85\n",
       "Cervical spondylosis                       85\n",
       "Chicken pox                                85\n",
       "Drug Reaction                              84\n",
       "Osteoarthristis                            81\n",
       "Name: count, dtype: int64"
      ]
     },
     "execution_count": 11,
     "metadata": {},
     "output_type": "execute_result"
    }
   ],
   "source": [
    "X_train.value_counts()"
   ]
  },
  {
   "cell_type": "code",
   "execution_count": 12,
   "id": "8d355328",
   "metadata": {},
   "outputs": [
    {
     "data": {
      "text/plain": [
       "(3690, 135)"
      ]
     },
     "execution_count": 12,
     "metadata": {},
     "output_type": "execute_result"
    }
   ],
   "source": [
    "# Feature Extraction\n",
    "from sklearn.feature_extraction.text import TfidfVectorizer\n",
    "vectorizer = TfidfVectorizer()\n",
    "\n",
    "Y_train_tfidf = vectorizer.fit_transform(Y_train)\n",
    "Y_train_tfidf.shape"
   ]
  },
  {
   "cell_type": "code",
   "execution_count": 13,
   "id": "19b736af",
   "metadata": {},
   "outputs": [
    {
     "data": {
      "text/plain": [
       "0         (0, 107)\\t0.42164632513477507\\n  (0, 22)\\t0....\n",
       "1         (0, 124)\\t0.4120490720427296\\n  (0, 54)\\t0.2...\n",
       "2         (0, 79)\\t0.4510419179046219\\n  (0, 112)\\t0.4...\n",
       "3         (0, 51)\\t0.45900352946016976\\n  (0, 103)\\t0....\n",
       "4         (0, 131)\\t0.5269244100190276\\n  (0, 90)\\t0.5...\n",
       "                              ...                        \n",
       "3685      (0, 67)\\t0.5036364766736794\\n  (0, 71)\\t0.42...\n",
       "3686      (0, 111)\\t0.37930170238198424\\n  (0, 65)\\t0....\n",
       "3687      (0, 87)\\t0.6519490465239833\\n  (0, 9)\\t0.653...\n",
       "3688      (0, 5)\\t0.6339138832160964\\n  (0, 128)\\t0.65...\n",
       "3689      (0, 39)\\t0.556559575085783\\n  (0, 82)\\t0.556...\n",
       "Name: 0, Length: 3690, dtype: object"
      ]
     },
     "execution_count": 13,
     "metadata": {},
     "output_type": "execute_result"
    }
   ],
   "source": [
    "pd.DataFrame(Y_train_tfidf)[0]"
   ]
  },
  {
   "cell_type": "code",
   "execution_count": 14,
   "id": "c4729513",
   "metadata": {},
   "outputs": [
    {
     "data": {
      "text/html": [
       "<style>#sk-container-id-1 {color: black;background-color: white;}#sk-container-id-1 pre{padding: 0;}#sk-container-id-1 div.sk-toggleable {background-color: white;}#sk-container-id-1 label.sk-toggleable__label {cursor: pointer;display: block;width: 100%;margin-bottom: 0;padding: 0.3em;box-sizing: border-box;text-align: center;}#sk-container-id-1 label.sk-toggleable__label-arrow:before {content: \"▸\";float: left;margin-right: 0.25em;color: #696969;}#sk-container-id-1 label.sk-toggleable__label-arrow:hover:before {color: black;}#sk-container-id-1 div.sk-estimator:hover label.sk-toggleable__label-arrow:before {color: black;}#sk-container-id-1 div.sk-toggleable__content {max-height: 0;max-width: 0;overflow: hidden;text-align: left;background-color: #f0f8ff;}#sk-container-id-1 div.sk-toggleable__content pre {margin: 0.2em;color: black;border-radius: 0.25em;background-color: #f0f8ff;}#sk-container-id-1 input.sk-toggleable__control:checked~div.sk-toggleable__content {max-height: 200px;max-width: 100%;overflow: auto;}#sk-container-id-1 input.sk-toggleable__control:checked~label.sk-toggleable__label-arrow:before {content: \"▾\";}#sk-container-id-1 div.sk-estimator input.sk-toggleable__control:checked~label.sk-toggleable__label {background-color: #d4ebff;}#sk-container-id-1 div.sk-label input.sk-toggleable__control:checked~label.sk-toggleable__label {background-color: #d4ebff;}#sk-container-id-1 input.sk-hidden--visually {border: 0;clip: rect(1px 1px 1px 1px);clip: rect(1px, 1px, 1px, 1px);height: 1px;margin: -1px;overflow: hidden;padding: 0;position: absolute;width: 1px;}#sk-container-id-1 div.sk-estimator {font-family: monospace;background-color: #f0f8ff;border: 1px dotted black;border-radius: 0.25em;box-sizing: border-box;margin-bottom: 0.5em;}#sk-container-id-1 div.sk-estimator:hover {background-color: #d4ebff;}#sk-container-id-1 div.sk-parallel-item::after {content: \"\";width: 100%;border-bottom: 1px solid gray;flex-grow: 1;}#sk-container-id-1 div.sk-label:hover label.sk-toggleable__label {background-color: #d4ebff;}#sk-container-id-1 div.sk-serial::before {content: \"\";position: absolute;border-left: 1px solid gray;box-sizing: border-box;top: 0;bottom: 0;left: 50%;z-index: 0;}#sk-container-id-1 div.sk-serial {display: flex;flex-direction: column;align-items: center;background-color: white;padding-right: 0.2em;padding-left: 0.2em;position: relative;}#sk-container-id-1 div.sk-item {position: relative;z-index: 1;}#sk-container-id-1 div.sk-parallel {display: flex;align-items: stretch;justify-content: center;background-color: white;position: relative;}#sk-container-id-1 div.sk-item::before, #sk-container-id-1 div.sk-parallel-item::before {content: \"\";position: absolute;border-left: 1px solid gray;box-sizing: border-box;top: 0;bottom: 0;left: 50%;z-index: -1;}#sk-container-id-1 div.sk-parallel-item {display: flex;flex-direction: column;z-index: 1;position: relative;background-color: white;}#sk-container-id-1 div.sk-parallel-item:first-child::after {align-self: flex-end;width: 50%;}#sk-container-id-1 div.sk-parallel-item:last-child::after {align-self: flex-start;width: 50%;}#sk-container-id-1 div.sk-parallel-item:only-child::after {width: 0;}#sk-container-id-1 div.sk-dashed-wrapped {border: 1px dashed gray;margin: 0 0.4em 0.5em 0.4em;box-sizing: border-box;padding-bottom: 0.4em;background-color: white;}#sk-container-id-1 div.sk-label label {font-family: monospace;font-weight: bold;display: inline-block;line-height: 1.2em;}#sk-container-id-1 div.sk-label-container {text-align: center;}#sk-container-id-1 div.sk-container {/* jupyter's `normalize.less` sets `[hidden] { display: none; }` but bootstrap.min.css set `[hidden] { display: none !important; }` so we also need the `!important` here to be able to override the default hidden behavior on the sphinx rendered scikit-learn.org. See: https://github.com/scikit-learn/scikit-learn/issues/21755 */display: inline-block !important;position: relative;}#sk-container-id-1 div.sk-text-repr-fallback {display: none;}</style><div id=\"sk-container-id-1\" class=\"sk-top-container\"><div class=\"sk-text-repr-fallback\"><pre>LinearSVC()</pre><b>In a Jupyter environment, please rerun this cell to show the HTML representation or trust the notebook. <br />On GitHub, the HTML representation is unable to render, please try loading this page with nbviewer.org.</b></div><div class=\"sk-container\" hidden><div class=\"sk-item\"><div class=\"sk-estimator sk-toggleable\"><input class=\"sk-toggleable__control sk-hidden--visually\" id=\"sk-estimator-id-1\" type=\"checkbox\" checked><label for=\"sk-estimator-id-1\" class=\"sk-toggleable__label sk-toggleable__label-arrow\">LinearSVC</label><div class=\"sk-toggleable__content\"><pre>LinearSVC()</pre></div></div></div></div></div>"
      ],
      "text/plain": [
       "LinearSVC()"
      ]
     },
     "execution_count": 14,
     "metadata": {},
     "output_type": "execute_result"
    }
   ],
   "source": [
    "# Train the model\n",
    "from sklearn.svm import LinearSVC\n",
    "clf = LinearSVC()\n",
    "clf.fit(Y_train_tfidf,X_train)"
   ]
  },
  {
   "cell_type": "code",
   "execution_count": 15,
   "id": "58225d10",
   "metadata": {},
   "outputs": [],
   "source": [
    "from sklearn.pipeline import Pipeline\n",
    "text_clf = Pipeline([('tfidf', TfidfVectorizer()),\n",
    "                     ('clf', LinearSVC()),])\n",
    "\n",
    "\n",
    "text_clf.fit(Y_train, X_train)  \n",
    "\n",
    "\n",
    "predictions = text_clf.predict(Y_test)"
   ]
  },
  {
   "cell_type": "code",
   "execution_count": 16,
   "id": "0f5f3fd7",
   "metadata": {},
   "outputs": [
    {
     "name": "stdout",
     "output_type": "stream",
     "text": [
      "[[33  0  0 ...  0  0  0]\n",
      " [ 0 33  0 ...  0  0  0]\n",
      " [ 0  0 35 ...  0  0  0]\n",
      " ...\n",
      " [ 0  0  0 ... 31  0  0]\n",
      " [ 0  0  0 ...  0 31  0]\n",
      " [ 0  0  0 ...  0  0 25]]\n"
     ]
    }
   ],
   "source": [
    "from sklearn import metrics\n",
    "print(metrics.confusion_matrix(X_test,predictions))"
   ]
  },
  {
   "cell_type": "code",
   "execution_count": 17,
   "id": "74269f47",
   "metadata": {},
   "outputs": [
    {
     "name": "stdout",
     "output_type": "stream",
     "text": [
      "                                         precision    recall  f1-score   support\n",
      "\n",
      "(vertigo) Paroymsal  Positional Vertigo       1.00      1.00      1.00        33\n",
      "                                   AIDS       1.00      1.00      1.00        33\n",
      "                                   Acne       1.00      1.00      1.00        35\n",
      "                    Alcoholic hepatitis       1.00      1.00      1.00        33\n",
      "                                Allergy       1.00      1.00      1.00        25\n",
      "                              Arthritis       1.00      1.00      1.00        29\n",
      "                       Bronchial Asthma       1.00      1.00      1.00        30\n",
      "                   Cervical spondylosis       1.00      1.00      1.00        35\n",
      "                            Chicken pox       1.00      1.00      1.00        35\n",
      "                    Chronic cholestasis       1.00      1.00      1.00        31\n",
      "                            Common Cold       1.00      1.00      1.00        29\n",
      "                                 Dengue       1.00      1.00      1.00        31\n",
      "                              Diabetes        1.00      1.00      1.00        34\n",
      "           Dimorphic hemmorhoids(piles)       1.00      1.00      1.00        25\n",
      "                          Drug Reaction       1.00      1.00      1.00        36\n",
      "                       Fungal infection       1.00      1.00      1.00        29\n",
      "                                   GERD       1.00      1.00      1.00        32\n",
      "                        Gastroenteritis       1.00      1.00      1.00        28\n",
      "                           Heart attack       1.00      1.00      1.00        25\n",
      "                            Hepatitis B       1.00      1.00      1.00        32\n",
      "                            Hepatitis C       1.00      1.00      1.00        27\n",
      "                            Hepatitis D       1.00      1.00      1.00        27\n",
      "                            Hepatitis E       1.00      1.00      1.00        29\n",
      "                          Hypertension        1.00      1.00      1.00        31\n",
      "                        Hyperthyroidism       1.00      1.00      1.00        31\n",
      "                           Hypoglycemia       1.00      1.00      1.00        28\n",
      "                         Hypothyroidism       1.00      1.00      1.00        32\n",
      "                               Impetigo       1.00      1.00      1.00        31\n",
      "                               Jaundice       1.00      1.00      1.00        22\n",
      "                                Malaria       1.00      1.00      1.00        30\n",
      "                               Migraine       1.00      1.00      1.00        22\n",
      "                        Osteoarthristis       1.00      1.00      1.00        39\n",
      "           Paralysis (brain hemorrhage)       1.00      1.00      1.00        31\n",
      "                    Peptic ulcer diseae       1.00      1.00      1.00        29\n",
      "                              Pneumonia       1.00      1.00      1.00        28\n",
      "                              Psoriasis       1.00      1.00      1.00        29\n",
      "                           Tuberculosis       1.00      1.00      1.00        29\n",
      "                                Typhoid       1.00      1.00      1.00        28\n",
      "                Urinary tract infection       1.00      1.00      1.00        31\n",
      "                         Varicose veins       1.00      1.00      1.00        31\n",
      "                            hepatitis A       1.00      1.00      1.00        25\n",
      "\n",
      "                               accuracy                           1.00      1230\n",
      "                              macro avg       1.00      1.00      1.00      1230\n",
      "                           weighted avg       1.00      1.00      1.00      1230\n",
      "\n"
     ]
    }
   ],
   "source": [
    "print(metrics.classification_report(X_test,predictions)) "
   ]
  },
  {
   "cell_type": "code",
   "execution_count": 18,
   "id": "167737f8",
   "metadata": {},
   "outputs": [
    {
     "name": "stdout",
     "output_type": "stream",
     "text": [
      "1.0\n"
     ]
    }
   ],
   "source": [
    "print(metrics.accuracy_score(X_test,predictions))"
   ]
  },
  {
   "cell_type": "markdown",
   "id": "cebfc7ef",
   "metadata": {},
   "source": [
    "Accuracy is 100"
   ]
  },
  {
   "cell_type": "code",
   "execution_count": 19,
   "id": "e6aee59a",
   "metadata": {},
   "outputs": [
    {
     "name": "stdout",
     "output_type": "stream",
     "text": [
      "The predicted disease is: (vertigo) Paroymsal  Positional Vertigo\n"
     ]
    }
   ],
   "source": [
    "# Example for using the trained model\n",
    "input_symptoms = [\"headache\", \"nausea\", \"blurred vision\"]\n",
    "processed_input = vectorizer.transform([\" \".join(input_symptoms)])  # Adjust this based on the preprocessing steps\n",
    "predicted_disease = clf.predict(processed_input)\n",
    "print(f\"The predicted disease is: {predicted_disease[0]}\")"
   ]
  },
  {
   "cell_type": "markdown",
   "id": "9b77c77d",
   "metadata": {},
   "source": [
    "# DT"
   ]
  },
  {
   "cell_type": "code",
   "execution_count": 20,
   "id": "d0dabe8d",
   "metadata": {},
   "outputs": [],
   "source": [
    "from sklearn.tree import DecisionTreeClassifier\n",
    "from sklearn.pipeline import Pipeline"
   ]
  },
  {
   "cell_type": "code",
   "execution_count": 21,
   "id": "24dfbba6",
   "metadata": {},
   "outputs": [],
   "source": [
    "X = df['Symptom']\n",
    "Y = df['Disease']\n",
    "X_train, X_test, Y_train, Y_test = train_test_split(X, Y, test_size=0.25, shuffle=True, random_state=44)\n",
    "text_clf = Pipeline([('tfidf', TfidfVectorizer()),('clf', DecisionTreeClassifier(random_state=44)),])"
   ]
  },
  {
   "cell_type": "code",
   "execution_count": 22,
   "id": "bd66c5ab",
   "metadata": {},
   "outputs": [],
   "source": [
    "text_clf.fit(X_train, Y_train)\n",
    "predictions = text_clf.predict(X_test)"
   ]
  },
  {
   "cell_type": "code",
   "execution_count": 23,
   "id": "f4ed3f55",
   "metadata": {},
   "outputs": [
    {
     "name": "stdout",
     "output_type": "stream",
     "text": [
      "[[33  0  0 ...  0  0  0]\n",
      " [ 0 33  0 ...  0  0  0]\n",
      " [ 0  0 35 ...  0  0  0]\n",
      " ...\n",
      " [ 0  0  0 ... 31  0  0]\n",
      " [ 0  0  0 ...  0 31  0]\n",
      " [ 0  0  0 ...  0  0 25]]\n",
      "                                         precision    recall  f1-score   support\n",
      "\n",
      "(vertigo) Paroymsal  Positional Vertigo       1.00      1.00      1.00        33\n",
      "                                   AIDS       1.00      1.00      1.00        33\n",
      "                                   Acne       1.00      1.00      1.00        35\n",
      "                    Alcoholic hepatitis       1.00      1.00      1.00        33\n",
      "                                Allergy       1.00      1.00      1.00        25\n",
      "                              Arthritis       1.00      1.00      1.00        29\n",
      "                       Bronchial Asthma       1.00      1.00      1.00        30\n",
      "                   Cervical spondylosis       1.00      1.00      1.00        35\n",
      "                            Chicken pox       1.00      1.00      1.00        35\n",
      "                    Chronic cholestasis       1.00      1.00      1.00        31\n",
      "                            Common Cold       1.00      1.00      1.00        29\n",
      "                                 Dengue       1.00      1.00      1.00        31\n",
      "                              Diabetes        1.00      1.00      1.00        34\n",
      "           Dimorphic hemmorhoids(piles)       1.00      1.00      1.00        25\n",
      "                          Drug Reaction       1.00      1.00      1.00        36\n",
      "                       Fungal infection       1.00      1.00      1.00        29\n",
      "                                   GERD       1.00      1.00      1.00        32\n",
      "                        Gastroenteritis       1.00      1.00      1.00        28\n",
      "                           Heart attack       1.00      1.00      1.00        25\n",
      "                            Hepatitis B       1.00      1.00      1.00        32\n",
      "                            Hepatitis C       1.00      1.00      1.00        27\n",
      "                            Hepatitis D       1.00      1.00      1.00        27\n",
      "                            Hepatitis E       1.00      1.00      1.00        29\n",
      "                          Hypertension        1.00      1.00      1.00        31\n",
      "                        Hyperthyroidism       1.00      1.00      1.00        31\n",
      "                           Hypoglycemia       1.00      1.00      1.00        28\n",
      "                         Hypothyroidism       1.00      1.00      1.00        32\n",
      "                               Impetigo       1.00      1.00      1.00        31\n",
      "                               Jaundice       1.00      1.00      1.00        22\n",
      "                                Malaria       1.00      1.00      1.00        30\n",
      "                               Migraine       1.00      1.00      1.00        22\n",
      "                        Osteoarthristis       1.00      1.00      1.00        39\n",
      "           Paralysis (brain hemorrhage)       1.00      1.00      1.00        31\n",
      "                    Peptic ulcer diseae       1.00      1.00      1.00        29\n",
      "                              Pneumonia       1.00      1.00      1.00        28\n",
      "                              Psoriasis       1.00      1.00      1.00        29\n",
      "                           Tuberculosis       1.00      1.00      1.00        29\n",
      "                                Typhoid       1.00      1.00      1.00        28\n",
      "                Urinary tract infection       1.00      1.00      1.00        31\n",
      "                         Varicose veins       1.00      1.00      1.00        31\n",
      "                            hepatitis A       1.00      1.00      1.00        25\n",
      "\n",
      "                               accuracy                           1.00      1230\n",
      "                              macro avg       1.00      1.00      1.00      1230\n",
      "                           weighted avg       1.00      1.00      1.00      1230\n",
      "\n",
      "Accuracy: 1.0\n"
     ]
    }
   ],
   "source": [
    "print(metrics.confusion_matrix(Y_test, predictions))\n",
    "print(metrics.classification_report(Y_test, predictions))\n",
    "print(\"Accuracy:\", metrics.accuracy_score(Y_test, predictions))"
   ]
  },
  {
   "cell_type": "code",
   "execution_count": 24,
   "id": "f43b72b5",
   "metadata": {},
   "outputs": [
    {
     "name": "stdout",
     "output_type": "stream",
     "text": [
      "The predicted disease is: Hepatitis C\n"
     ]
    }
   ],
   "source": [
    "input_symptoms = [\"headache nausea blurred vision\"]\n",
    "predicted_disease = text_clf.predict(input_symptoms)\n",
    "print(f\"The predicted disease is: {predicted_disease[0]}\")"
   ]
  },
  {
   "cell_type": "markdown",
   "id": "dbd85c11",
   "metadata": {},
   "source": [
    "# Random Forest"
   ]
  },
  {
   "cell_type": "code",
   "execution_count": 25,
   "id": "6448ed0d",
   "metadata": {},
   "outputs": [],
   "source": [
    "from sklearn.ensemble import RandomForestClassifier\n",
    "from sklearn.pipeline import Pipeline"
   ]
  },
  {
   "cell_type": "code",
   "execution_count": 26,
   "id": "41535662",
   "metadata": {},
   "outputs": [],
   "source": [
    "X = df['Symptom']\n",
    "Y = df['Disease']\n",
    "X_train, X_test, Y_train, Y_test = train_test_split(X, Y, test_size=0.25, shuffle=True, random_state=44)"
   ]
  },
  {
   "cell_type": "code",
   "execution_count": 27,
   "id": "ece5b21f",
   "metadata": {},
   "outputs": [],
   "source": [
    "text_clf_rf = Pipeline([('tfidf', TfidfVectorizer()),('clf', RandomForestClassifier(random_state=44)),])"
   ]
  },
  {
   "cell_type": "code",
   "execution_count": 28,
   "id": "b54764b1",
   "metadata": {},
   "outputs": [],
   "source": [
    "text_clf_rf.fit(X_train, Y_train)\n",
    "predictions = text_clf_rf.predict(X_test)"
   ]
  },
  {
   "cell_type": "code",
   "execution_count": 29,
   "id": "b6a8fb2e",
   "metadata": {},
   "outputs": [
    {
     "name": "stdout",
     "output_type": "stream",
     "text": [
      "[[33  0  0 ...  0  0  0]\n",
      " [ 0 33  0 ...  0  0  0]\n",
      " [ 0  0 35 ...  0  0  0]\n",
      " ...\n",
      " [ 0  0  0 ... 31  0  0]\n",
      " [ 0  0  0 ...  0 31  0]\n",
      " [ 0  0  0 ...  0  0 25]]\n",
      "                                         precision    recall  f1-score   support\n",
      "\n",
      "(vertigo) Paroymsal  Positional Vertigo       1.00      1.00      1.00        33\n",
      "                                   AIDS       1.00      1.00      1.00        33\n",
      "                                   Acne       1.00      1.00      1.00        35\n",
      "                    Alcoholic hepatitis       1.00      1.00      1.00        33\n",
      "                                Allergy       1.00      1.00      1.00        25\n",
      "                              Arthritis       1.00      1.00      1.00        29\n",
      "                       Bronchial Asthma       1.00      1.00      1.00        30\n",
      "                   Cervical spondylosis       1.00      1.00      1.00        35\n",
      "                            Chicken pox       1.00      1.00      1.00        35\n",
      "                    Chronic cholestasis       1.00      1.00      1.00        31\n",
      "                            Common Cold       1.00      1.00      1.00        29\n",
      "                                 Dengue       1.00      1.00      1.00        31\n",
      "                              Diabetes        1.00      1.00      1.00        34\n",
      "           Dimorphic hemmorhoids(piles)       1.00      1.00      1.00        25\n",
      "                          Drug Reaction       1.00      1.00      1.00        36\n",
      "                       Fungal infection       1.00      1.00      1.00        29\n",
      "                                   GERD       1.00      1.00      1.00        32\n",
      "                        Gastroenteritis       1.00      1.00      1.00        28\n",
      "                           Heart attack       1.00      1.00      1.00        25\n",
      "                            Hepatitis B       1.00      1.00      1.00        32\n",
      "                            Hepatitis C       1.00      1.00      1.00        27\n",
      "                            Hepatitis D       1.00      1.00      1.00        27\n",
      "                            Hepatitis E       1.00      1.00      1.00        29\n",
      "                          Hypertension        1.00      1.00      1.00        31\n",
      "                        Hyperthyroidism       1.00      1.00      1.00        31\n",
      "                           Hypoglycemia       1.00      1.00      1.00        28\n",
      "                         Hypothyroidism       1.00      1.00      1.00        32\n",
      "                               Impetigo       1.00      1.00      1.00        31\n",
      "                               Jaundice       1.00      1.00      1.00        22\n",
      "                                Malaria       1.00      1.00      1.00        30\n",
      "                               Migraine       1.00      1.00      1.00        22\n",
      "                        Osteoarthristis       1.00      1.00      1.00        39\n",
      "           Paralysis (brain hemorrhage)       1.00      1.00      1.00        31\n",
      "                    Peptic ulcer diseae       1.00      1.00      1.00        29\n",
      "                              Pneumonia       1.00      1.00      1.00        28\n",
      "                              Psoriasis       1.00      1.00      1.00        29\n",
      "                           Tuberculosis       1.00      1.00      1.00        29\n",
      "                                Typhoid       1.00      1.00      1.00        28\n",
      "                Urinary tract infection       1.00      1.00      1.00        31\n",
      "                         Varicose veins       1.00      1.00      1.00        31\n",
      "                            hepatitis A       1.00      1.00      1.00        25\n",
      "\n",
      "                               accuracy                           1.00      1230\n",
      "                              macro avg       1.00      1.00      1.00      1230\n",
      "                           weighted avg       1.00      1.00      1.00      1230\n",
      "\n",
      "Accuracy: 1.0\n"
     ]
    }
   ],
   "source": [
    "print(metrics.confusion_matrix(Y_test, predictions))\n",
    "print(metrics.classification_report(Y_test, predictions))\n",
    "print(\"Accuracy:\", metrics.accuracy_score(Y_test, predictions))"
   ]
  },
  {
   "cell_type": "code",
   "execution_count": 30,
   "id": "7a88be72",
   "metadata": {},
   "outputs": [
    {
     "name": "stdout",
     "output_type": "stream",
     "text": [
      "The predicted disease is: (vertigo) Paroymsal  Positional Vertigo\n"
     ]
    }
   ],
   "source": [
    "input_symptoms = [\"headache nausea blurred vision\"]\n",
    "predicted_disease = text_clf_rf.predict(input_symptoms)\n",
    "print(f\"The predicted disease is: {predicted_disease[0]}\")"
   ]
  },
  {
   "cell_type": "markdown",
   "id": "ca5943b8",
   "metadata": {},
   "source": [
    "# Naive bayes"
   ]
  },
  {
   "cell_type": "code",
   "execution_count": 31,
   "id": "fc44e32c",
   "metadata": {},
   "outputs": [],
   "source": [
    "from sklearn.naive_bayes import MultinomialNB\n",
    "from sklearn.pipeline import Pipeline"
   ]
  },
  {
   "cell_type": "code",
   "execution_count": 32,
   "id": "da433a2c",
   "metadata": {},
   "outputs": [],
   "source": [
    "X = df['Symptom']\n",
    "Y = df['Disease']\n",
    "X_train, X_test, Y_train, Y_test = train_test_split(X, Y, test_size=0.25, shuffle=True, random_state=44)"
   ]
  },
  {
   "cell_type": "code",
   "execution_count": 33,
   "id": "893c85c4",
   "metadata": {},
   "outputs": [],
   "source": [
    "text_clf = Pipeline([('tfidf', TfidfVectorizer()),('clf', MultinomialNB()),])"
   ]
  },
  {
   "cell_type": "code",
   "execution_count": 34,
   "id": "8e1fe8ef",
   "metadata": {},
   "outputs": [],
   "source": [
    "text_clf.fit(X_train, Y_train)\n",
    "predictions = text_clf.predict(X_test)"
   ]
  },
  {
   "cell_type": "code",
   "execution_count": 35,
   "id": "6f66caa4",
   "metadata": {
    "scrolled": true
   },
   "outputs": [
    {
     "name": "stdout",
     "output_type": "stream",
     "text": [
      "[[33  0  0 ...  0  0  0]\n",
      " [ 0 33  0 ...  0  0  0]\n",
      " [ 0  0 35 ...  0  0  0]\n",
      " ...\n",
      " [ 0  0  0 ... 31  0  0]\n",
      " [ 0  0  0 ...  0 31  0]\n",
      " [ 0  0  0 ...  0  0 25]]\n",
      "                                         precision    recall  f1-score   support\n",
      "\n",
      "(vertigo) Paroymsal  Positional Vertigo       1.00      1.00      1.00        33\n",
      "                                   AIDS       1.00      1.00      1.00        33\n",
      "                                   Acne       1.00      1.00      1.00        35\n",
      "                    Alcoholic hepatitis       1.00      1.00      1.00        33\n",
      "                                Allergy       1.00      1.00      1.00        25\n",
      "                              Arthritis       1.00      1.00      1.00        29\n",
      "                       Bronchial Asthma       1.00      1.00      1.00        30\n",
      "                   Cervical spondylosis       1.00      1.00      1.00        35\n",
      "                            Chicken pox       1.00      1.00      1.00        35\n",
      "                    Chronic cholestasis       1.00      1.00      1.00        31\n",
      "                            Common Cold       1.00      1.00      1.00        29\n",
      "                                 Dengue       1.00      1.00      1.00        31\n",
      "                              Diabetes        1.00      1.00      1.00        34\n",
      "           Dimorphic hemmorhoids(piles)       1.00      1.00      1.00        25\n",
      "                          Drug Reaction       1.00      1.00      1.00        36\n",
      "                       Fungal infection       1.00      1.00      1.00        29\n",
      "                                   GERD       1.00      1.00      1.00        32\n",
      "                        Gastroenteritis       1.00      1.00      1.00        28\n",
      "                           Heart attack       1.00      1.00      1.00        25\n",
      "                            Hepatitis B       1.00      1.00      1.00        32\n",
      "                            Hepatitis C       1.00      1.00      1.00        27\n",
      "                            Hepatitis D       1.00      1.00      1.00        27\n",
      "                            Hepatitis E       1.00      1.00      1.00        29\n",
      "                          Hypertension        1.00      1.00      1.00        31\n",
      "                        Hyperthyroidism       1.00      1.00      1.00        31\n",
      "                           Hypoglycemia       1.00      1.00      1.00        28\n",
      "                         Hypothyroidism       1.00      1.00      1.00        32\n",
      "                               Impetigo       1.00      1.00      1.00        31\n",
      "                               Jaundice       1.00      1.00      1.00        22\n",
      "                                Malaria       1.00      1.00      1.00        30\n",
      "                               Migraine       1.00      1.00      1.00        22\n",
      "                        Osteoarthristis       1.00      1.00      1.00        39\n",
      "           Paralysis (brain hemorrhage)       1.00      1.00      1.00        31\n",
      "                    Peptic ulcer diseae       1.00      1.00      1.00        29\n",
      "                              Pneumonia       1.00      1.00      1.00        28\n",
      "                              Psoriasis       1.00      1.00      1.00        29\n",
      "                           Tuberculosis       1.00      1.00      1.00        29\n",
      "                                Typhoid       1.00      1.00      1.00        28\n",
      "                Urinary tract infection       1.00      1.00      1.00        31\n",
      "                         Varicose veins       1.00      1.00      1.00        31\n",
      "                            hepatitis A       1.00      1.00      1.00        25\n",
      "\n",
      "                               accuracy                           1.00      1230\n",
      "                              macro avg       1.00      1.00      1.00      1230\n",
      "                           weighted avg       1.00      1.00      1.00      1230\n",
      "\n",
      "Accuracy: 1.0\n"
     ]
    }
   ],
   "source": [
    "print(metrics.confusion_matrix(Y_test, predictions))\n",
    "print(metrics.classification_report(Y_test, predictions))\n",
    "print(\"Accuracy:\", metrics.accuracy_score(Y_test, predictions))"
   ]
  },
  {
   "cell_type": "code",
   "execution_count": 36,
   "id": "35f41bea",
   "metadata": {
    "scrolled": false
   },
   "outputs": [
    {
     "name": "stdout",
     "output_type": "stream",
     "text": [
      "The predicted disease is: Malaria\n"
     ]
    }
   ],
   "source": [
    "input_symptoms = [\"headache nausea blurred vision\"]\n",
    "predicted_disease = text_clf.predict(input_symptoms)\n",
    "print(f\"The predicted disease is: {predicted_disease[0]}\")"
   ]
  },
  {
   "cell_type": "code",
   "execution_count": 47,
   "id": "0cd153e3",
   "metadata": {},
   "outputs": [],
   "source": [
    "import tkinter as tk\n",
    "from tkinter import messagebox\n",
    "import pickle  # To load your trained model\n",
    "import numpy as np\n",
    "\n",
    "with open(\"disease_model.pkl\", \"wb\") as file:\n",
    "    pickle.dump(text_clf_rf, file)"
   ]
  },
  {
   "cell_type": "code",
   "execution_count": 50,
   "id": "e4bb9be0",
   "metadata": {},
   "outputs": [
    {
     "name": "stdout",
     "output_type": "stream",
     "text": [
      "User inputs: ['acidity', 'cough', 'vomitting']\n",
      "Inputs array: ['acidity', 'cough', 'vomitting']\n"
     ]
    }
   ],
   "source": [
    "def predict_disease():\n",
    "    try:\n",
    "        # Retrieve and preprocess inputs from entry fields\n",
    "        inputs = [entry.get().strip() for entry in entries]\n",
    "        print(\"User inputs:\", inputs)  # Debugging input values\n",
    "\n",
    "        # Preprocess strings if needed\n",
    "        inputs = [x.lower() for x in inputs]  # Example: Convert to lowercase\n",
    "        \n",
    "        # Convert to array\n",
    "#         inputs_array = np.array(inputs).reshape(1, -1)\n",
    "        print(\"Inputs array:\", inputs)  # Debugging preprocessed array\n",
    "        \n",
    "        # Make prediction\n",
    "        #         input_symptoms = [\"headache nausea blurred vision\"]\n",
    "        predicted_disease = text_clf_rf.predict(inputs)\n",
    "#         print(f\"The predicted disease is: {predicted_disease[0]}\")\n",
    "        \n",
    "#         prediction = text_clf.predict(inputs)\n",
    "        messagebox.showinfo(\"Prediction Result\", f\"Predicted Diseases: {predicted_disease}\")\n",
    "    except Exception as e:\n",
    "        messagebox.showerror(\"Error\", f\"An error occurred: {e}\")\n",
    "\n",
    "# Create main Tkinter window\n",
    "root = tk.Tk()\n",
    "root.title(\"Disease Prediction\")\n",
    "root.geometry(\"400x400\")\n",
    "\n",
    "# Define labels and entry fields for user input\n",
    "labels = [\"Symptom 1\", \"Symptom 2\", \"Symptom 3\"]  # Update with actual feature names\n",
    "entries = []\n",
    "\n",
    "for idx, label_text in enumerate(labels):\n",
    "    label = tk.Label(root, text=label_text, font=(\"Arial\", 12))\n",
    "    label.pack(pady=5)\n",
    "    entry = tk.Entry(root, font=(\"Arial\", 12))\n",
    "    entry.pack(pady=5)\n",
    "    entries.append(entry)\n",
    "\n",
    "# Prediction Button\n",
    "predict_button = tk.Button(root, text=\"Predict\", command=predict_disease, font=(\"Arial\", 14), bg=\"blue\", fg=\"white\")\n",
    "predict_button.pack(pady=20)\n",
    "\n",
    "# Run the Tkinter event loop\n",
    "root.mainloop()\n"
   ]
  },
  {
   "cell_type": "code",
   "execution_count": null,
   "id": "661c1879",
   "metadata": {},
   "outputs": [],
   "source": []
  }
 ],
 "metadata": {
  "kernelspec": {
   "display_name": "Python 3 (ipykernel)",
   "language": "python",
   "name": "python3"
  },
  "language_info": {
   "codemirror_mode": {
    "name": "ipython",
    "version": 3
   },
   "file_extension": ".py",
   "mimetype": "text/x-python",
   "name": "python",
   "nbconvert_exporter": "python",
   "pygments_lexer": "ipython3",
   "version": "3.11.7"
  }
 },
 "nbformat": 4,
 "nbformat_minor": 5
}
