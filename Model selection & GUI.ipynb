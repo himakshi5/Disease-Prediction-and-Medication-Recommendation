{
 "cells": [
  {
   "cell_type": "code",
   "execution_count": 1,
   "id": "1d6831c0",
   "metadata": {},
   "outputs": [],
   "source": [
    "import numpy as np\n",
    "import pandas as pd\n",
    "from sklearn.model_selection import train_test_split\n",
    "from sklearn.feature_extraction.text import TfidfVectorizer\n",
    "from sklearn.svm import SVC  # Import SVM\n",
    "from sklearn.pipeline import Pipeline\n",
    "from sklearn import metrics"
   ]
  },
  {
   "cell_type": "code",
   "execution_count": 2,
   "id": "12d99a6c",
   "metadata": {},
   "outputs": [
    {
     "data": {
      "text/html": [
       "<div>\n",
       "<style scoped>\n",
       "    .dataframe tbody tr th:only-of-type {\n",
       "        vertical-align: middle;\n",
       "    }\n",
       "\n",
       "    .dataframe tbody tr th {\n",
       "        vertical-align: top;\n",
       "    }\n",
       "\n",
       "    .dataframe thead th {\n",
       "        text-align: right;\n",
       "    }\n",
       "</style>\n",
       "<table border=\"1\" class=\"dataframe\">\n",
       "  <thead>\n",
       "    <tr style=\"text-align: right;\">\n",
       "      <th></th>\n",
       "      <th>Disease</th>\n",
       "      <th>Symptom_1</th>\n",
       "      <th>Symptom_2</th>\n",
       "      <th>Symptom_3</th>\n",
       "      <th>Symptom_4</th>\n",
       "      <th>Symptom_5</th>\n",
       "      <th>Symptom_6</th>\n",
       "      <th>Symptom_7</th>\n",
       "      <th>Symptom_8</th>\n",
       "      <th>Symptom_9</th>\n",
       "      <th>Symptom_10</th>\n",
       "      <th>Symptom_11</th>\n",
       "      <th>Symptom_12</th>\n",
       "      <th>Symptom_13</th>\n",
       "      <th>Symptom_14</th>\n",
       "      <th>Symptom_15</th>\n",
       "      <th>Symptom_16</th>\n",
       "      <th>Symptom_17</th>\n",
       "    </tr>\n",
       "  </thead>\n",
       "  <tbody>\n",
       "    <tr>\n",
       "      <th>0</th>\n",
       "      <td>Fungal infection</td>\n",
       "      <td>itching</td>\n",
       "      <td>skin_rash</td>\n",
       "      <td>nodal_skin_eruptions</td>\n",
       "      <td>dischromic _patches</td>\n",
       "      <td>NaN</td>\n",
       "      <td>NaN</td>\n",
       "      <td>NaN</td>\n",
       "      <td>NaN</td>\n",
       "      <td>NaN</td>\n",
       "      <td>NaN</td>\n",
       "      <td>NaN</td>\n",
       "      <td>NaN</td>\n",
       "      <td>NaN</td>\n",
       "      <td>NaN</td>\n",
       "      <td>NaN</td>\n",
       "      <td>NaN</td>\n",
       "      <td>NaN</td>\n",
       "    </tr>\n",
       "    <tr>\n",
       "      <th>1</th>\n",
       "      <td>Fungal infection</td>\n",
       "      <td>skin_rash</td>\n",
       "      <td>nodal_skin_eruptions</td>\n",
       "      <td>dischromic _patches</td>\n",
       "      <td>NaN</td>\n",
       "      <td>NaN</td>\n",
       "      <td>NaN</td>\n",
       "      <td>NaN</td>\n",
       "      <td>NaN</td>\n",
       "      <td>NaN</td>\n",
       "      <td>NaN</td>\n",
       "      <td>NaN</td>\n",
       "      <td>NaN</td>\n",
       "      <td>NaN</td>\n",
       "      <td>NaN</td>\n",
       "      <td>NaN</td>\n",
       "      <td>NaN</td>\n",
       "      <td>NaN</td>\n",
       "    </tr>\n",
       "    <tr>\n",
       "      <th>2</th>\n",
       "      <td>Fungal infection</td>\n",
       "      <td>itching</td>\n",
       "      <td>nodal_skin_eruptions</td>\n",
       "      <td>dischromic _patches</td>\n",
       "      <td>NaN</td>\n",
       "      <td>NaN</td>\n",
       "      <td>NaN</td>\n",
       "      <td>NaN</td>\n",
       "      <td>NaN</td>\n",
       "      <td>NaN</td>\n",
       "      <td>NaN</td>\n",
       "      <td>NaN</td>\n",
       "      <td>NaN</td>\n",
       "      <td>NaN</td>\n",
       "      <td>NaN</td>\n",
       "      <td>NaN</td>\n",
       "      <td>NaN</td>\n",
       "      <td>NaN</td>\n",
       "    </tr>\n",
       "    <tr>\n",
       "      <th>3</th>\n",
       "      <td>Fungal infection</td>\n",
       "      <td>itching</td>\n",
       "      <td>skin_rash</td>\n",
       "      <td>dischromic _patches</td>\n",
       "      <td>NaN</td>\n",
       "      <td>NaN</td>\n",
       "      <td>NaN</td>\n",
       "      <td>NaN</td>\n",
       "      <td>NaN</td>\n",
       "      <td>NaN</td>\n",
       "      <td>NaN</td>\n",
       "      <td>NaN</td>\n",
       "      <td>NaN</td>\n",
       "      <td>NaN</td>\n",
       "      <td>NaN</td>\n",
       "      <td>NaN</td>\n",
       "      <td>NaN</td>\n",
       "      <td>NaN</td>\n",
       "    </tr>\n",
       "    <tr>\n",
       "      <th>4</th>\n",
       "      <td>Fungal infection</td>\n",
       "      <td>itching</td>\n",
       "      <td>skin_rash</td>\n",
       "      <td>nodal_skin_eruptions</td>\n",
       "      <td>NaN</td>\n",
       "      <td>NaN</td>\n",
       "      <td>NaN</td>\n",
       "      <td>NaN</td>\n",
       "      <td>NaN</td>\n",
       "      <td>NaN</td>\n",
       "      <td>NaN</td>\n",
       "      <td>NaN</td>\n",
       "      <td>NaN</td>\n",
       "      <td>NaN</td>\n",
       "      <td>NaN</td>\n",
       "      <td>NaN</td>\n",
       "      <td>NaN</td>\n",
       "      <td>NaN</td>\n",
       "    </tr>\n",
       "  </tbody>\n",
       "</table>\n",
       "</div>"
      ],
      "text/plain": [
       "            Disease   Symptom_1              Symptom_2              Symptom_3  \\\n",
       "0  Fungal infection     itching              skin_rash   nodal_skin_eruptions   \n",
       "1  Fungal infection   skin_rash   nodal_skin_eruptions    dischromic _patches   \n",
       "2  Fungal infection     itching   nodal_skin_eruptions    dischromic _patches   \n",
       "3  Fungal infection     itching              skin_rash    dischromic _patches   \n",
       "4  Fungal infection     itching              skin_rash   nodal_skin_eruptions   \n",
       "\n",
       "              Symptom_4 Symptom_5 Symptom_6 Symptom_7 Symptom_8 Symptom_9  \\\n",
       "0   dischromic _patches       NaN       NaN       NaN       NaN       NaN   \n",
       "1                   NaN       NaN       NaN       NaN       NaN       NaN   \n",
       "2                   NaN       NaN       NaN       NaN       NaN       NaN   \n",
       "3                   NaN       NaN       NaN       NaN       NaN       NaN   \n",
       "4                   NaN       NaN       NaN       NaN       NaN       NaN   \n",
       "\n",
       "  Symptom_10 Symptom_11 Symptom_12 Symptom_13 Symptom_14 Symptom_15  \\\n",
       "0        NaN        NaN        NaN        NaN        NaN        NaN   \n",
       "1        NaN        NaN        NaN        NaN        NaN        NaN   \n",
       "2        NaN        NaN        NaN        NaN        NaN        NaN   \n",
       "3        NaN        NaN        NaN        NaN        NaN        NaN   \n",
       "4        NaN        NaN        NaN        NaN        NaN        NaN   \n",
       "\n",
       "  Symptom_16 Symptom_17  \n",
       "0        NaN        NaN  \n",
       "1        NaN        NaN  \n",
       "2        NaN        NaN  \n",
       "3        NaN        NaN  \n",
       "4        NaN        NaN  "
      ]
     },
     "execution_count": 2,
     "metadata": {},
     "output_type": "execute_result"
    }
   ],
   "source": [
    "# Load the dataset\n",
    "df = pd.read_csv(r\"C:\\\\Users\\\\HP\\\\OneDrive\\\\Documents\\\\minor_srm\\\\disease_dataset.csv\")\n",
    "df.head()"
   ]
  },
  {
   "cell_type": "code",
   "execution_count": 3,
   "id": "c227593e",
   "metadata": {},
   "outputs": [
    {
     "data": {
      "text/html": [
       "<div>\n",
       "<style scoped>\n",
       "    .dataframe tbody tr th:only-of-type {\n",
       "        vertical-align: middle;\n",
       "    }\n",
       "\n",
       "    .dataframe tbody tr th {\n",
       "        vertical-align: top;\n",
       "    }\n",
       "\n",
       "    .dataframe thead th {\n",
       "        text-align: right;\n",
       "    }\n",
       "</style>\n",
       "<table border=\"1\" class=\"dataframe\">\n",
       "  <thead>\n",
       "    <tr style=\"text-align: right;\">\n",
       "      <th></th>\n",
       "      <th>Disease</th>\n",
       "      <th>Symptom_1</th>\n",
       "      <th>Symptom_2</th>\n",
       "      <th>Symptom_3</th>\n",
       "      <th>Symptom_4</th>\n",
       "      <th>Symptom_5</th>\n",
       "      <th>Symptom_6</th>\n",
       "      <th>Symptom_7</th>\n",
       "      <th>Symptom_8</th>\n",
       "      <th>Symptom_9</th>\n",
       "      <th>Symptom_10</th>\n",
       "      <th>Symptom_11</th>\n",
       "      <th>Symptom_12</th>\n",
       "      <th>Symptom_13</th>\n",
       "      <th>Symptom_14</th>\n",
       "      <th>Symptom_15</th>\n",
       "      <th>Symptom_16</th>\n",
       "      <th>Symptom_17</th>\n",
       "      <th>Symptom</th>\n",
       "      <th>s</th>\n",
       "    </tr>\n",
       "  </thead>\n",
       "  <tbody>\n",
       "    <tr>\n",
       "      <th>0</th>\n",
       "      <td>Fungal infection</td>\n",
       "      <td>itching</td>\n",
       "      <td>skin_rash</td>\n",
       "      <td>nodal_skin_eruptions</td>\n",
       "      <td>dischromic _patches</td>\n",
       "      <td></td>\n",
       "      <td></td>\n",
       "      <td></td>\n",
       "      <td></td>\n",
       "      <td></td>\n",
       "      <td></td>\n",
       "      <td></td>\n",
       "      <td></td>\n",
       "      <td></td>\n",
       "      <td></td>\n",
       "      <td></td>\n",
       "      <td></td>\n",
       "      <td></td>\n",
       "      <td>itching skin_rash nodal_skin_eruptions dischro...</td>\n",
       "      <td></td>\n",
       "    </tr>\n",
       "    <tr>\n",
       "      <th>1</th>\n",
       "      <td>Fungal infection</td>\n",
       "      <td>skin_rash</td>\n",
       "      <td>nodal_skin_eruptions</td>\n",
       "      <td>dischromic _patches</td>\n",
       "      <td></td>\n",
       "      <td></td>\n",
       "      <td></td>\n",
       "      <td></td>\n",
       "      <td></td>\n",
       "      <td></td>\n",
       "      <td></td>\n",
       "      <td></td>\n",
       "      <td></td>\n",
       "      <td></td>\n",
       "      <td></td>\n",
       "      <td></td>\n",
       "      <td></td>\n",
       "      <td></td>\n",
       "      <td>skin_rash nodal_skin_eruptions dischromic _pa...</td>\n",
       "      <td></td>\n",
       "    </tr>\n",
       "    <tr>\n",
       "      <th>2</th>\n",
       "      <td>Fungal infection</td>\n",
       "      <td>itching</td>\n",
       "      <td>nodal_skin_eruptions</td>\n",
       "      <td>dischromic _patches</td>\n",
       "      <td></td>\n",
       "      <td></td>\n",
       "      <td></td>\n",
       "      <td></td>\n",
       "      <td></td>\n",
       "      <td></td>\n",
       "      <td></td>\n",
       "      <td></td>\n",
       "      <td></td>\n",
       "      <td></td>\n",
       "      <td></td>\n",
       "      <td></td>\n",
       "      <td></td>\n",
       "      <td></td>\n",
       "      <td>itching nodal_skin_eruptions dischromic _patches</td>\n",
       "      <td></td>\n",
       "    </tr>\n",
       "    <tr>\n",
       "      <th>3</th>\n",
       "      <td>Fungal infection</td>\n",
       "      <td>itching</td>\n",
       "      <td>skin_rash</td>\n",
       "      <td>dischromic _patches</td>\n",
       "      <td></td>\n",
       "      <td></td>\n",
       "      <td></td>\n",
       "      <td></td>\n",
       "      <td></td>\n",
       "      <td></td>\n",
       "      <td></td>\n",
       "      <td></td>\n",
       "      <td></td>\n",
       "      <td></td>\n",
       "      <td></td>\n",
       "      <td></td>\n",
       "      <td></td>\n",
       "      <td></td>\n",
       "      <td>itching skin_rash dischromic _patches</td>\n",
       "      <td></td>\n",
       "    </tr>\n",
       "    <tr>\n",
       "      <th>4</th>\n",
       "      <td>Fungal infection</td>\n",
       "      <td>itching</td>\n",
       "      <td>skin_rash</td>\n",
       "      <td>nodal_skin_eruptions</td>\n",
       "      <td></td>\n",
       "      <td></td>\n",
       "      <td></td>\n",
       "      <td></td>\n",
       "      <td></td>\n",
       "      <td></td>\n",
       "      <td></td>\n",
       "      <td></td>\n",
       "      <td></td>\n",
       "      <td></td>\n",
       "      <td></td>\n",
       "      <td></td>\n",
       "      <td></td>\n",
       "      <td></td>\n",
       "      <td>itching skin_rash nodal_skin_eruptions</td>\n",
       "      <td></td>\n",
       "    </tr>\n",
       "  </tbody>\n",
       "</table>\n",
       "</div>"
      ],
      "text/plain": [
       "            Disease   Symptom_1              Symptom_2              Symptom_3  \\\n",
       "0  Fungal infection     itching              skin_rash   nodal_skin_eruptions   \n",
       "1  Fungal infection   skin_rash   nodal_skin_eruptions    dischromic _patches   \n",
       "2  Fungal infection     itching   nodal_skin_eruptions    dischromic _patches   \n",
       "3  Fungal infection     itching              skin_rash    dischromic _patches   \n",
       "4  Fungal infection     itching              skin_rash   nodal_skin_eruptions   \n",
       "\n",
       "              Symptom_4 Symptom_5 Symptom_6 Symptom_7 Symptom_8 Symptom_9  \\\n",
       "0   dischromic _patches                                                     \n",
       "1                                                                           \n",
       "2                                                                           \n",
       "3                                                                           \n",
       "4                                                                           \n",
       "\n",
       "  Symptom_10 Symptom_11 Symptom_12 Symptom_13 Symptom_14 Symptom_15  \\\n",
       "0                                                                     \n",
       "1                                                                     \n",
       "2                                                                     \n",
       "3                                                                     \n",
       "4                                                                     \n",
       "\n",
       "  Symptom_16 Symptom_17                                            Symptom s  \n",
       "0                        itching skin_rash nodal_skin_eruptions dischro...    \n",
       "1                         skin_rash nodal_skin_eruptions dischromic _pa...    \n",
       "2                         itching nodal_skin_eruptions dischromic _patches    \n",
       "3                                    itching skin_rash dischromic _patches    \n",
       "4                                   itching skin_rash nodal_skin_eruptions    "
      ]
     },
     "execution_count": 3,
     "metadata": {},
     "output_type": "execute_result"
    }
   ],
   "source": [
    "df = df.fillna(\"\")\n",
    "df['Symptom']=\"\"\n",
    "for i in range(1,18):\n",
    "    df['s']=df[\"Symptom_{}\".format(i)]\n",
    "    df['Symptom']=df['Symptom']+df['s']\n",
    "df.head()"
   ]
  },
  {
   "cell_type": "code",
   "execution_count": 4,
   "id": "7b8b51e7",
   "metadata": {},
   "outputs": [
    {
     "data": {
      "text/html": [
       "<div>\n",
       "<style scoped>\n",
       "    .dataframe tbody tr th:only-of-type {\n",
       "        vertical-align: middle;\n",
       "    }\n",
       "\n",
       "    .dataframe tbody tr th {\n",
       "        vertical-align: top;\n",
       "    }\n",
       "\n",
       "    .dataframe thead th {\n",
       "        text-align: right;\n",
       "    }\n",
       "</style>\n",
       "<table border=\"1\" class=\"dataframe\">\n",
       "  <thead>\n",
       "    <tr style=\"text-align: right;\">\n",
       "      <th></th>\n",
       "      <th>Disease</th>\n",
       "      <th>Symptom</th>\n",
       "    </tr>\n",
       "  </thead>\n",
       "  <tbody>\n",
       "    <tr>\n",
       "      <th>0</th>\n",
       "      <td>Fungal infection</td>\n",
       "      <td>itching skin_rash nodal_skin_eruptions dischro...</td>\n",
       "    </tr>\n",
       "    <tr>\n",
       "      <th>1</th>\n",
       "      <td>Fungal infection</td>\n",
       "      <td>skin_rash nodal_skin_eruptions dischromic _pa...</td>\n",
       "    </tr>\n",
       "    <tr>\n",
       "      <th>2</th>\n",
       "      <td>Fungal infection</td>\n",
       "      <td>itching nodal_skin_eruptions dischromic _patches</td>\n",
       "    </tr>\n",
       "    <tr>\n",
       "      <th>3</th>\n",
       "      <td>Fungal infection</td>\n",
       "      <td>itching skin_rash dischromic _patches</td>\n",
       "    </tr>\n",
       "    <tr>\n",
       "      <th>4</th>\n",
       "      <td>Fungal infection</td>\n",
       "      <td>itching skin_rash nodal_skin_eruptions</td>\n",
       "    </tr>\n",
       "  </tbody>\n",
       "</table>\n",
       "</div>"
      ],
      "text/plain": [
       "            Disease                                            Symptom\n",
       "0  Fungal infection  itching skin_rash nodal_skin_eruptions dischro...\n",
       "1  Fungal infection   skin_rash nodal_skin_eruptions dischromic _pa...\n",
       "2  Fungal infection   itching nodal_skin_eruptions dischromic _patches\n",
       "3  Fungal infection              itching skin_rash dischromic _patches\n",
       "4  Fungal infection             itching skin_rash nodal_skin_eruptions"
      ]
     },
     "execution_count": 4,
     "metadata": {},
     "output_type": "execute_result"
    }
   ],
   "source": [
    "for i in range(1,18):\n",
    "    df=df.drop(\"Symptom_{}\".format(i),axis=1)\n",
    "df=df.drop(\"s\",axis=1)\n",
    "df.head()"
   ]
  },
  {
   "cell_type": "code",
   "execution_count": 5,
   "id": "60d29313",
   "metadata": {},
   "outputs": [
    {
     "data": {
      "text/plain": [
       "(0    Fungal infection\n",
       " 1    Fungal infection\n",
       " 2    Fungal infection\n",
       " 3    Fungal infection\n",
       " 4    Fungal infection\n",
       " 5    Fungal infection\n",
       " 6    Fungal infection\n",
       " 7    Fungal infection\n",
       " 8    Fungal infection\n",
       " 9    Fungal infection\n",
       " Name: Disease, dtype: object,\n",
       " 0    itching skin_rash nodal_skin_eruptions dischro...\n",
       " 1     skin_rash nodal_skin_eruptions dischromic _pa...\n",
       " 2     itching nodal_skin_eruptions dischromic _patches\n",
       " 3                itching skin_rash dischromic _patches\n",
       " 4               itching skin_rash nodal_skin_eruptions\n",
       " 5     skin_rash nodal_skin_eruptions dischromic _pa...\n",
       " 6     itching nodal_skin_eruptions dischromic _patches\n",
       " 7                itching skin_rash dischromic _patches\n",
       " 8               itching skin_rash nodal_skin_eruptions\n",
       " 9    itching skin_rash nodal_skin_eruptions dischro...\n",
       " Name: Symptom, dtype: object)"
      ]
     },
     "execution_count": 5,
     "metadata": {},
     "output_type": "execute_result"
    }
   ],
   "source": [
    "X=df['Disease']\n",
    "Y=df['Symptom']\n",
    "X.head(10),Y.head(10)"
   ]
  },
  {
   "cell_type": "code",
   "execution_count": 6,
   "id": "88dbee90",
   "metadata": {},
   "outputs": [],
   "source": [
    "from sklearn.model_selection import train_test_split\n",
    "X_train,X_test,Y_train,Y_test=train_test_split(X,Y,test_size=.25,shuffle=True,random_state=44)"
   ]
  },
  {
   "cell_type": "code",
   "execution_count": 7,
   "id": "0084039b",
   "metadata": {},
   "outputs": [
    {
     "data": {
      "text/plain": [
       "(3690, 135)"
      ]
     },
     "execution_count": 7,
     "metadata": {},
     "output_type": "execute_result"
    }
   ],
   "source": [
    "vectorizer = TfidfVectorizer()\n",
    "\n",
    "Y_train_tfidf = vectorizer.fit_transform(Y_train)\n",
    "Y_train_tfidf.shape"
   ]
  },
  {
   "cell_type": "code",
   "execution_count": 8,
   "id": "e01122df",
   "metadata": {},
   "outputs": [
    {
     "data": {
      "text/plain": [
       "0         (0, 107)\\t0.42164632513477507\\n  (0, 22)\\t0....\n",
       "1         (0, 124)\\t0.4120490720427296\\n  (0, 54)\\t0.2...\n",
       "2         (0, 79)\\t0.4510419179046219\\n  (0, 112)\\t0.4...\n",
       "3         (0, 51)\\t0.45900352946016976\\n  (0, 103)\\t0....\n",
       "4         (0, 131)\\t0.5269244100190276\\n  (0, 90)\\t0.5...\n",
       "                              ...                        \n",
       "3685      (0, 67)\\t0.5036364766736794\\n  (0, 71)\\t0.42...\n",
       "3686      (0, 111)\\t0.37930170238198424\\n  (0, 65)\\t0....\n",
       "3687      (0, 87)\\t0.6519490465239833\\n  (0, 9)\\t0.653...\n",
       "3688      (0, 5)\\t0.6339138832160964\\n  (0, 128)\\t0.65...\n",
       "3689      (0, 39)\\t0.556559575085783\\n  (0, 82)\\t0.556...\n",
       "Name: 0, Length: 3690, dtype: object"
      ]
     },
     "execution_count": 8,
     "metadata": {},
     "output_type": "execute_result"
    }
   ],
   "source": [
    "pd.DataFrame(Y_train_tfidf)[0]"
   ]
  },
  {
   "cell_type": "code",
   "execution_count": 9,
   "id": "c85f8606",
   "metadata": {},
   "outputs": [
    {
     "data": {
      "text/html": [
       "<style>#sk-container-id-1 {color: black;background-color: white;}#sk-container-id-1 pre{padding: 0;}#sk-container-id-1 div.sk-toggleable {background-color: white;}#sk-container-id-1 label.sk-toggleable__label {cursor: pointer;display: block;width: 100%;margin-bottom: 0;padding: 0.3em;box-sizing: border-box;text-align: center;}#sk-container-id-1 label.sk-toggleable__label-arrow:before {content: \"▸\";float: left;margin-right: 0.25em;color: #696969;}#sk-container-id-1 label.sk-toggleable__label-arrow:hover:before {color: black;}#sk-container-id-1 div.sk-estimator:hover label.sk-toggleable__label-arrow:before {color: black;}#sk-container-id-1 div.sk-toggleable__content {max-height: 0;max-width: 0;overflow: hidden;text-align: left;background-color: #f0f8ff;}#sk-container-id-1 div.sk-toggleable__content pre {margin: 0.2em;color: black;border-radius: 0.25em;background-color: #f0f8ff;}#sk-container-id-1 input.sk-toggleable__control:checked~div.sk-toggleable__content {max-height: 200px;max-width: 100%;overflow: auto;}#sk-container-id-1 input.sk-toggleable__control:checked~label.sk-toggleable__label-arrow:before {content: \"▾\";}#sk-container-id-1 div.sk-estimator input.sk-toggleable__control:checked~label.sk-toggleable__label {background-color: #d4ebff;}#sk-container-id-1 div.sk-label input.sk-toggleable__control:checked~label.sk-toggleable__label {background-color: #d4ebff;}#sk-container-id-1 input.sk-hidden--visually {border: 0;clip: rect(1px 1px 1px 1px);clip: rect(1px, 1px, 1px, 1px);height: 1px;margin: -1px;overflow: hidden;padding: 0;position: absolute;width: 1px;}#sk-container-id-1 div.sk-estimator {font-family: monospace;background-color: #f0f8ff;border: 1px dotted black;border-radius: 0.25em;box-sizing: border-box;margin-bottom: 0.5em;}#sk-container-id-1 div.sk-estimator:hover {background-color: #d4ebff;}#sk-container-id-1 div.sk-parallel-item::after {content: \"\";width: 100%;border-bottom: 1px solid gray;flex-grow: 1;}#sk-container-id-1 div.sk-label:hover label.sk-toggleable__label {background-color: #d4ebff;}#sk-container-id-1 div.sk-serial::before {content: \"\";position: absolute;border-left: 1px solid gray;box-sizing: border-box;top: 0;bottom: 0;left: 50%;z-index: 0;}#sk-container-id-1 div.sk-serial {display: flex;flex-direction: column;align-items: center;background-color: white;padding-right: 0.2em;padding-left: 0.2em;position: relative;}#sk-container-id-1 div.sk-item {position: relative;z-index: 1;}#sk-container-id-1 div.sk-parallel {display: flex;align-items: stretch;justify-content: center;background-color: white;position: relative;}#sk-container-id-1 div.sk-item::before, #sk-container-id-1 div.sk-parallel-item::before {content: \"\";position: absolute;border-left: 1px solid gray;box-sizing: border-box;top: 0;bottom: 0;left: 50%;z-index: -1;}#sk-container-id-1 div.sk-parallel-item {display: flex;flex-direction: column;z-index: 1;position: relative;background-color: white;}#sk-container-id-1 div.sk-parallel-item:first-child::after {align-self: flex-end;width: 50%;}#sk-container-id-1 div.sk-parallel-item:last-child::after {align-self: flex-start;width: 50%;}#sk-container-id-1 div.sk-parallel-item:only-child::after {width: 0;}#sk-container-id-1 div.sk-dashed-wrapped {border: 1px dashed gray;margin: 0 0.4em 0.5em 0.4em;box-sizing: border-box;padding-bottom: 0.4em;background-color: white;}#sk-container-id-1 div.sk-label label {font-family: monospace;font-weight: bold;display: inline-block;line-height: 1.2em;}#sk-container-id-1 div.sk-label-container {text-align: center;}#sk-container-id-1 div.sk-container {/* jupyter's `normalize.less` sets `[hidden] { display: none; }` but bootstrap.min.css set `[hidden] { display: none !important; }` so we also need the `!important` here to be able to override the default hidden behavior on the sphinx rendered scikit-learn.org. See: https://github.com/scikit-learn/scikit-learn/issues/21755 */display: inline-block !important;position: relative;}#sk-container-id-1 div.sk-text-repr-fallback {display: none;}</style><div id=\"sk-container-id-1\" class=\"sk-top-container\"><div class=\"sk-text-repr-fallback\"><pre>LinearSVC()</pre><b>In a Jupyter environment, please rerun this cell to show the HTML representation or trust the notebook. <br />On GitHub, the HTML representation is unable to render, please try loading this page with nbviewer.org.</b></div><div class=\"sk-container\" hidden><div class=\"sk-item\"><div class=\"sk-estimator sk-toggleable\"><input class=\"sk-toggleable__control sk-hidden--visually\" id=\"sk-estimator-id-1\" type=\"checkbox\" checked><label for=\"sk-estimator-id-1\" class=\"sk-toggleable__label sk-toggleable__label-arrow\">LinearSVC</label><div class=\"sk-toggleable__content\"><pre>LinearSVC()</pre></div></div></div></div></div>"
      ],
      "text/plain": [
       "LinearSVC()"
      ]
     },
     "execution_count": 9,
     "metadata": {},
     "output_type": "execute_result"
    }
   ],
   "source": [
    "from sklearn.svm import LinearSVC\n",
    "clf = LinearSVC()\n",
    "clf.fit(Y_train_tfidf,X_train)"
   ]
  },
  {
   "cell_type": "code",
   "execution_count": 10,
   "id": "09570588",
   "metadata": {},
   "outputs": [],
   "source": [
    "text_clf = Pipeline([('tfidf', TfidfVectorizer()),\n",
    "                     ('clf', LinearSVC()),])\n",
    "\n",
    "\n",
    "text_clf.fit(Y_train, X_train)  \n",
    "\n",
    "\n",
    "predictions = text_clf.predict(Y_test)"
   ]
  },
  {
   "cell_type": "code",
   "execution_count": 11,
   "id": "ed29495b",
   "metadata": {},
   "outputs": [
    {
     "name": "stdout",
     "output_type": "stream",
     "text": [
      "[[33  0  0 ...  0  0  0]\n",
      " [ 0 33  0 ...  0  0  0]\n",
      " [ 0  0 35 ...  0  0  0]\n",
      " ...\n",
      " [ 0  0  0 ... 31  0  0]\n",
      " [ 0  0  0 ...  0 31  0]\n",
      " [ 0  0  0 ...  0  0 25]]\n"
     ]
    }
   ],
   "source": [
    "print(metrics.confusion_matrix(X_test,predictions))"
   ]
  },
  {
   "cell_type": "code",
   "execution_count": 12,
   "id": "c819e442",
   "metadata": {},
   "outputs": [
    {
     "name": "stdout",
     "output_type": "stream",
     "text": [
      "                                         precision    recall  f1-score   support\n",
      "\n",
      "(vertigo) Paroymsal  Positional Vertigo       1.00      1.00      1.00        33\n",
      "                                   AIDS       1.00      1.00      1.00        33\n",
      "                                   Acne       1.00      1.00      1.00        35\n",
      "                    Alcoholic hepatitis       1.00      1.00      1.00        33\n",
      "                                Allergy       1.00      1.00      1.00        25\n",
      "                              Arthritis       1.00      1.00      1.00        29\n",
      "                       Bronchial Asthma       1.00      1.00      1.00        30\n",
      "                   Cervical spondylosis       1.00      1.00      1.00        35\n",
      "                            Chicken pox       1.00      1.00      1.00        35\n",
      "                    Chronic cholestasis       1.00      1.00      1.00        31\n",
      "                            Common Cold       1.00      1.00      1.00        29\n",
      "                                 Dengue       1.00      1.00      1.00        31\n",
      "                              Diabetes        1.00      1.00      1.00        34\n",
      "           Dimorphic hemmorhoids(piles)       1.00      1.00      1.00        25\n",
      "                          Drug Reaction       1.00      1.00      1.00        36\n",
      "                       Fungal infection       1.00      1.00      1.00        29\n",
      "                                   GERD       1.00      1.00      1.00        32\n",
      "                        Gastroenteritis       1.00      1.00      1.00        28\n",
      "                           Heart attack       1.00      1.00      1.00        25\n",
      "                            Hepatitis B       1.00      1.00      1.00        32\n",
      "                            Hepatitis C       1.00      1.00      1.00        27\n",
      "                            Hepatitis D       1.00      1.00      1.00        27\n",
      "                            Hepatitis E       1.00      1.00      1.00        29\n",
      "                          Hypertension        1.00      1.00      1.00        31\n",
      "                        Hyperthyroidism       1.00      1.00      1.00        31\n",
      "                           Hypoglycemia       1.00      1.00      1.00        28\n",
      "                         Hypothyroidism       1.00      1.00      1.00        32\n",
      "                               Impetigo       1.00      1.00      1.00        31\n",
      "                               Jaundice       1.00      1.00      1.00        22\n",
      "                                Malaria       1.00      1.00      1.00        30\n",
      "                               Migraine       1.00      1.00      1.00        22\n",
      "                        Osteoarthristis       1.00      1.00      1.00        39\n",
      "           Paralysis (brain hemorrhage)       1.00      1.00      1.00        31\n",
      "                    Peptic ulcer diseae       1.00      1.00      1.00        29\n",
      "                              Pneumonia       1.00      1.00      1.00        28\n",
      "                              Psoriasis       1.00      1.00      1.00        29\n",
      "                           Tuberculosis       1.00      1.00      1.00        29\n",
      "                                Typhoid       1.00      1.00      1.00        28\n",
      "                Urinary tract infection       1.00      1.00      1.00        31\n",
      "                         Varicose veins       1.00      1.00      1.00        31\n",
      "                            hepatitis A       1.00      1.00      1.00        25\n",
      "\n",
      "                               accuracy                           1.00      1230\n",
      "                              macro avg       1.00      1.00      1.00      1230\n",
      "                           weighted avg       1.00      1.00      1.00      1230\n",
      "\n",
      "1.0\n"
     ]
    }
   ],
   "source": [
    "print(metrics.classification_report(X_test,predictions))\n",
    "print(metrics.accuracy_score(X_test,predictions))"
   ]
  },
  {
   "cell_type": "code",
   "execution_count": 13,
   "id": "b6b7a238",
   "metadata": {},
   "outputs": [
    {
     "name": "stdout",
     "output_type": "stream",
     "text": [
      "The predicted disease is: (vertigo) Paroymsal  Positional Vertigo\n"
     ]
    }
   ],
   "source": [
    "input_symptoms = [\"headache\", \"nausea\", \"blurred vision\"]\n",
    "processed_input = vectorizer.transform([\" \".join(input_symptoms)])  # Adjust this based on the preprocessing steps\n",
    "predicted_disease = clf.predict(processed_input)\n",
    "print(f\"The predicted disease is: {predicted_disease[0]}\")"
   ]
  },
  {
   "cell_type": "code",
   "execution_count": 14,
   "id": "0996c9bd",
   "metadata": {},
   "outputs": [
    {
     "name": "stdout",
     "output_type": "stream",
     "text": [
      "['headache', 'nausea', 'blurred vision']\n"
     ]
    }
   ],
   "source": [
    "print(input_symptoms)"
   ]
  },
  {
   "cell_type": "markdown",
   "id": "9c3a57ac",
   "metadata": {},
   "source": [
    "# RF"
   ]
  },
  {
   "cell_type": "code",
   "execution_count": 15,
   "id": "06f13381",
   "metadata": {},
   "outputs": [],
   "source": [
    "# from sklearn.ensemble import RandomForestClassifier\n",
    "# from sklearn.pipeline import Pipeline"
   ]
  },
  {
   "cell_type": "code",
   "execution_count": 16,
   "id": "072374f6",
   "metadata": {},
   "outputs": [],
   "source": [
    "# X = df['Symptom']\n",
    "# Y = df['Disease']\n",
    "# X_train, X_test, Y_train, Y_test = train_test_split(X, Y, test_size=0.25, shuffle=True, random_state=44)"
   ]
  },
  {
   "cell_type": "code",
   "execution_count": 17,
   "id": "51bdd4f7",
   "metadata": {},
   "outputs": [],
   "source": [
    "# text_clf_r = Pipeline([('tfidf', TfidfVectorizer()),('clf', RandomForestClassifier(random_state=44)),])"
   ]
  },
  {
   "cell_type": "code",
   "execution_count": 18,
   "id": "b0fe6d3f",
   "metadata": {},
   "outputs": [],
   "source": [
    "# text_clf_r.fit(X_train, Y_train)\n",
    "# predictions = text_clf.predict(X_test)"
   ]
  },
  {
   "cell_type": "code",
   "execution_count": 19,
   "id": "71734f84",
   "metadata": {},
   "outputs": [],
   "source": [
    "# print(metrics.confusion_matrix(Y_test, predictions))\n",
    "# print(metrics.classification_report(Y_test, predictions))\n",
    "# print(\"Accuracy:\", metrics.accuracy_score(Y_test, predictions))"
   ]
  },
  {
   "cell_type": "code",
   "execution_count": 20,
   "id": "2294c89c",
   "metadata": {},
   "outputs": [],
   "source": [
    "# input_symptoms = [\"headache nausea blurred vision\"]\n",
    "# predicted_disease = text_clf_r.predict(input_symptoms)\n",
    "# print(f\"The predicted disease is: {predicted_disease[0]}\")\n",
    "# input_medicine = predicted_disease"
   ]
  },
  {
   "cell_type": "code",
   "execution_count": 21,
   "id": "a669a2c8",
   "metadata": {},
   "outputs": [
    {
     "name": "stdout",
     "output_type": "stream",
     "text": [
      "Model Accuracy: 1.00\n",
      "Predicted Disease: Dengue\n"
     ]
    },
    {
     "name": "stderr",
     "output_type": "stream",
     "text": [
      "C:\\Users\\HP\\anaconda3\\Lib\\site-packages\\sklearn\\preprocessing\\_label.py:895: UserWarning: unknown class(es) ['fever', 'itching'] will be ignored\n",
      "  warnings.warn(\n",
      "C:\\Users\\HP\\anaconda3\\Lib\\site-packages\\sklearn\\base.py:439: UserWarning: X does not have valid feature names, but RandomForestClassifier was fitted with feature names\n",
      "  warnings.warn(\n"
     ]
    }
   ],
   "source": [
    "import pandas as pd\n",
    "from sklearn.model_selection import train_test_split\n",
    "from sklearn.ensemble import RandomForestClassifier\n",
    "from sklearn.preprocessing import MultiLabelBinarizer\n",
    "from sklearn.metrics import accuracy_score\n",
    "\n",
    "# # Sample dataset\n",
    "# data = {\n",
    "#     'disease': ['Disease1', 'Disease2', 'Disease1', 'Disease3'],\n",
    "#     'symptoms': ['itching, skin_rash, fever', 'fever, cough', 'itching, skin_rash', 'cough, fever']\n",
    "# }\n",
    "\n",
    "# # Convert to DataFrame\n",
    "# df = pd.DataFrame(data)\n",
    "\n",
    "# Split the 'symptoms' column into a list of symptoms\n",
    "df['Symptom'] = df['Symptom'].apply(lambda x: x.split(', '))\n",
    "\n",
    "# Use MultiLabelBinarizer to encode the symptoms as binary features\n",
    "mlb = MultiLabelBinarizer()\n",
    "symptom_matrix = mlb.fit_transform(df['Symptom'])\n",
    "\n",
    "# Convert the symptom matrix to a DataFrame\n",
    "symptom_df = pd.DataFrame(symptom_matrix, columns=mlb.classes_)\n",
    "\n",
    "# Merge the symptoms with the disease column\n",
    "X = symptom_df\n",
    "y = df['Disease']\n",
    "\n",
    "# Split the data into training and testing sets\n",
    "X_train, X_test, y_train, y_test = train_test_split(X, y, test_size=0.2, random_state=42)\n",
    "\n",
    "# Train a Random Forest classifier\n",
    "model = RandomForestClassifier(random_state=42)\n",
    "model.fit(X_train, y_train)\n",
    "\n",
    "# Predict on the test set\n",
    "y_pred = model.predict(X_test)\n",
    "\n",
    "# Evaluate the model\n",
    "accuracy = accuracy_score(y_test, y_pred)\n",
    "print(f\"Model Accuracy: {accuracy:.2f}\")\n",
    "\n",
    "# Example of predicting for new symptoms\n",
    "new_symptoms = ['itching', 'fever']\n",
    "new_data = mlb.transform([new_symptoms])\n",
    "new_prediction = model.predict(new_data)\n",
    "print(f\"Predicted Disease: {new_prediction[0]}\")\n"
   ]
  },
  {
   "cell_type": "code",
   "execution_count": 22,
   "id": "3e7250a9",
   "metadata": {},
   "outputs": [
    {
     "name": "stdout",
     "output_type": "stream",
     "text": [
      "Model Accuracy: 1.00\n",
      "Predicted Disease: Dengue\n"
     ]
    },
    {
     "name": "stderr",
     "output_type": "stream",
     "text": [
      "C:\\Users\\HP\\anaconda3\\Lib\\site-packages\\sklearn\\preprocessing\\_label.py:895: UserWarning: unknown class(es) ['fever', 'itching'] will be ignored\n",
      "  warnings.warn(\n"
     ]
    }
   ],
   "source": [
    "import pandas as pd\n",
    "from sklearn.model_selection import train_test_split\n",
    "from sklearn.ensemble import RandomForestClassifier\n",
    "from sklearn.preprocessing import MultiLabelBinarizer\n",
    "from sklearn.metrics import accuracy_score\n",
    "\n",
    "# # Sample dataset\n",
    "# data = {\n",
    "#     'disease': ['Disease1', 'Disease2', 'Disease1', 'Disease3'],\n",
    "#     'symptoms': [['itching', 'skin_rash', 'fever'], ['fever', 'cough'], ['itching', 'skin_rash'], ['cough', 'fever']]\n",
    "# }\n",
    "\n",
    "# # Convert to DataFrame\n",
    "# df = pd.DataFrame(data)\n",
    "\n",
    "# Use MultiLabelBinarizer to encode the symptoms as binary features\n",
    "mlb = MultiLabelBinarizer()\n",
    "symptom_matrix = mlb.fit_transform(df['Symptom'])\n",
    "\n",
    "# Convert the symptom matrix to a DataFrame with the same column names as the training data\n",
    "symptom_df = pd.DataFrame(symptom_matrix, columns=mlb.classes_)\n",
    "\n",
    "# Merge the symptoms with the disease column\n",
    "X = symptom_df\n",
    "y = df['Disease']\n",
    "\n",
    "# Split the data into training and testing sets\n",
    "X_train, X_test, y_train, y_test = train_test_split(X, y, test_size=0.2, random_state=42)\n",
    "\n",
    "# Train a Random Forest classifier\n",
    "model_r = RandomForestClassifier(random_state=42)\n",
    "model_r.fit(X_train, y_train)\n",
    "\n",
    "# Predict on the test set\n",
    "y_pred = model.predict(X_test)\n",
    "\n",
    "# Evaluate the model\n",
    "accuracy = accuracy_score(y_test, y_pred)\n",
    "print(f\"Model Accuracy: {accuracy:.2f}\")\n",
    "\n",
    "# Example of predicting for new symptoms\n",
    "new_symptoms = ['itching', 'fever']\n",
    "\n",
    "# Transform the new symptoms using the same MultiLabelBinarizer that was used during training\n",
    "new_data = mlb.transform([new_symptoms])\n",
    "\n",
    "# Ensure the new data has the same feature names as the training data\n",
    "new_data_df = pd.DataFrame(new_data, columns=mlb.classes_)\n",
    "\n",
    "# Predict the disease for the new symptoms\n",
    "new_prediction = model.predict(new_data_df)\n",
    "print(f\"Predicted Disease: {new_prediction[0]}\")\n"
   ]
  },
  {
   "cell_type": "markdown",
   "id": "cd89805b",
   "metadata": {},
   "source": [
    "# DT"
   ]
  },
  {
   "cell_type": "code",
   "execution_count": 23,
   "id": "68771a45",
   "metadata": {},
   "outputs": [],
   "source": [
    "# from sklearn.tree import DecisionTreeClassifier\n",
    "# from sklearn.pipeline import Pipeline\n",
    "# X = df['Symptom']\n",
    "# Y = df['Disease']\n",
    "# X_train, X_test, Y_train, Y_test = train_test_split(X, Y, test_size=0.25, shuffle=True, random_state=44)\n",
    "# text_clf_dt = Pipeline([('tfidf', TfidfVectorizer()),('clf', DecisionTreeClassifier(random_state=44)),])\n",
    "# text_clf_dt.fit(X_train, Y_train)\n",
    "# predictions = text_clf.predict(X_test)\n"
   ]
  },
  {
   "cell_type": "markdown",
   "id": "24abf6bd",
   "metadata": {},
   "source": [
    "# medication"
   ]
  },
  {
   "cell_type": "code",
   "execution_count": 24,
   "id": "b84e0cf8",
   "metadata": {},
   "outputs": [
    {
     "data": {
      "text/html": [
       "<div>\n",
       "<style scoped>\n",
       "    .dataframe tbody tr th:only-of-type {\n",
       "        vertical-align: middle;\n",
       "    }\n",
       "\n",
       "    .dataframe tbody tr th {\n",
       "        vertical-align: top;\n",
       "    }\n",
       "\n",
       "    .dataframe thead th {\n",
       "        text-align: right;\n",
       "    }\n",
       "</style>\n",
       "<table border=\"1\" class=\"dataframe\">\n",
       "  <thead>\n",
       "    <tr style=\"text-align: right;\">\n",
       "      <th></th>\n",
       "      <th>Name</th>\n",
       "      <th>DateOfBirth</th>\n",
       "      <th>Gender</th>\n",
       "      <th>Symptoms</th>\n",
       "      <th>Causes</th>\n",
       "      <th>Disease</th>\n",
       "      <th>Medicine</th>\n",
       "    </tr>\n",
       "  </thead>\n",
       "  <tbody>\n",
       "    <tr>\n",
       "      <th>0</th>\n",
       "      <td>John Doe</td>\n",
       "      <td>15-05-1980</td>\n",
       "      <td>Male</td>\n",
       "      <td>Fever, Cough</td>\n",
       "      <td>Viral Infection</td>\n",
       "      <td>Common Cold</td>\n",
       "      <td>Ibuprofen, Rest</td>\n",
       "    </tr>\n",
       "    <tr>\n",
       "      <th>1</th>\n",
       "      <td>Jane Smith</td>\n",
       "      <td>10-08-1992</td>\n",
       "      <td>Female</td>\n",
       "      <td>Headache, Fatigue</td>\n",
       "      <td>Stress</td>\n",
       "      <td>Migraine</td>\n",
       "      <td>Sumatriptan</td>\n",
       "    </tr>\n",
       "    <tr>\n",
       "      <th>2</th>\n",
       "      <td>Michael Lee</td>\n",
       "      <td>20-02-1975</td>\n",
       "      <td>Male</td>\n",
       "      <td>Shortness of breath</td>\n",
       "      <td>Pollution</td>\n",
       "      <td>Asthma</td>\n",
       "      <td>Albuterol Inhaler</td>\n",
       "    </tr>\n",
       "    <tr>\n",
       "      <th>3</th>\n",
       "      <td>Emily Chen</td>\n",
       "      <td>03-11-1988</td>\n",
       "      <td>Female</td>\n",
       "      <td>Nausea, Vomiting</td>\n",
       "      <td>Food Poisoning</td>\n",
       "      <td>Gastroenteritis</td>\n",
       "      <td>Oral Rehydration</td>\n",
       "    </tr>\n",
       "    <tr>\n",
       "      <th>4</th>\n",
       "      <td>Alex Wong</td>\n",
       "      <td>12-06-2001</td>\n",
       "      <td>Male</td>\n",
       "      <td>Sore Throat</td>\n",
       "      <td>Bacterial Infection</td>\n",
       "      <td>Strep Throat</td>\n",
       "      <td>Penicillin</td>\n",
       "    </tr>\n",
       "  </tbody>\n",
       "</table>\n",
       "</div>"
      ],
      "text/plain": [
       "          Name DateOfBirth  Gender             Symptoms               Causes  \\\n",
       "0     John Doe  15-05-1980    Male         Fever, Cough      Viral Infection   \n",
       "1   Jane Smith  10-08-1992  Female    Headache, Fatigue               Stress   \n",
       "2  Michael Lee  20-02-1975    Male  Shortness of breath            Pollution   \n",
       "3   Emily Chen  03-11-1988  Female     Nausea, Vomiting       Food Poisoning   \n",
       "4    Alex Wong  12-06-2001    Male          Sore Throat  Bacterial Infection   \n",
       "\n",
       "           Disease           Medicine  \n",
       "0      Common Cold    Ibuprofen, Rest  \n",
       "1         Migraine        Sumatriptan  \n",
       "2           Asthma  Albuterol Inhaler  \n",
       "3  Gastroenteritis   Oral Rehydration  \n",
       "4     Strep Throat         Penicillin  "
      ]
     },
     "execution_count": 24,
     "metadata": {},
     "output_type": "execute_result"
    }
   ],
   "source": [
    "data = pd.read_csv(r\"C:\\\\Users\\\\HP\\\\OneDrive\\\\Documents\\\\minor_srm\\\\medicaldata.csv\")\n",
    "data.head()"
   ]
  },
  {
   "cell_type": "code",
   "execution_count": 25,
   "id": "f1f0e51e",
   "metadata": {},
   "outputs": [
    {
     "name": "stdout",
     "output_type": "stream",
     "text": [
      "<class 'pandas.core.frame.DataFrame'>\n",
      "RangeIndex: 287 entries, 0 to 286\n",
      "Data columns (total 7 columns):\n",
      " #   Column       Non-Null Count  Dtype \n",
      "---  ------       --------------  ----- \n",
      " 0   Name         241 non-null    object\n",
      " 1   DateOfBirth  241 non-null    object\n",
      " 2   Gender       242 non-null    object\n",
      " 3   Symptoms     247 non-null    object\n",
      " 4   Causes       245 non-null    object\n",
      " 5   Disease      249 non-null    object\n",
      " 6   Medicine     242 non-null    object\n",
      "dtypes: object(7)\n",
      "memory usage: 15.8+ KB\n"
     ]
    }
   ],
   "source": [
    "data.info()"
   ]
  },
  {
   "cell_type": "code",
   "execution_count": 26,
   "id": "04994ef7",
   "metadata": {},
   "outputs": [
    {
     "data": {
      "text/plain": [
       "Name           46\n",
       "DateOfBirth    46\n",
       "Gender         45\n",
       "Symptoms       40\n",
       "Causes         42\n",
       "Disease        38\n",
       "Medicine       45\n",
       "dtype: int64"
      ]
     },
     "execution_count": 26,
     "metadata": {},
     "output_type": "execute_result"
    }
   ],
   "source": [
    "data.isnull().sum()"
   ]
  },
  {
   "cell_type": "code",
   "execution_count": 27,
   "id": "2c2d84a1",
   "metadata": {},
   "outputs": [
    {
     "name": "stderr",
     "output_type": "stream",
     "text": [
      "C:\\Users\\HP\\AppData\\Local\\Temp\\ipykernel_2028\\3982565634.py:2: UserWarning: Parsing dates in %d-%m-%Y format when dayfirst=False (the default) was specified. Pass `dayfirst=True` or specify a format to silence this warning.\n",
      "  data['DateOfBirth'] = pd.to_datetime(data['DateOfBirth'], errors='coerce')\n"
     ]
    }
   ],
   "source": [
    "missing_values = data.isnull().sum()\n",
    "data['DateOfBirth'] = pd.to_datetime(data['DateOfBirth'], errors='coerce')\n",
    "median_date = data['DateOfBirth'].dropna().median()\n",
    "data['DateOfBirth'].fillna(median_date, inplace=True)\n",
    "categorical_columns = ['Gender', 'Symptoms', 'Causes', 'Disease', 'Medicine']\n",
    "for column in categorical_columns:\n",
    "    data[column].fillna(data[column].mode()[0], inplace=True)"
   ]
  },
  {
   "cell_type": "code",
   "execution_count": 28,
   "id": "54946ea5",
   "metadata": {},
   "outputs": [],
   "source": [
    "data['Name'].fillna('Unknown', inplace=True)"
   ]
  },
  {
   "cell_type": "code",
   "execution_count": 29,
   "id": "f7f1380f",
   "metadata": {},
   "outputs": [
    {
     "data": {
      "text/plain": [
       "Name           0\n",
       "DateOfBirth    0\n",
       "Gender         0\n",
       "Symptoms       0\n",
       "Causes         0\n",
       "Disease        0\n",
       "Medicine       0\n",
       "dtype: int64"
      ]
     },
     "execution_count": 29,
     "metadata": {},
     "output_type": "execute_result"
    }
   ],
   "source": [
    "data.isnull().sum()"
   ]
  },
  {
   "cell_type": "code",
   "execution_count": 30,
   "id": "8316e10e",
   "metadata": {},
   "outputs": [
    {
     "data": {
      "text/plain": [
       "Medicine\n",
       "Rest, Lifestyle            47\n",
       "NSAIDs                     11\n",
       "Rest, Stretching            9\n",
       "Oral Rehydration            9\n",
       "Rest, Eye Exercises         8\n",
       "Pain Relievers, PT          7\n",
       "Rest, Pain Relievers        7\n",
       "Fluids, Rest                7\n",
       "Antibiotics, Rest           6\n",
       "Dimenhydrinate              6\n",
       "Fluids, Bland Diet          6\n",
       "Therapy, Medication         5\n",
       "Antacids                    5\n",
       "Topical Steroids            5\n",
       "Isolation, Fluids           5\n",
       "Penicillin                  5\n",
       "CPAP Machine                4\n",
       "Pain Relievers              4\n",
       "Relaxation, NSAIDs          4\n",
       "Antihistamine               4\n",
       "Iron Supplements            4\n",
       "Levothyroxine               3\n",
       "Cognitive Therapy           3\n",
       " Antihistamine              2\n",
       "Nitroglycerin,Aspirin       2\n",
       "Sumatriptan                 2\n",
       "on   Antihistamine          2\n",
       " Therapy, Medication        2\n",
       "Hydration, Rest             2\n",
       "Amlodipine                  2\n",
       "Antivirals, Rest            2\n",
       "  Rest, Lifestyle           1\n",
       " Rest, Pain Relievers       1\n",
       "  Levothyroxine             1\n",
       " Pain Relievers             1\n",
       "  Isolation, Fluids         1\n",
       " Levothyroxine              1\n",
       "tihistamine                 1\n",
       "  Nitroglycerin,Aspirin     1\n",
       "Inhalers                    1\n",
       "Nitroglycerin               1\n",
       "Ibuprofen, Rest             1\n",
       "Antacids, Rest              1\n",
       "Acetaminophen               1\n",
       "Rehydration                 1\n",
       "  NSAIDs                    1\n",
       "Beta-blockers               1\n",
       " Rest, Lifestyle            1\n",
       "Eye Exercises               1\n",
       "  Fluids, Bland Diet        1\n",
       "virals, Rest                1\n",
       "Aspirin                     1\n",
       "axation, NSAIDs             1\n",
       " Antibiotics, Rest          1\n",
       "  Oral Rehydration          1\n",
       "n Relievers                 1\n",
       "Name: count, dtype: int64"
      ]
     },
     "execution_count": 30,
     "metadata": {},
     "output_type": "execute_result"
    }
   ],
   "source": [
    "X_medicine = data['Medicine']\n",
    "Y_medicine = data['Symptoms']\n",
    "X_train_medicine, X_test_medicine, Y_train_medicine, Y_test_medicine = train_test_split(X_medicine, Y_medicine, test_size=0.25, shuffle=True, random_state=44)\n",
    "X_train_medicine.head(10)\n",
    "X_train_medicine.value_counts()"
   ]
  },
  {
   "cell_type": "code",
   "execution_count": 31,
   "id": "6c65b4a2",
   "metadata": {},
   "outputs": [
    {
     "data": {
      "text/plain": [
       "(215, 44)"
      ]
     },
     "execution_count": 31,
     "metadata": {},
     "output_type": "execute_result"
    }
   ],
   "source": [
    "from sklearn.feature_extraction.text import TfidfVectorizer\n",
    "vectorizer = TfidfVectorizer()\n",
    "\n",
    "Y_train_medicine_tfidf = vectorizer.fit_transform(Y_train_medicine)\n",
    "Y_train_medicine_tfidf.shape"
   ]
  },
  {
   "cell_type": "code",
   "execution_count": 32,
   "id": "91a0a3ae",
   "metadata": {},
   "outputs": [
    {
     "data": {
      "text/plain": [
       "0        (0, 43)\\t0.7633059160515471\\n  (0, 18)\\t0.64...\n",
       "1        (0, 8)\\t0.5901391638127799\\n  (0, 27)\\t0.567...\n",
       "2        (0, 28)\\t0.32747998470009276\\n  (0, 10)\\t0.5...\n",
       "3        (0, 23)\\t0.7634320868466464\\n  (0, 28)\\t0.47...\n",
       "4        (0, 43)\\t0.7633059160515471\\n  (0, 18)\\t0.64...\n",
       "                             ...                        \n",
       "210      (0, 43)\\t0.7633059160515471\\n  (0, 18)\\t0.64...\n",
       "211      (0, 32)\\t0.7431304281799951\\n  (0, 22)\\t0.66...\n",
       "212      (0, 43)\\t0.7633059160515471\\n  (0, 18)\\t0.64...\n",
       "213      (0, 8)\\t0.720999388782707\\n  (0, 27)\\t0.6929...\n",
       "214      (0, 13)\\t0.8316833684814849\\n  (0, 25)\\t0.55...\n",
       "Name: 0, Length: 215, dtype: object"
      ]
     },
     "execution_count": 32,
     "metadata": {},
     "output_type": "execute_result"
    }
   ],
   "source": [
    "pd.DataFrame(Y_train_medicine_tfidf)[0]"
   ]
  },
  {
   "cell_type": "code",
   "execution_count": 33,
   "id": "c427f67f",
   "metadata": {},
   "outputs": [
    {
     "data": {
      "text/plain": [
       "0        (0, 43)\\t0.7633059160515471\\n  (0, 18)\\t0.64...\n",
       "1        (0, 8)\\t0.5901391638127799\\n  (0, 27)\\t0.567...\n",
       "2        (0, 28)\\t0.32747998470009276\\n  (0, 10)\\t0.5...\n",
       "3        (0, 23)\\t0.7634320868466464\\n  (0, 28)\\t0.47...\n",
       "4        (0, 43)\\t0.7633059160515471\\n  (0, 18)\\t0.64...\n",
       "                             ...                        \n",
       "210      (0, 43)\\t0.7633059160515471\\n  (0, 18)\\t0.64...\n",
       "211      (0, 32)\\t0.7431304281799951\\n  (0, 22)\\t0.66...\n",
       "212      (0, 43)\\t0.7633059160515471\\n  (0, 18)\\t0.64...\n",
       "213      (0, 8)\\t0.720999388782707\\n  (0, 27)\\t0.6929...\n",
       "214      (0, 13)\\t0.8316833684814849\\n  (0, 25)\\t0.55...\n",
       "Name: 0, Length: 215, dtype: object"
      ]
     },
     "execution_count": 33,
     "metadata": {},
     "output_type": "execute_result"
    }
   ],
   "source": [
    "pd.DataFrame(Y_train_medicine_tfidf)[0]"
   ]
  },
  {
   "cell_type": "code",
   "execution_count": 34,
   "id": "a67ad8b6",
   "metadata": {},
   "outputs": [],
   "source": [
    "from sklearn.pipeline import Pipeline\n",
    "text_clf_m = Pipeline([('tfidf', TfidfVectorizer()),\n",
    "                     ('clf', LinearSVC()),])\n",
    "\n",
    "\n",
    "text_clf_m.fit(Y_train_medicine, X_train_medicine)  \n",
    "\n",
    "\n",
    "predictions = text_clf_m.predict(Y_test_medicine)"
   ]
  },
  {
   "cell_type": "code",
   "execution_count": 35,
   "id": "d7bda706",
   "metadata": {},
   "outputs": [
    {
     "name": "stdout",
     "output_type": "stream",
     "text": [
      "[[0 0 0 ... 0 0 0]\n",
      " [0 0 0 ... 0 0 0]\n",
      " [0 0 0 ... 0 0 0]\n",
      " ...\n",
      " [0 0 0 ... 2 0 0]\n",
      " [0 0 0 ... 0 0 0]\n",
      " [0 0 0 ... 0 0 0]]\n"
     ]
    }
   ],
   "source": [
    "from sklearn import metrics\n",
    "print(metrics.confusion_matrix(X_test_medicine,predictions))"
   ]
  },
  {
   "cell_type": "code",
   "execution_count": 36,
   "id": "26198216",
   "metadata": {},
   "outputs": [
    {
     "name": "stdout",
     "output_type": "stream",
     "text": [
      "                      precision    recall  f1-score   support\n",
      "\n",
      "      Dimenhydrinate       0.00      0.00      0.00         2\n",
      "     Hydration, Rest       0.00      0.00      0.00         1\n",
      "          Sertraline       0.00      0.00      0.00         1\n",
      "   Albuterol Inhaler       0.00      0.00      0.00         2\n",
      "            Antacids       0.67      1.00      0.80         2\n",
      "   Antibiotics, Rest       1.00      1.00      1.00         6\n",
      "       Antihistamine       1.00      1.00      1.00         3\n",
      "    Antivirals, Rest       0.67      1.00      0.80         2\n",
      "        CPAP Machine       0.33      1.00      0.50         1\n",
      "   Cognitive Therapy       1.00      1.00      1.00         2\n",
      "      Dimenhydrinate       0.60      1.00      0.75         3\n",
      "  Fluids, Bland Diet       1.00      1.00      1.00         2\n",
      "        Fluids, Rest       1.00      1.00      1.00         3\n",
      "  Ginger, Vitamin B6       0.00      0.00      0.00         1\n",
      "         Honey, Rest       0.00      0.00      0.00         1\n",
      "     Hydration, Rest       0.33      1.00      0.50         1\n",
      "     Ibuprofen, Rest       0.00      0.00      0.00         1\n",
      "    Iron Supplements       0.00      0.00      0.00         1\n",
      "   Isolation, Fluids       0.80      1.00      0.89         4\n",
      "              NSAIDs       1.00      1.00      1.00         4\n",
      "       Nitroglycerin       0.00      0.00      0.00         1\n",
      "    Oral Rehydration       0.50      1.00      0.67         1\n",
      "      Pain Relievers       1.00      1.00      1.00         2\n",
      "  Pain Relievers, PT       1.00      1.00      1.00         2\n",
      " Rest, Eye Exercises       1.00      1.00      1.00         1\n",
      "     Rest, Lifestyle       0.82      1.00      0.90        14\n",
      "Rest, Pain Relievers       1.00      1.00      1.00         2\n",
      "    Rest, Stretching       0.50      1.00      0.67         1\n",
      "          Sertraline       0.00      0.00      0.00         1\n",
      " Therapy, Medication       1.00      1.00      1.00         2\n",
      "         ation, Rest       0.00      0.00      0.00         1\n",
      "                cids       0.00      0.00      0.00         1\n",
      "\n",
      "            accuracy                           0.81        72\n",
      "           macro avg       0.51      0.62      0.55        72\n",
      "        weighted avg       0.69      0.81      0.74        72\n",
      "\n"
     ]
    },
    {
     "name": "stderr",
     "output_type": "stream",
     "text": [
      "C:\\Users\\HP\\anaconda3\\Lib\\site-packages\\sklearn\\metrics\\_classification.py:1344: UndefinedMetricWarning: Precision and F-score are ill-defined and being set to 0.0 in labels with no predicted samples. Use `zero_division` parameter to control this behavior.\n",
      "  _warn_prf(average, modifier, msg_start, len(result))\n",
      "C:\\Users\\HP\\anaconda3\\Lib\\site-packages\\sklearn\\metrics\\_classification.py:1344: UndefinedMetricWarning: Precision and F-score are ill-defined and being set to 0.0 in labels with no predicted samples. Use `zero_division` parameter to control this behavior.\n",
      "  _warn_prf(average, modifier, msg_start, len(result))\n",
      "C:\\Users\\HP\\anaconda3\\Lib\\site-packages\\sklearn\\metrics\\_classification.py:1344: UndefinedMetricWarning: Precision and F-score are ill-defined and being set to 0.0 in labels with no predicted samples. Use `zero_division` parameter to control this behavior.\n",
      "  _warn_prf(average, modifier, msg_start, len(result))\n"
     ]
    }
   ],
   "source": [
    "print(metrics.classification_report(X_test_medicine,predictions)) "
   ]
  },
  {
   "cell_type": "code",
   "execution_count": 37,
   "id": "f47a88a6",
   "metadata": {},
   "outputs": [
    {
     "name": "stdout",
     "output_type": "stream",
     "text": [
      "0.8055555555555556\n"
     ]
    }
   ],
   "source": [
    "print(metrics.accuracy_score(X_test_medicine,predictions))"
   ]
  },
  {
   "cell_type": "code",
   "execution_count": 38,
   "id": "6ed6bf2a",
   "metadata": {},
   "outputs": [
    {
     "ename": "ValueError",
     "evalue": "X has 44 features, but LinearSVC is expecting 135 features as input.",
     "output_type": "error",
     "traceback": [
      "\u001b[1;31m---------------------------------------------------------------------------\u001b[0m",
      "\u001b[1;31mValueError\u001b[0m                                Traceback (most recent call last)",
      "Cell \u001b[1;32mIn[38], line 2\u001b[0m\n\u001b[0;32m      1\u001b[0m processed_input \u001b[38;5;241m=\u001b[39m vectorizer\u001b[38;5;241m.\u001b[39mtransform([\u001b[38;5;124m\"\u001b[39m\u001b[38;5;124m \u001b[39m\u001b[38;5;124m\"\u001b[39m\u001b[38;5;241m.\u001b[39mjoin(input_symptoms)])  \u001b[38;5;66;03m# Adjust this based on the preprocessing steps\u001b[39;00m\n\u001b[1;32m----> 2\u001b[0m recommended_medicine \u001b[38;5;241m=\u001b[39m clf\u001b[38;5;241m.\u001b[39mpredict(processed_input)\n\u001b[0;32m      3\u001b[0m \u001b[38;5;28mprint\u001b[39m(\u001b[38;5;124mf\u001b[39m\u001b[38;5;124m\"\u001b[39m\u001b[38;5;124mThe recommended medicine is: \u001b[39m\u001b[38;5;132;01m{\u001b[39;00mrecommended_medicine[\u001b[38;5;241m0\u001b[39m]\u001b[38;5;132;01m}\u001b[39;00m\u001b[38;5;124m\"\u001b[39m)\n",
      "File \u001b[1;32m~\\anaconda3\\Lib\\site-packages\\sklearn\\linear_model\\_base.py:419\u001b[0m, in \u001b[0;36mLinearClassifierMixin.predict\u001b[1;34m(self, X)\u001b[0m\n\u001b[0;32m    405\u001b[0m \u001b[38;5;250m\u001b[39m\u001b[38;5;124;03m\"\"\"\u001b[39;00m\n\u001b[0;32m    406\u001b[0m \u001b[38;5;124;03mPredict class labels for samples in X.\u001b[39;00m\n\u001b[0;32m    407\u001b[0m \n\u001b[1;32m   (...)\u001b[0m\n\u001b[0;32m    416\u001b[0m \u001b[38;5;124;03m    Vector containing the class labels for each sample.\u001b[39;00m\n\u001b[0;32m    417\u001b[0m \u001b[38;5;124;03m\"\"\"\u001b[39;00m\n\u001b[0;32m    418\u001b[0m xp, _ \u001b[38;5;241m=\u001b[39m get_namespace(X)\n\u001b[1;32m--> 419\u001b[0m scores \u001b[38;5;241m=\u001b[39m \u001b[38;5;28mself\u001b[39m\u001b[38;5;241m.\u001b[39mdecision_function(X)\n\u001b[0;32m    420\u001b[0m \u001b[38;5;28;01mif\u001b[39;00m \u001b[38;5;28mlen\u001b[39m(scores\u001b[38;5;241m.\u001b[39mshape) \u001b[38;5;241m==\u001b[39m \u001b[38;5;241m1\u001b[39m:\n\u001b[0;32m    421\u001b[0m     indices \u001b[38;5;241m=\u001b[39m xp\u001b[38;5;241m.\u001b[39mastype(scores \u001b[38;5;241m>\u001b[39m \u001b[38;5;241m0\u001b[39m, \u001b[38;5;28mint\u001b[39m)\n",
      "File \u001b[1;32m~\\anaconda3\\Lib\\site-packages\\sklearn\\linear_model\\_base.py:400\u001b[0m, in \u001b[0;36mLinearClassifierMixin.decision_function\u001b[1;34m(self, X)\u001b[0m\n\u001b[0;32m    397\u001b[0m check_is_fitted(\u001b[38;5;28mself\u001b[39m)\n\u001b[0;32m    398\u001b[0m xp, _ \u001b[38;5;241m=\u001b[39m get_namespace(X)\n\u001b[1;32m--> 400\u001b[0m X \u001b[38;5;241m=\u001b[39m \u001b[38;5;28mself\u001b[39m\u001b[38;5;241m.\u001b[39m_validate_data(X, accept_sparse\u001b[38;5;241m=\u001b[39m\u001b[38;5;124m\"\u001b[39m\u001b[38;5;124mcsr\u001b[39m\u001b[38;5;124m\"\u001b[39m, reset\u001b[38;5;241m=\u001b[39m\u001b[38;5;28;01mFalse\u001b[39;00m)\n\u001b[0;32m    401\u001b[0m scores \u001b[38;5;241m=\u001b[39m safe_sparse_dot(X, \u001b[38;5;28mself\u001b[39m\u001b[38;5;241m.\u001b[39mcoef_\u001b[38;5;241m.\u001b[39mT, dense_output\u001b[38;5;241m=\u001b[39m\u001b[38;5;28;01mTrue\u001b[39;00m) \u001b[38;5;241m+\u001b[39m \u001b[38;5;28mself\u001b[39m\u001b[38;5;241m.\u001b[39mintercept_\n\u001b[0;32m    402\u001b[0m \u001b[38;5;28;01mreturn\u001b[39;00m xp\u001b[38;5;241m.\u001b[39mreshape(scores, \u001b[38;5;241m-\u001b[39m\u001b[38;5;241m1\u001b[39m) \u001b[38;5;28;01mif\u001b[39;00m scores\u001b[38;5;241m.\u001b[39mshape[\u001b[38;5;241m1\u001b[39m] \u001b[38;5;241m==\u001b[39m \u001b[38;5;241m1\u001b[39m \u001b[38;5;28;01melse\u001b[39;00m scores\n",
      "File \u001b[1;32m~\\anaconda3\\Lib\\site-packages\\sklearn\\base.py:588\u001b[0m, in \u001b[0;36mBaseEstimator._validate_data\u001b[1;34m(self, X, y, reset, validate_separately, **check_params)\u001b[0m\n\u001b[0;32m    585\u001b[0m     out \u001b[38;5;241m=\u001b[39m X, y\n\u001b[0;32m    587\u001b[0m \u001b[38;5;28;01mif\u001b[39;00m \u001b[38;5;129;01mnot\u001b[39;00m no_val_X \u001b[38;5;129;01mand\u001b[39;00m check_params\u001b[38;5;241m.\u001b[39mget(\u001b[38;5;124m\"\u001b[39m\u001b[38;5;124mensure_2d\u001b[39m\u001b[38;5;124m\"\u001b[39m, \u001b[38;5;28;01mTrue\u001b[39;00m):\n\u001b[1;32m--> 588\u001b[0m     \u001b[38;5;28mself\u001b[39m\u001b[38;5;241m.\u001b[39m_check_n_features(X, reset\u001b[38;5;241m=\u001b[39mreset)\n\u001b[0;32m    590\u001b[0m \u001b[38;5;28;01mreturn\u001b[39;00m out\n",
      "File \u001b[1;32m~\\anaconda3\\Lib\\site-packages\\sklearn\\base.py:389\u001b[0m, in \u001b[0;36mBaseEstimator._check_n_features\u001b[1;34m(self, X, reset)\u001b[0m\n\u001b[0;32m    386\u001b[0m     \u001b[38;5;28;01mreturn\u001b[39;00m\n\u001b[0;32m    388\u001b[0m \u001b[38;5;28;01mif\u001b[39;00m n_features \u001b[38;5;241m!=\u001b[39m \u001b[38;5;28mself\u001b[39m\u001b[38;5;241m.\u001b[39mn_features_in_:\n\u001b[1;32m--> 389\u001b[0m     \u001b[38;5;28;01mraise\u001b[39;00m \u001b[38;5;167;01mValueError\u001b[39;00m(\n\u001b[0;32m    390\u001b[0m         \u001b[38;5;124mf\u001b[39m\u001b[38;5;124m\"\u001b[39m\u001b[38;5;124mX has \u001b[39m\u001b[38;5;132;01m{\u001b[39;00mn_features\u001b[38;5;132;01m}\u001b[39;00m\u001b[38;5;124m features, but \u001b[39m\u001b[38;5;132;01m{\u001b[39;00m\u001b[38;5;28mself\u001b[39m\u001b[38;5;241m.\u001b[39m\u001b[38;5;18m__class__\u001b[39m\u001b[38;5;241m.\u001b[39m\u001b[38;5;18m__name__\u001b[39m\u001b[38;5;132;01m}\u001b[39;00m\u001b[38;5;124m \u001b[39m\u001b[38;5;124m\"\u001b[39m\n\u001b[0;32m    391\u001b[0m         \u001b[38;5;124mf\u001b[39m\u001b[38;5;124m\"\u001b[39m\u001b[38;5;124mis expecting \u001b[39m\u001b[38;5;132;01m{\u001b[39;00m\u001b[38;5;28mself\u001b[39m\u001b[38;5;241m.\u001b[39mn_features_in_\u001b[38;5;132;01m}\u001b[39;00m\u001b[38;5;124m features as input.\u001b[39m\u001b[38;5;124m\"\u001b[39m\n\u001b[0;32m    392\u001b[0m     )\n",
      "\u001b[1;31mValueError\u001b[0m: X has 44 features, but LinearSVC is expecting 135 features as input."
     ]
    }
   ],
   "source": [
    "# processed_input = vectorizer.transform([\" \".join(input_symptoms)])  # Adjust this based on the preprocessing steps\n",
    "# recommended_medicine = clf.predict(processed_input)\n",
    "# print(f\"The recommended medicine is: {recommended_medicine[0]}\")"
   ]
  },
  {
   "cell_type": "code",
   "execution_count": 39,
   "id": "ec378f34",
   "metadata": {},
   "outputs": [],
   "source": [
    "import tkinter as tk\n",
    "from tkinter import messagebox\n",
    "import pickle  # To load your trained model\n",
    "import numpy as np\n",
    "\n",
    "with open(\"disease_model.pkl\", \"wb\") as file:\n",
    "    pickle.dump(text_clf, file)\n",
    "    \n",
    "with open(\"disease_model_med.pkl\", \"wb\") as file:\n",
    "    pickle.dump(text_clf_m, file)"
   ]
  },
  {
   "cell_type": "code",
   "execution_count": 40,
   "id": "558433a6",
   "metadata": {},
   "outputs": [
    {
     "name": "stdout",
     "output_type": "stream",
     "text": [
      "User inputs: ['cough', 'fever', '', '', '', '', '', '', '', '']\n",
      "Inputs array: ['cough', 'fever', '', '', '', '', '', '', '', '']\n",
      "User inputs: ['fever', 'chills', '', '', '', '', '', '', '', '']\n",
      "Inputs array: ['fever', 'chills', '', '', '', '', '', '', '', '']\n",
      "User inputs: ['fever', 'headache', 'fatigue', '', '', '', '', '', '', '']\n",
      "Inputs array: ['fever', 'headache', 'fatigue', '', '', '', '', '', '', '']\n",
      "User inputs: ['fatigue', 'headache', 'fever', '', '', '', '', '', '', '']\n",
      "Inputs array: ['fatigue', 'headache', 'fever', '', '', '', '', '', '', '']\n",
      "User inputs: ['fatigue', 'headache', '', '', '', '', '', '', '', '']\n",
      "Inputs array: ['fatigue', 'headache', '', '', '', '', '', '', '', '']\n",
      "User inputs: ['', 'headache', '', '', '', '', '', '', '', '']\n",
      "Inputs array: ['', 'headache', '', '', '', '', '', '', '', '']\n",
      "User inputs: ['chest pain', 'breathlessness', '', '', '', '', '', '', '', '']\n",
      "Inputs array: ['chest pain', 'breathlessness', '', '', '', '', '', '', '', '']\n",
      "User inputs: ['chest', 'breathlessness', '', '', '', '', '', '', '', '']\n",
      "Inputs array: ['chest', 'breathlessness', '', '', '', '', '', '', '', '']\n",
      "User inputs: ['breathlessness', 'chest pain', 'sweating', '', '', '', '', '', '', '']\n",
      "Inputs array: ['breathlessness', 'chest pain', 'sweating', '', '', '', '', '', '', '']\n"
     ]
    }
   ],
   "source": [
    "def predict_disease():\n",
    "    try:\n",
    "        # Retrieve and preprocess inputs from entry fields\n",
    "        inputs = [entry.get().strip() for entry in entries]\n",
    "        print(\"User inputs:\", inputs)  # Debugging input values\n",
    "\n",
    "        # Preprocess strings if needed\n",
    "        inputs = [x.lower() for x in inputs]  # Example: Convert to lowercase\n",
    "        \n",
    "        # Convert to array\n",
    "#         inputs_array = np.array(inputs).reshape(1, -1)\n",
    "        print(\"Inputs array:\", inputs)  # Debugging preprocessed array\n",
    "        \n",
    "        # Make prediction\n",
    "        #         input_symptoms = [\"headache nausea blurred vision\"]\n",
    "        predicted_disease = text_clf.predict(inputs)\n",
    "        recommended_medicine = text_clf_m.predict(inputs)\n",
    "#         print(f\"The predicted disease is: {predicted_disease[0]}\")\n",
    "        \n",
    "#         prediction = text_clf.predict(inputs)\n",
    "        messagebox.showinfo(\"Prediction Result\", f\"Predicted Disease: {predicted_disease[0]}\")\n",
    "        messagebox.showinfo(\"Prediction Result\", f\"Recommended Medicines/ Precautions: {recommended_medicine[0]}\")\n",
    "    \n",
    "    except Exception as e:\n",
    "        messagebox.showerror(\"Error\", f\"An error occurred: {e}\")\n",
    "\n",
    "from PIL import Image, ImageTk\n",
    "\n",
    "# Initialize the Tkinter root window\n",
    "root = tk.Tk()\n",
    "root.title(\"Disease Prediction\")\n",
    "root.geometry(\"950x400\")  # Adjust the size as needed\n",
    "\n",
    "# Add an image at the top of the GUI\n",
    "image_ref = None\n",
    "\n",
    "# Add an image at the top of the GUI\n",
    "def add_image():\n",
    "    global image_ref  # Ensure the image object is not garbage collected\n",
    "    # Load the image using PIL\n",
    "    try:\n",
    "        img = Image.open(\"C:\\\\Users\\\\HP\\\\OneDrive\\\\Documents\\\\minor_srm\\\\disease_img.webp\")  # Replace with your image path\n",
    "        img = img.resize((300, 150), Image.Resampling.LANCZOS)  # Resize the image to fit the top area\n",
    "        image_ref = ImageTk.PhotoImage(img)\n",
    "\n",
    "        # Create a label to display the image\n",
    "        img_label = tk.Label(root, image=image_ref)\n",
    "        img_label.pack(pady=10)  # Add some padding for spacing\n",
    "    except Exception as e:\n",
    "        print(f\"Error loading image: {e}\")\n",
    "\n",
    "# Call the function to add the image\n",
    "add_image()\n",
    "# Define labels and entry fields for user input\n",
    "labels = [\n",
    "    \"Symptom 1\", \"Symptom 2\", \"Symptom 3\", \"Symptom 4\", \"Symptom 5\",\n",
    "    \"Symptom 6\", \"Symptom 7\", \"Symptom 8\", \"Symptom 9\", \"Symptom 10\"\n",
    "]  # Update with actual feature names\n",
    "\n",
    "entries = []\n",
    "\n",
    "# Create a frame to organize the grid layout\n",
    "frame = tk.Frame(root)\n",
    "frame.pack(padx=10, pady=10)\n",
    "\n",
    "# Add labels and entry fields in a grid\n",
    "for idx, label_text in enumerate(labels):\n",
    "    row, col = divmod(idx, 5)  # Change 5 to the number of columns you prefer\n",
    "    label = tk.Label(frame, text=label_text, font=(\"Arial\", 12))\n",
    "    label.grid(row=row * 2, column=col, padx=5, pady=5, sticky=\"w\")\n",
    "    entry = tk.Entry(frame, font=(\"Arial\", 12))\n",
    "    entry.grid(row=row * 2 + 1, column=col, padx=5, pady=5, sticky=\"w\")\n",
    "    entries.append(entry)\n",
    "\n",
    "# Prediction Button\n",
    "predict_button = tk.Button(root, text=\"Predict\", command=predict_disease, font=(\"Arial\", 14), bg=\"blue\", fg=\"white\")\n",
    "predict_button.pack(pady=20)\n",
    "\n",
    "# Run the Tkinter event loop\n",
    "root.mainloop()\n"
   ]
  },
  {
   "cell_type": "code",
   "execution_count": null,
   "id": "46620a7d",
   "metadata": {},
   "outputs": [],
   "source": []
  },
  {
   "cell_type": "code",
   "execution_count": null,
   "id": "0cc96f76",
   "metadata": {},
   "outputs": [],
   "source": []
  },
  {
   "cell_type": "code",
   "execution_count": null,
   "id": "6cc36ee3",
   "metadata": {},
   "outputs": [],
   "source": []
  }
 ],
 "metadata": {
  "kernelspec": {
   "display_name": "Python 3 (ipykernel)",
   "language": "python",
   "name": "python3"
  },
  "language_info": {
   "codemirror_mode": {
    "name": "ipython",
    "version": 3
   },
   "file_extension": ".py",
   "mimetype": "text/x-python",
   "name": "python",
   "nbconvert_exporter": "python",
   "pygments_lexer": "ipython3",
   "version": "3.11.7"
  }
 },
 "nbformat": 4,
 "nbformat_minor": 5
}
